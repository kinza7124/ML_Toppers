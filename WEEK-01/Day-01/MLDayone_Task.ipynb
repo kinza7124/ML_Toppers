{
  "nbformat": 4,
  "nbformat_minor": 0,
  "metadata": {
    "colab": {
      "provenance": []
    },
    "kernelspec": {
      "name": "python3",
      "display_name": "Python 3"
    },
    "language_info": {
      "name": "python"
    }
  },
  "cells": [
    {
      "cell_type": "markdown",
      "source": [
        "**TASK-01: Student Report Card Generator**\n",
        "\n",
        "• Take Input from the User (name and age)\n",
        "\n",
        "• Take Input For 3 Subjects in a dictionary\n",
        "\n",
        "subject:marks (english, math, urdu)\n",
        "\n",
        "• Define a Function to Calculate Average of all subjects together\n",
        "\n",
        "• Grade Assignment using if/elif/else\n",
        "\n",
        "Average Score Grade\n",
        "\n",
        "80 or above A\n",
        "\n",
        "60 to 79 B\n",
        "\n",
        "40 to 59 C\n",
        "\n",
        "Below 40 F\n",
        "\n",
        "• Bonus give using lambda function (Ask the user: Add 5 bonus marks to all subjects? (yes/no))\n",
        "\n",
        "• Write the Report to a File\n",
        "\n",
        "Name: Ali\n",
        "\n",
        "Age: 20\n",
        "\n",
        "Math: 90\n",
        "\n",
        "English: 83\n",
        "\n",
        "Urdu: 95\n",
        "\n",
        "Average: 89.33\n",
        "\n",
        "Grade: A\n",
        "\n",
        "• Read and Display the Report Card\n"
      ],
      "metadata": {
        "id": "m9p02QIvyvjz"
      }
    },
    {
      "cell_type": "code",
      "source": [
        "name = input(\"What's your name? \")\n",
        "print(name)\n",
        "age = input(\"What's your age? \")\n",
        "print(age)\n",
        "\n",
        "subjects = [\"English\", \"Maths\", \"Urdu\"]\n",
        "marks = {}\n",
        "\n",
        "for key in subjects:\n",
        "    marks[key] = int(input(f\"Enter marks for {key}: \"))\n",
        "\n",
        "bonus_input = input(\"Do you want to add 5 bonus marks to each score? (yes/no): \").strip().lower()\n",
        "add_bonus = lambda x: x + 5 if bonus_input == \"yes\" else x\n",
        "\n",
        "for subject in subjects:\n",
        "    marks[subject] = add_bonus(marks[subject])\n",
        "\n",
        "def avg(scores):\n",
        "    return sum(scores) / len(scores)\n",
        "\n",
        "average = avg(list(marks.values()))\n",
        "print(f\"Average Marks: {average:.2f}\")\n",
        "\n",
        "if average >= 80:\n",
        "    grade = \"A\"\n",
        "elif 60 <= average <= 79:\n",
        "    grade = \"B\"\n",
        "elif 40 <= average <= 59:\n",
        "    grade = \"C\"\n",
        "else:\n",
        "    grade = \"F\"\n",
        "\n",
        "print(f\"Grade: {grade}\")\n",
        "with open(\"studentreport.txt\", \"w\") as file:\n",
        "    file.write(f\"Name: {name}\\n\")\n",
        "    file.write(f\"Age: {age}\\n\")\n",
        "    for subject in subjects:\n",
        "        file.write(f\"{subject}: {marks[subject]}\\n\")\n",
        "    file.write(f\"Average: {average:.2f}\\n\")\n",
        "    file.write(f\"Grade: {grade}\\n\")\n",
        "\n",
        "print(\"Student data has been written to 'studentreport.txt'.\")\n",
        "\n",
        "with open(\"studentreport.txt\", \"r\") as file:\n",
        "    print(\"\\nGenerated Report Card:\")\n",
        "    print(file.read())\n"
      ],
      "metadata": {
        "colab": {
          "base_uri": "https://localhost:8080/"
        },
        "id": "o8lUSI3py0vT",
        "outputId": "019d8525-a991-4ae9-be8f-8705c3595960"
      },
      "execution_count": 3,
      "outputs": [
        {
          "output_type": "stream",
          "name": "stdout",
          "text": [
            "What's your name? Kinza\n",
            "Kinza\n",
            "What's your age? 20\n",
            "20\n",
            "Enter marks for English: 85\n",
            "Enter marks for Maths: 90\n",
            "Enter marks for Urdu: 95\n",
            "Do you want to add 5 bonus marks to each score? (yes/no): yes\n",
            "Average Marks: 95.00\n",
            "Grade: A\n",
            "Student data has been written to 'studentreport.txt'.\n",
            "\n",
            "Generated Report Card:\n",
            "Name: Kinza\n",
            "Age: 20\n",
            "English: 90\n",
            "Maths: 95\n",
            "Urdu: 100\n",
            "Average: 95.00\n",
            "Grade: A\n",
            "\n"
          ]
        }
      ]
    }
  ]
}