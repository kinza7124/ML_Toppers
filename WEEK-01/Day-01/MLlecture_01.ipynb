{
  "nbformat": 4,
  "nbformat_minor": 0,
  "metadata": {
    "colab": {
      "provenance": []
    },
    "kernelspec": {
      "name": "python3",
      "display_name": "Python 3"
    },
    "language_info": {
      "name": "python"
    }
  },
  "cells": [
    {
      "cell_type": "markdown",
      "source": [
        "#Getting Started with Python\n",
        "##ML DAY-01\n",
        "Python Basics, variables, Python operators, Control structures, Functions, Basic I/O, File operations"
      ],
      "metadata": {
        "id": "7GRsmCxSmM0T"
      }
    },
    {
      "cell_type": "markdown",
      "source": [
        "\n",
        "**Python Variables:** Python has no command for declaring a variable. A variable is created the moment you first assign a value to it.\n",
        "\n",
        "**Getting type:** You can get the data type of a variable with the type() function.\n",
        "\n",
        "**Single or Double Quotes?** String variables can be declared either by using single or double quotes.\n",
        "\n",
        "**Case sensitive:** Case-Sensitive Variable names are case-sensitive."
      ],
      "metadata": {
        "id": "huaco5TybYPI"
      }
    },
    {
      "cell_type": "code",
      "execution_count": null,
      "metadata": {
        "colab": {
          "base_uri": "https://localhost:8080/"
        },
        "id": "FfpiFGrWbS_6",
        "outputId": "adb8095f-3a0d-4d2d-cb76-44053ab397d3"
      },
      "outputs": [
        {
          "output_type": "stream",
          "name": "stdout",
          "text": [
            "<class 'str'>\n",
            "<class 'int'>\n",
            "<class 'float'>\n",
            "<class 'bool'>\n",
            "Hello World\n",
            "Alice\n",
            "Bob\n"
          ]
        }
      ],
      "source": [
        "# 1. Variable Declaration (no need for explicit declaration)\n",
        "name = \"Alice\"        # String variable\n",
        "age = 25              # Integer variable\n",
        "height = 5.6          # Float variable\n",
        "is_student = True     # Boolean variable\n",
        "\n",
        "# 2. Getting the type of variables\n",
        "print(type(name))      # Output: <class 'str'>\n",
        "print(type(age))       # Output: <class 'int'>\n",
        "print(type(height))    # Output: <class 'float'>\n",
        "print(type(is_student))# Output: <class 'bool'>\n",
        "\n",
        "# 3. Single or Double Quotes for Strings\n",
        "msg1 = 'Hello'\n",
        "msg2 = \"World\"\n",
        "print(msg1 + \" \" + msg2)  # Output: Hello World\n",
        "\n",
        "# 4. Case-Sensitive Variables\n",
        "Name = \"Alice\"\n",
        "name = \"Bob\"\n",
        "print(Name)   # Output: Alice\n",
        "print(name)   # Output: Bob"
      ]
    },
    {
      "cell_type": "markdown",
      "source": [
        "**Many Values to Multiple Variables:** Python allows you to assign values to multiple variables in one line"
      ],
      "metadata": {
        "id": "3Ua7N-1pcG1b"
      }
    },
    {
      "cell_type": "code",
      "source": [
        "x, y, z = 10, 20, 30\n",
        "print(x)  # Output: 10\n",
        "print(y)  # Output: 20\n",
        "print(z)  # Output: 30"
      ],
      "metadata": {
        "colab": {
          "base_uri": "https://localhost:8080/"
        },
        "id": "0tJXnDJgcMDA",
        "outputId": "b4af0009-cc19-468c-e508-62db689af74b"
      },
      "execution_count": null,
      "outputs": [
        {
          "output_type": "stream",
          "name": "stdout",
          "text": [
            "10\n",
            "20\n",
            "30\n"
          ]
        }
      ]
    },
    {
      "cell_type": "markdown",
      "source": [
        "**One Value to Multiple Variables:** And you can assign the same value to multiple variables in one line"
      ],
      "metadata": {
        "id": "vVgGy2x_cQw1"
      }
    },
    {
      "cell_type": "code",
      "source": [
        "a = b = c = 100\n",
        "print(a)  # Output: 100\n",
        "print(b)  # Output: 100\n",
        "print(c)  # Output: 100"
      ],
      "metadata": {
        "colab": {
          "base_uri": "https://localhost:8080/"
        },
        "id": "5M02P330cWID",
        "outputId": "05d3e738-3f26-423e-bf24-790b38cb0bae"
      },
      "execution_count": null,
      "outputs": [
        {
          "output_type": "stream",
          "name": "stdout",
          "text": [
            "100\n",
            "100\n",
            "100\n"
          ]
        }
      ]
    },
    {
      "cell_type": "markdown",
      "source": [
        "**Unpacking a collection:** When you have a list, python allows you to unpack that list in to the variables"
      ],
      "metadata": {
        "id": "21r7Nu7Pcesf"
      }
    },
    {
      "cell_type": "code",
      "source": [
        "colors = [\"red\", \"green\", \"blue\"]\n",
        "c1, c2, c3 = colors\n",
        "print(c1)  # Output: red\n",
        "print(c2)  # Output: green\n",
        "print(c3)  # Output: blue"
      ],
      "metadata": {
        "colab": {
          "base_uri": "https://localhost:8080/"
        },
        "id": "eAEa33pschM6",
        "outputId": "fe912810-f700-430d-f667-3ff7e76e1ecc"
      },
      "execution_count": null,
      "outputs": [
        {
          "output_type": "stream",
          "name": "stdout",
          "text": [
            "red\n",
            "green\n",
            "blue\n"
          ]
        }
      ]
    },
    {
      "cell_type": "markdown",
      "source": [
        "**Python Casting:**"
      ],
      "metadata": {
        "id": "XhoAZ7WxcvjJ"
      }
    },
    {
      "cell_type": "code",
      "source": [
        "a = \"10\"\n",
        "b = \"3.14\"\n",
        "\n",
        "# Convert string to int and float\n",
        "int_a = int(a)       # 10\n",
        "float_b = float(b)   # 3.14\n",
        "\n",
        "# Convert int to float\n",
        "x = 7\n",
        "y = float(x)         # 7.0\n",
        "print(y)\n",
        "# Convert number to string\n",
        "n = 100\n",
        "text = str(n)        # \"100\"\n",
        "print(text)"
      ],
      "metadata": {
        "colab": {
          "base_uri": "https://localhost:8080/"
        },
        "id": "DyiYFMcDcx3S",
        "outputId": "2d4d1a0a-36cf-4deb-9ba8-e564c2a7f98d"
      },
      "execution_count": null,
      "outputs": [
        {
          "output_type": "stream",
          "name": "stdout",
          "text": [
            "7.0\n",
            "100\n"
          ]
        }
      ]
    },
    {
      "cell_type": "markdown",
      "source": [
        "**Python Operators:**"
      ],
      "metadata": {
        "id": "UfB5OLYmc5jQ"
      }
    },
    {
      "cell_type": "markdown",
      "source": [
        "Arithmetic Operators:"
      ],
      "metadata": {
        "id": "rV-kDIgtdfEU"
      }
    },
    {
      "cell_type": "code",
      "source": [
        "a = 9\n",
        "b = 2\n",
        "print(a % b)\n",
        "print(a // b)\n",
        "print(a ** b)\n"
      ],
      "metadata": {
        "colab": {
          "base_uri": "https://localhost:8080/"
        },
        "id": "yjXlyBAwdIwL",
        "outputId": "5bfb1975-aadb-47c6-9625-0009f49fe539"
      },
      "execution_count": null,
      "outputs": [
        {
          "output_type": "stream",
          "name": "stdout",
          "text": [
            "1\n",
            "4\n",
            "81\n"
          ]
        }
      ]
    },
    {
      "cell_type": "markdown",
      "source": [
        "Assignment Operators:"
      ],
      "metadata": {
        "id": "Llqel0aBdMLM"
      }
    },
    {
      "cell_type": "code",
      "source": [
        "x = 4\n",
        "x += 3\n",
        "x *= 2\n",
        "print(x)"
      ],
      "metadata": {
        "colab": {
          "base_uri": "https://localhost:8080/"
        },
        "id": "LMNnGyFtdO1w",
        "outputId": "fc1d10fa-8ee2-4dd4-d8f1-29e0781bcdfd"
      },
      "execution_count": null,
      "outputs": [
        {
          "output_type": "stream",
          "name": "stdout",
          "text": [
            "14\n"
          ]
        }
      ]
    },
    {
      "cell_type": "markdown",
      "source": [
        "Comparision Operators:"
      ],
      "metadata": {
        "id": "OeaAlq_HdQjp"
      }
    },
    {
      "cell_type": "code",
      "source": [
        "print(5 == 5)\n",
        "print(3 != 4)\n",
        "print(7 >= 10)"
      ],
      "metadata": {
        "colab": {
          "base_uri": "https://localhost:8080/"
        },
        "id": "V0irEPdedVAT",
        "outputId": "4286fd3a-d843-426a-fae8-9cd049378056"
      },
      "execution_count": null,
      "outputs": [
        {
          "output_type": "stream",
          "name": "stdout",
          "text": [
            "True\n",
            "True\n",
            "False\n"
          ]
        }
      ]
    },
    {
      "cell_type": "markdown",
      "source": [
        "Logical Operators:"
      ],
      "metadata": {
        "id": "KqIbaxE3daVM"
      }
    },
    {
      "cell_type": "code",
      "source": [
        "a = 5\n",
        "b = 2\n",
        "print(a > 3 and b < 1)\n",
        "print(a < 10 or b > 5)\n",
        "print(not (a == 5))"
      ],
      "metadata": {
        "colab": {
          "base_uri": "https://localhost:8080/"
        },
        "id": "u5CYKUd5ddHl",
        "outputId": "cb9230e5-3cb4-4605-e834-affbdb03c413"
      },
      "execution_count": null,
      "outputs": [
        {
          "output_type": "stream",
          "name": "stdout",
          "text": [
            "False\n",
            "True\n",
            "False\n"
          ]
        }
      ]
    },
    {
      "cell_type": "markdown",
      "source": [
        "**Control Structures:**\n",
        "\n",
        "If-elif-else"
      ],
      "metadata": {
        "id": "6vI1zcuadyoa"
      }
    },
    {
      "cell_type": "code",
      "source": [
        "a = 33\n",
        "b = 33\n",
        "if b > a:\n",
        "  print(\"b is greater than a\")\n",
        "elif a == b:\n",
        "  print(\"a and b are equal\")\n",
        "else:\n",
        "  print(\"a is greater than b\")"
      ],
      "metadata": {
        "colab": {
          "base_uri": "https://localhost:8080/"
        },
        "id": "sa12DCTxd35p",
        "outputId": "34fa5fd1-6fca-4c87-ef62-d011c79c914e"
      },
      "execution_count": null,
      "outputs": [
        {
          "output_type": "stream",
          "name": "stdout",
          "text": [
            "a and b are equal\n"
          ]
        }
      ]
    },
    {
      "cell_type": "markdown",
      "source": [
        "**and** keyword"
      ],
      "metadata": {
        "id": "3L3UTOBEeK15"
      }
    },
    {
      "cell_type": "code",
      "source": [
        "a = 200\n",
        "b = 33\n",
        "c = 500\n",
        "if a > b and c > a:\n",
        "  print(\"Both conditions are True\")"
      ],
      "metadata": {
        "colab": {
          "base_uri": "https://localhost:8080/"
        },
        "id": "9OPX6JQ0eNwn",
        "outputId": "d9185f7f-8f5a-419a-9a16-c7bf76ac6729"
      },
      "execution_count": null,
      "outputs": [
        {
          "output_type": "stream",
          "name": "stdout",
          "text": [
            "Both conditions are True\n"
          ]
        }
      ]
    },
    {
      "cell_type": "markdown",
      "source": [
        "**or** keyword"
      ],
      "metadata": {
        "id": "OUv8m6KWeSfO"
      }
    },
    {
      "cell_type": "code",
      "source": [
        "a = 200\n",
        "b = 33\n",
        "c = 500\n",
        "if a > b or a > c:\n",
        "  print(\"At least one of the conditions is True\")"
      ],
      "metadata": {
        "colab": {
          "base_uri": "https://localhost:8080/"
        },
        "id": "oPc4IVVeeU8Q",
        "outputId": "910516e6-f7b2-4925-9d3a-40c24e06cd9c"
      },
      "execution_count": null,
      "outputs": [
        {
          "output_type": "stream",
          "name": "stdout",
          "text": [
            "At least one of the conditions is True\n"
          ]
        }
      ]
    },
    {
      "cell_type": "markdown",
      "source": [
        "**not** keyword"
      ],
      "metadata": {
        "id": "0hYZfNRmeh1h"
      }
    },
    {
      "cell_type": "code",
      "source": [
        "a = 33\n",
        "b = 200\n",
        "if not a > b:\n",
        "  print(\"a is NOT greater than b\")"
      ],
      "metadata": {
        "colab": {
          "base_uri": "https://localhost:8080/"
        },
        "id": "v1lvsCioekZ2",
        "outputId": "8c327bef-1376-4b0e-afdf-5d839617344e"
      },
      "execution_count": null,
      "outputs": [
        {
          "output_type": "stream",
          "name": "stdout",
          "text": [
            "a is NOT greater than b\n"
          ]
        }
      ]
    },
    {
      "cell_type": "markdown",
      "source": [
        "In python we cannot do answer++ or answer--, so we need to do answer=answer+1, answer=answer-1\n",
        "\n",
        "**Comparison Operators and Logical:**"
      ],
      "metadata": {
        "id": "zV0aT1IQSDog"
      }
    },
    {
      "cell_type": "code",
      "source": [
        "result= 5==5\n",
        "print(result)\n",
        "result = (2>10) and (10==10)\n",
        "print(result)\n",
        "result = not((2>10) and (10==10))\n",
        "print(result)\n",
        "isCitizen = False\n",
        "age = 18\n",
        "if (age>=18) or (isCitizen):\n",
        "   print(\"allowed\")"
      ],
      "metadata": {
        "colab": {
          "base_uri": "https://localhost:8080/"
        },
        "id": "u7Rkk1Q1SSPF",
        "outputId": "5e40c8c6-18cb-41dd-bed7-5ad9a9598451"
      },
      "execution_count": null,
      "outputs": [
        {
          "output_type": "stream",
          "name": "stdout",
          "text": [
            "True\n",
            "False\n",
            "True\n",
            "allowed\n"
          ]
        }
      ]
    },
    {
      "cell_type": "markdown",
      "source": [
        "**For loops:**"
      ],
      "metadata": {
        "id": "ahZC8LFeTyRK"
      }
    },
    {
      "cell_type": "markdown",
      "source": [
        "**Loop over a range:**"
      ],
      "metadata": {
        "id": "uYbyJjsdWSoS"
      }
    },
    {
      "cell_type": "code",
      "source": [
        "for i in range(3):\n",
        "    print(i)"
      ],
      "metadata": {
        "colab": {
          "base_uri": "https://localhost:8080/"
        },
        "id": "kTL_3RevT2ii",
        "outputId": "bb8e5979-50cc-4fab-b123-cb2fda1f6685"
      },
      "execution_count": null,
      "outputs": [
        {
          "output_type": "stream",
          "name": "stdout",
          "text": [
            "0\n",
            "1\n",
            "2\n"
          ]
        }
      ]
    },
    {
      "cell_type": "markdown",
      "source": [
        "**Loop over a list:**"
      ],
      "metadata": {
        "id": "1oQtQc67UA6Z"
      }
    },
    {
      "cell_type": "code",
      "source": [
        "subject=[\"maths\",\"physics\",\"chem\"]\n",
        "for i in subject:\n",
        "    print(i)\n",
        "\n",
        "print(subject[0])"
      ],
      "metadata": {
        "colab": {
          "base_uri": "https://localhost:8080/"
        },
        "id": "RlG0ow--UECi",
        "outputId": "5600e63b-2609-40c8-e42c-a3ddbb9edf4c"
      },
      "execution_count": null,
      "outputs": [
        {
          "output_type": "stream",
          "name": "stdout",
          "text": [
            "maths\n",
            "physics\n",
            "chem\n",
            "maths\n"
          ]
        }
      ]
    },
    {
      "cell_type": "markdown",
      "source": [
        "**Loop over a dictionary:**"
      ],
      "metadata": {
        "id": "VrbxlWgpUeG9"
      }
    },
    {
      "cell_type": "code",
      "source": [
        "person={\"name\":\"Kinza\", \"age\":\"20\"}\n",
        "for key in person:\n",
        "    print(key,person[key])\n",
        "print(\"\\n\")\n",
        "\n",
        "#Another way to loop over a dictionary\n",
        "for key,value in person.items():\n",
        "    print(key,value)\n",
        "print(\"\\n\")\n",
        "\n",
        "print(person[\"name\"])\n",
        "\n",
        "#value in keys can be overwritten\n",
        "#It will only print the most recent one\n",
        "person={\"name\":\"Kinza\", \"age\":\"20\",\"name\":\"Sheryan\",\"age\":\"22\"}\n",
        "print(\"\\n\")\n",
        "print(person[\"name\"])\n",
        "print(person[\"age\"])"
      ],
      "metadata": {
        "colab": {
          "base_uri": "https://localhost:8080/"
        },
        "id": "87byAPspUk0h",
        "outputId": "6f9fa6c3-d2ab-407c-af94-9495d56b66a2"
      },
      "execution_count": null,
      "outputs": [
        {
          "output_type": "stream",
          "name": "stdout",
          "text": [
            "name Kinza\n",
            "age 20\n",
            "\n",
            "\n",
            "name Kinza\n",
            "age 20\n",
            "\n",
            "\n",
            "Kinza\n",
            "\n",
            "\n",
            "Sheryan\n",
            "22\n"
          ]
        }
      ]
    },
    {
      "cell_type": "markdown",
      "source": [
        "**Nested Loops:**"
      ],
      "metadata": {
        "id": "WhtQcolvWoyD"
      }
    },
    {
      "cell_type": "code",
      "source": [
        "for i in range(2):\n",
        "    for j in range(2):\n",
        "        print(i,j)"
      ],
      "metadata": {
        "colab": {
          "base_uri": "https://localhost:8080/"
        },
        "id": "-hlyZkZwWsYj",
        "outputId": "18a183f4-426d-4bf7-abaf-78cc59485f6e"
      },
      "execution_count": null,
      "outputs": [
        {
          "output_type": "stream",
          "name": "stdout",
          "text": [
            "0 0\n",
            "0 1\n",
            "1 0\n",
            "1 1\n"
          ]
        }
      ]
    },
    {
      "cell_type": "markdown",
      "source": [
        "**While Loops:**"
      ],
      "metadata": {
        "id": "7fHSs8HBX1am"
      }
    },
    {
      "cell_type": "code",
      "source": [
        "count=0\n",
        "while count<=5:\n",
        "     count=count+1\n",
        "     print(count)"
      ],
      "metadata": {
        "colab": {
          "base_uri": "https://localhost:8080/"
        },
        "id": "eVxKh5ZIZax0",
        "outputId": "9fa360bd-ee53-4c98-e899-5a565f8a5e91"
      },
      "execution_count": null,
      "outputs": [
        {
          "output_type": "stream",
          "name": "stdout",
          "text": [
            "1\n",
            "2\n",
            "3\n",
            "4\n",
            "5\n",
            "6\n"
          ]
        }
      ]
    },
    {
      "cell_type": "markdown",
      "source": [
        "**Functions:**"
      ],
      "metadata": {
        "id": "LRM1161LaiJp"
      }
    },
    {
      "cell_type": "code",
      "source": [
        "def greet(name,age):\n",
        "  print(f\"Hello {name} ur age is: {age}\")\n",
        "\n",
        "greet(\"Kinza\",20)\n",
        "\n",
        "def add(num1,num2):\n",
        "   print(f\"The sum is: {num1+num2}\")\n",
        "\n",
        "add(2,3)"
      ],
      "metadata": {
        "id": "PQ_MBcx4amPL",
        "colab": {
          "base_uri": "https://localhost:8080/"
        },
        "outputId": "3dff44d6-6f90-4805-99af-c33adc79b4db"
      },
      "execution_count": null,
      "outputs": [
        {
          "output_type": "stream",
          "name": "stdout",
          "text": [
            "Hello Kinza ur age is: 20\n",
            "The sum is: 5\n"
          ]
        }
      ]
    },
    {
      "cell_type": "code",
      "source": [
        "\n",
        "def average(numbers):\n",
        " return sum(numbers)/len(numbers)\n",
        "\n",
        "nums = [1,2,3,4,5]\n",
        "print(f\"The average is: {average(nums)}\")"
      ],
      "metadata": {
        "colab": {
          "base_uri": "https://localhost:8080/"
        },
        "id": "SVAlfx_qj_7l",
        "outputId": "aadb8ba4-1d4f-4377-8165-e261369f164e"
      },
      "execution_count": null,
      "outputs": [
        {
          "output_type": "stream",
          "name": "stdout",
          "text": [
            "The average is: 3.0\n"
          ]
        }
      ]
    },
    {
      "cell_type": "markdown",
      "source": [
        "**Lambda Function in Python:**\n",
        "A lambda function in Python is a small anonymous function (i.e., it doesn’t need a name). It's used for short, simple operations — often used as a one-liner function for quick tasks.\n",
        "\n",
        "lambda arguments: expression"
      ],
      "metadata": {
        "id": "GuE00Ju8kLlX"
      }
    },
    {
      "cell_type": "code",
      "source": [
        "add = lambda num1,num2: num1+num2\n",
        "print(add(2,3))\n",
        "\n",
        "square = lambda x: x*x\n",
        "print(square(2))\n",
        "\n",
        "#filter(function, iterable)\n",
        "nums = [1, 2, 3, 4, 5]\n",
        "even = list(filter(lambda x: x % 2 == 0, nums))\n",
        "print(even)"
      ],
      "metadata": {
        "colab": {
          "base_uri": "https://localhost:8080/"
        },
        "id": "uBHsVXS1kQiD",
        "outputId": "4dca5cf6-3eab-49bf-9784-998889d1c283"
      },
      "execution_count": null,
      "outputs": [
        {
          "output_type": "stream",
          "name": "stdout",
          "text": [
            "5\n",
            "4\n",
            "[2, 4]\n"
          ]
        }
      ]
    },
    {
      "cell_type": "markdown",
      "source": [
        "**Basic I/O:**"
      ],
      "metadata": {
        "id": "DULgkh6vlUDK"
      }
    },
    {
      "cell_type": "code",
      "source": [
        "name = input(\"What is your name: \")\n",
        "age = input()\n",
        "print(name)\n",
        "print(age)\n",
        "print(f\"Hello {name}, ur age is: {age}\")\n",
        "print(\"welcome \" + name + \" your age is \" + str(age))\n",
        "print(\"welcome\",name,\"your age is\",age)"
      ],
      "metadata": {
        "colab": {
          "base_uri": "https://localhost:8080/"
        },
        "id": "VOOAEihTlXUR",
        "outputId": "59ad5983-b0f7-4ed1-9bc9-e58f7c475b59"
      },
      "execution_count": null,
      "outputs": [
        {
          "output_type": "stream",
          "name": "stdout",
          "text": [
            "What is your name: kinza\n",
            "20\n",
            "kinza\n",
            "20\n",
            "Hello kinza, ur age is: 20\n",
            "welcome kinza your age is 20\n",
            "welcome kinza your age is 20\n"
          ]
        }
      ]
    },
    {
      "cell_type": "markdown",
      "source": [
        "**File Operations:**"
      ],
      "metadata": {
        "id": "a-H9TwUhmJKb"
      }
    },
    {
      "cell_type": "markdown",
      "source": [
        "**Writing:**"
      ],
      "metadata": {
        "id": "eKiCjIjbnAcL"
      }
    },
    {
      "cell_type": "code",
      "source": [
        "with open(\"data.txt\",\"w\") as file:\n",
        "  file.write(\"Hello, World!\")\n"
      ],
      "metadata": {
        "id": "YJJT3-XQmLq0"
      },
      "execution_count": null,
      "outputs": []
    },
    {
      "cell_type": "markdown",
      "source": [
        "**Reading:**"
      ],
      "metadata": {
        "id": "2xIP0zu1nNcw"
      }
    },
    {
      "cell_type": "code",
      "source": [
        "with open(\"data.txt\",\"r\") as file:\n",
        "  print(file.read())"
      ],
      "metadata": {
        "colab": {
          "base_uri": "https://localhost:8080/"
        },
        "id": "EtKe8e2OnQPZ",
        "outputId": "87736721-44d3-4d71-ab01-ae573924c691"
      },
      "execution_count": null,
      "outputs": [
        {
          "output_type": "stream",
          "name": "stdout",
          "text": [
            "Hello, World!\n"
          ]
        }
      ]
    },
    {
      "cell_type": "markdown",
      "source": [
        "**Reading line by line:**"
      ],
      "metadata": {
        "id": "I1MkJP-MnamK"
      }
    },
    {
      "cell_type": "code",
      "source": [
        "file = open(\"data.txt\", \"r\")\n",
        "for line in file:\n",
        "     print(line.strip())\n",
        "     #strip removes /n\n",
        "file.close()"
      ],
      "metadata": {
        "colab": {
          "base_uri": "https://localhost:8080/"
        },
        "id": "gL2Mmh6hnfgO",
        "outputId": "016fc648-2c4b-49be-f6ff-de2e4878a20f"
      },
      "execution_count": null,
      "outputs": [
        {
          "output_type": "stream",
          "name": "stdout",
          "text": [
            "Hello, World!\n"
          ]
        }
      ]
    },
    {
      "cell_type": "markdown",
      "source": [
        "**Appending:**"
      ],
      "metadata": {
        "id": "UnsxGCoonyt7"
      }
    },
    {
      "cell_type": "code",
      "source": [
        "with open(\"data.txt\", \"a\") as file:\n",
        " file.write(\"\\nline 2\")"
      ],
      "metadata": {
        "id": "A-kAJEQ4n1Hk"
      },
      "execution_count": null,
      "outputs": []
    },
    {
      "cell_type": "code",
      "source": [
        "file = open(\"data.txt\", \"r\")\n",
        "for line in file:\n",
        "     print(line.strip())\n",
        "     #strip removes /n\n",
        "file.close()"
      ],
      "metadata": {
        "colab": {
          "base_uri": "https://localhost:8080/"
        },
        "id": "Y-MJmRWXn42G",
        "outputId": "86cce555-af83-4b00-887a-bfee735649eb"
      },
      "execution_count": null,
      "outputs": [
        {
          "output_type": "stream",
          "name": "stdout",
          "text": [
            "Hello, World!\n",
            "line 2\n"
          ]
        }
      ]
    },
    {
      "cell_type": "markdown",
      "source": [
        "**TASK-01: Student Report Card Generator**\n",
        "\n",
        " • Take Input from the User (name and age)\n",
        "\n",
        " • Take Input For 3 Subjects in a dictionary\n",
        "\n",
        "subject:marks\n",
        " (english, math, urdu)\n",
        "\n",
        "• Define a Function to Calculate Average of all subjects together\n",
        "\n",
        "• Grade Assignment using if/elif/else\n",
        "\n",
        " Average Score Grade\n",
        "\n",
        " 80 or above A\n",
        "\n",
        " 60 to 79 B\n",
        "\n",
        " 40 to 59 C\n",
        "\n",
        " Below 40 F\n",
        "\n",
        " • Bonus give using lambda function (Ask the user: Add 5 bonus marks to all subjects? (yes/no))\n",
        "\n",
        " • Write the Report to a File\n",
        "\n",
        " Name: Ali\n",
        "\n",
        " Age: 20\n",
        "\n",
        " Math: 90\n",
        "\n",
        " English: 83\n",
        "\n",
        " Urdu: 95\n",
        "\n",
        " Average: 89.33\n",
        "\n",
        " Grade: A\n",
        "\n",
        " • Read and Display the Report Card  "
      ],
      "metadata": {
        "id": "1czUwr_cw8Wj"
      }
    },
    {
      "cell_type": "code",
      "source": [
        "name = input(\"What's your name? \")\n",
        "print(name)\n",
        "age = input(\"What's your age? \")\n",
        "print(age)\n",
        "\n",
        "subjects = [\"English\", \"Maths\", \"Urdu\"]\n",
        "marks = {}\n",
        "\n",
        "for subject in subjects:\n",
        "    marks[subject] = int(input(f\"Enter marks for {subject}: \"))\n",
        "\n",
        "bonus_input = input(\"Do you want to add 5 bonus marks to each score? (yes/no): \").strip().lower()\n",
        "add_bonus = lambda x: x + 5 if bonus_input == \"yes\" else x\n",
        "\n",
        "for subject in subjects:\n",
        "    marks[subject] = add_bonus(marks[subject])\n",
        "\n",
        "def avg(scores):\n",
        "    return sum(scores) / len(scores)\n",
        "\n",
        "average = avg(list(marks.values()))\n",
        "print(f\"Average Marks: {average:.2f}\")\n",
        "\n",
        "if average >= 80:\n",
        "    grade = \"A\"\n",
        "elif 60 <= average <= 79:\n",
        "    grade = \"B\"\n",
        "elif 40 <= average <= 59:\n",
        "    grade = \"C\"\n",
        "else:\n",
        "    grade = \"F\"\n",
        "\n",
        "print(f\"Grade: {grade}\")\n",
        "with open(\"studentreport.txt\", \"w\") as file:\n",
        "    file.write(f\"Name: {name}\\n\")\n",
        "    file.write(f\"Age: {age}\\n\")\n",
        "    for subject in subjects:\n",
        "        file.write(f\"{subject}: {marks[subject]}\\n\")\n",
        "    file.write(f\"Average: {average:.2f}\\n\")\n",
        "    file.write(f\"Grade: {grade}\\n\")\n",
        "\n",
        "print(\"Student data has been written to 'studentreport.txt'.\")\n",
        "\n",
        "with open(\"studentreport.txt\", \"r\") as file:\n",
        "    print(\"\\nGenerated Report Card:\")\n",
        "    print(file.read())\n"
      ],
      "metadata": {
        "colab": {
          "base_uri": "https://localhost:8080/"
        },
        "id": "a7c7JYMOw7wS",
        "outputId": "302544cb-e8ee-46a0-dbd2-065c64fb71ce"
      },
      "execution_count": 48,
      "outputs": [
        {
          "output_type": "stream",
          "name": "stdout",
          "text": [
            "What's your name? Kinza\n",
            "Kinza\n",
            "What's your age? 20\n",
            "20\n",
            "Enter marks for English: 83\n",
            "Enter marks for Maths: 90\n",
            "Enter marks for Urdu: 95\n",
            "Do you want to add 5 bonus marks to each score? (yes/no): yes\n",
            "Average Marks: 94.33\n",
            "Grade: A\n",
            "Student data has been written to 'studentreport.txt'.\n",
            "\n",
            "Generated Report Card:\n",
            "Name: Kinza\n",
            "Age: 20\n",
            "English: 88\n",
            "Maths: 95\n",
            "Urdu: 100\n",
            "Average: 94.33\n",
            "Grade: A\n",
            "\n"
          ]
        }
      ]
    }
  ]
}