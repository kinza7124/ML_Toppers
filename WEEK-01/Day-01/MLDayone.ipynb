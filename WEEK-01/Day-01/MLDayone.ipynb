{
  "nbformat": 4,
  "nbformat_minor": 0,
  "metadata": {
    "colab": {
      "provenance": []
    },
    "kernelspec": {
      "name": "python3",
      "display_name": "Python 3"
    },
    "language_info": {
      "name": "python"
    }
  },
  "cells": [
    {
      "cell_type": "code",
      "execution_count": 1,
      "metadata": {
        "colab": {
          "base_uri": "https://localhost:8080/"
        },
        "id": "O1tEGEfHeX-u",
        "outputId": "fc2dcb74-a146-49d9-d2a3-798b822d60e1"
      },
      "outputs": [
        {
          "output_type": "stream",
          "name": "stdout",
          "text": [
            "What's Ur name?Kinza\n",
            "Kinza\n",
            "What's Ur age?20\n",
            "20\n",
            "Enter marks for English: 80\n",
            "80\n",
            "Enter marks for maths: 80\n",
            "80\n",
            "Enter marks for Urdu: 80\n",
            "80\n",
            "English\n",
            "80\n",
            "maths\n",
            "80\n",
            "Urdu\n",
            "80\n",
            "Average marks: 80.0\n",
            "Do you want to add 5 bonus marks to each score? (yes/no):yes\n",
            "85 - A Grade\n",
            "85 - A Grade\n",
            "85 - A Grade\n",
            "Student data has been written to 'student_report.txt'.\n",
            "Name: Kinza\n",
            "Age: 20\n",
            "English : 80\n",
            "maths : 80\n",
            "Urdu : 80\n",
            "Average: 80.0\n",
            "\n"
          ]
        }
      ],
      "source": [
        "name=input(\"What's Ur name?\")\n",
        "print(name)\n",
        "age=input(\"What's Ur age?\")\n",
        "print(age)\n",
        "\n",
        "subject=[\"English\",\"maths\",\"Urdu\"]\n",
        "marks=[0,0,0]\n",
        "\n",
        "for i in range(3):\n",
        "    marks[i]= int(input(f\"Enter marks for {subject[i]}: \"))\n",
        "    print(marks[i])\n",
        "\n",
        "for i in range(3):\n",
        "    print(subject[i])\n",
        "    print(marks[i])\n",
        "\n",
        "def avg(numbers):\n",
        "   return sum(numbers)/len(numbers)\n",
        "\n",
        "average_marks=avg(marks)\n",
        "print(\"Average marks:\", avg(marks))\n",
        "\n",
        "bonus_input = input(\"Do you want to add 5 bonus marks to each score? (yes/no):\").strip().lower()\n",
        "\n",
        "add_bonus = lambda x:x+5 if bonus_input == \"yes\" else x\n",
        "for i in range(3):\n",
        "    updated_mark = add_bonus(marks[i])\n",
        "    if updated_mark >= 80:\n",
        "        print(f\"{updated_mark} - A Grade\")\n",
        "    elif 60 <= updated_mark <= 79:\n",
        "        print(f\"{updated_mark} - B Grade\")\n",
        "    elif 40 <= updated_mark <= 59:\n",
        "        print(f\"{updated_mark} - C Grade\")\n",
        "    else:\n",
        "        print(f\"{updated_mark} - F Grade\")\n",
        "\n",
        "with open(\"studentreport.txt\",\"w\") as file:\n",
        "  file.write(f\"Name: {name}\\n\")\n",
        "  file.write(f\"Age: {age}\\n\")\n",
        "  for i in range(3):\n",
        "       file.write(f\"{subject[i]} : {marks[i]}\\n\")\n",
        "  file.write(f\"Average: {average_marks}\\n\")\n",
        "\n",
        "\n",
        "print(\"Student data has been written to 'student_report.txt'.\")\n",
        "\n",
        "with open(\"studentreport.txt\",\"r\") as file:\n",
        "  print(file.read())"
      ]
    }
  ]
}