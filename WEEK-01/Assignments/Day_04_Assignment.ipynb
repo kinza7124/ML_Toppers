{
  "nbformat": 4,
  "nbformat_minor": 0,
  "metadata": {
    "colab": {
      "provenance": []
    },
    "kernelspec": {
      "name": "python3",
      "display_name": "Python 3"
    },
    "language_info": {
      "name": "python"
    }
  },
  "cells": [
    {
      "cell_type": "markdown",
      "source": [
        "**Tasks Day -04**\n",
        "\n",
        "**Mini Project:**\n",
        "You are given daily sales data (in USD) of 6 products over 10 days. Perform the following tasks.\n",
        "\n",
        "**Q1. Mathematical Operations**   \n",
        "\n",
        "a. Calculate the total sales per product over 10 days.\n",
        "\n",
        "b. Calculate the average daily sales per product.\n",
        "\n",
        "c. Increase each sale by a 5% commission using broadcasting.\n",
        "\n",
        "d. Apply the square root to all sales values (for testing purposes).\n",
        "\n",
        "**Q2. Broadcasting Concepts**\n",
        "\n",
        "a. Create a 1D and using broadcasting.\n",
        "\n",
        "bonus_array = np.array([10, 20, 15, 25, 30, 5]) add it to each day’s sales\n",
        "\n",
        "b. Add a $50 flat bonus to each sale using broadcasting.\n",
        "\n",
        "**Q3. Statistical Analysis**\n",
        "\n",
        "a. Find the mean, median, variance, and standard deviation of the entire dataset.\n",
        "\n",
        "b. Find the maximum and minimum sale value and calculate the range.\n",
        "\n",
        "c. Calculate the interquartile range (IQR) of all values.\n",
        "\n",
        "**Q4. Logical & Comparison Operations**\n",
        "\n",
        "a. Identify and list all sales greater than $250.\n",
        "\n",
        "b. Replace all values greater than $300 with 300 (cap the max sale).\n",
        "\n",
        "c. Count how many times sales were between $200 and  $250.\n",
        "\n",
        "d. Create a new array showing only the sales below the mean.\n",
        "\n",
        "**Q5. Searching, Sorting, and Final Summary**\n",
        "\n",
        "a. Sort the sales of Day 5 in ascending order.\n",
        "\n",
        "b. Find the day (row index) with the highest total sales.\n",
        "\n",
        "c. Calculate column-wise means (average per product).\n",
        "\n",
        "d. Calculate row-wise means (average per day).\n",
        "\n",
        "e. Print the overall average sales.\n",
        "\n",
        "**Q6. Bonus**\n",
        "\n",
        "Create a function that returns all values 2 standard deviations above and below\n",
        "the mean."
      ],
      "metadata": {
        "id": "hJmfb7pgPnj-"
      }
    },
    {
      "cell_type": "code",
      "execution_count": 1,
      "metadata": {
        "colab": {
          "base_uri": "https://localhost:8080/"
        },
        "id": "d4708CR2PkdR",
        "outputId": "daf96562-93b9-4ef3-e24f-73e6fa86291a"
      },
      "outputs": [
        {
          "output_type": "stream",
          "name": "stdout",
          "text": [
            "[[200 220 250 210 180 190]\n",
            " [230 240 260 200 195 205]\n",
            " [210 215 255 220 185 200]\n",
            " [205 225 275 190 195 195]\n",
            " [215 230 265 225 200 210]\n",
            " [225 235 275 230 205 215]\n",
            " [235 245 280 240 210 220]\n",
            " [245 255 290 205 215 225]\n",
            " [255 265 300 260 220 230]\n",
            " [265 275 310 270 225 235]]\n",
            "[2285 2405 2760 2250 2030 2125]\n",
            "[228.5 240.5 276.  225.  203.  212.5]\n",
            "[[210.   231.   262.5  220.5  189.   199.5 ]\n",
            " [241.5  252.   273.   210.   204.75 215.25]\n",
            " [220.5  225.75 267.75 231.   194.25 210.  ]\n",
            " [215.25 236.25 288.75 199.5  204.75 204.75]\n",
            " [225.75 241.5  278.25 236.25 210.   220.5 ]\n",
            " [236.25 246.75 288.75 241.5  215.25 225.75]\n",
            " [246.75 257.25 294.   252.   220.5  231.  ]\n",
            " [257.25 267.75 304.5  215.25 225.75 236.25]\n",
            " [267.75 278.25 315.   273.   231.   241.5 ]\n",
            " [278.25 288.75 325.5  283.5  236.25 246.75]]\n",
            "[[14.14213562 14.83239697 15.8113883  14.49137675 13.41640786 13.78404875]\n",
            " [15.16575089 15.49193338 16.1245155  14.14213562 13.96424004 14.31782106]\n",
            " [14.49137675 14.6628783  15.96871942 14.83239697 13.60147051 14.14213562]\n",
            " [14.31782106 15.         16.58312395 13.78404875 13.96424004 13.96424004]\n",
            " [14.6628783  15.16575089 16.2788206  15.         14.14213562 14.49137675]\n",
            " [15.         15.32970972 16.58312395 15.16575089 14.31782106 14.6628783 ]\n",
            " [15.32970972 15.65247584 16.73320053 15.49193338 14.49137675 14.83239697]\n",
            " [15.65247584 15.96871942 17.02938637 14.31782106 14.6628783  15.        ]\n",
            " [15.96871942 16.2788206  17.32050808 16.1245155  14.83239697 15.16575089]\n",
            " [16.2788206  16.58312395 17.60681686 16.43167673 15.         15.32970972]]\n"
          ]
        }
      ],
      "source": [
        "import numpy as np\n",
        "\n",
        "sales_data = np.array([\n",
        "    [200, 220, 250, 210, 180, 190],  # Day 1\n",
        "    [230, 240, 260, 200, 195, 205],  # Day 2\n",
        "    [210, 215, 255, 220, 185, 200],  # Day 3\n",
        "    [205, 225, 275, 190, 195, 195],  # Day 4\n",
        "    [215, 230, 265, 225, 200, 210],  # Day 5\n",
        "    [225, 235, 275, 230, 205, 215],  # Day 6\n",
        "    [235, 245, 280, 240, 210, 220],  # Day 7\n",
        "    [245, 255, 290, 205, 215, 225],  # Day 8\n",
        "    [255, 265, 300, 260, 220, 230],  # Day 9\n",
        "    [265, 275, 310, 270, 225, 235]   # Day 10\n",
        "])\n",
        "print(sales_data)\n",
        "\n",
        "#total sales per product over 10 days\n",
        "# so we need column wise sum\n",
        "\n",
        "print(np.sum(sales_data,axis =0))\n",
        "print(np.mean(sales_data,axis=0))\n",
        "\n",
        "final_sales = sales_data + (sales_data*5/100)\n",
        "print(final_sales)\n",
        "\n",
        "print(np.sqrt(sales_data))"
      ]
    },
    {
      "cell_type": "code",
      "source": [
        "bonus_array = np.array([10, 20, 15, 25, 30, 5])\n",
        "print(bonus_array)\n",
        "print(bonus_array+sales_data)\n",
        "\n",
        "print(sales_data+50)"
      ],
      "metadata": {
        "colab": {
          "base_uri": "https://localhost:8080/"
        },
        "id": "ngK_2oxwP-bA",
        "outputId": "b5d43039-ec39-44c9-fb5b-4ef0c3eabc57"
      },
      "execution_count": 2,
      "outputs": [
        {
          "output_type": "stream",
          "name": "stdout",
          "text": [
            "[10 20 15 25 30  5]\n",
            "[[210 240 265 235 210 195]\n",
            " [240 260 275 225 225 210]\n",
            " [220 235 270 245 215 205]\n",
            " [215 245 290 215 225 200]\n",
            " [225 250 280 250 230 215]\n",
            " [235 255 290 255 235 220]\n",
            " [245 265 295 265 240 225]\n",
            " [255 275 305 230 245 230]\n",
            " [265 285 315 285 250 235]\n",
            " [275 295 325 295 255 240]]\n",
            "[[250 270 300 260 230 240]\n",
            " [280 290 310 250 245 255]\n",
            " [260 265 305 270 235 250]\n",
            " [255 275 325 240 245 245]\n",
            " [265 280 315 275 250 260]\n",
            " [275 285 325 280 255 265]\n",
            " [285 295 330 290 260 270]\n",
            " [295 305 340 255 265 275]\n",
            " [305 315 350 310 270 280]\n",
            " [315 325 360 320 275 285]]\n"
          ]
        }
      ]
    },
    {
      "cell_type": "code",
      "source": [
        "mean = np.mean(sales_data)\n",
        "Stddev = np.std(sales_data)\n",
        "Variance = np.var(sales_data)\n",
        "median = np.median(sales_data)\n",
        "print(mean)\n",
        "print(median)\n",
        "print(Stddev)\n",
        "print(Variance)\n",
        "\n",
        "Max = np.max(sales_data)\n",
        "Min = np.min(sales_data)\n",
        "Range = Max - Min\n",
        "print(Max)\n",
        "print(Min)\n",
        "print(Range)\n",
        "\n",
        "Q1 = np.percentile(sales_data,25)\n",
        "Q2 = np.percentile(sales_data,50)\n",
        "Q3 = np.percentile(sales_data,75)\n",
        "IQR = Q3-Q1\n",
        "print(Q1)\n",
        "print(Q2)\n",
        "print(Q3)\n",
        "print(IQR)"
      ],
      "metadata": {
        "colab": {
          "base_uri": "https://localhost:8080/"
        },
        "id": "X_iKd4E2QB_3",
        "outputId": "09119c25-003e-45fa-891c-d3d819f073f7"
      },
      "execution_count": 3,
      "outputs": [
        {
          "output_type": "stream",
          "name": "stdout",
          "text": [
            "230.91666666666666\n",
            "225.0\n",
            "30.006827926693987\n",
            "900.4097222222222\n",
            "310\n",
            "180\n",
            "130\n",
            "208.75\n",
            "225.0\n",
            "255.0\n",
            "46.25\n"
          ]
        }
      ]
    },
    {
      "cell_type": "code",
      "source": [
        "greater_than_250 = sales_data[(sales_data>250)]\n",
        "print(greater_than_250)\n",
        "\n",
        "capped_sales = np.copy(sales_data)\n",
        "capped_sales[capped_sales > 300] = 300\n",
        "print(capped_sales)\n",
        "\n",
        "\n",
        "between_200and250 = sales_data[(sales_data>200) & (sales_data<250)]\n",
        "print(between_200and250)\n",
        "print(np.size(between_200and250))\n",
        "\n",
        "new_arr = sales_data[(sales_data<np.mean(sales_data))]\n",
        "print(new_arr)"
      ],
      "metadata": {
        "colab": {
          "base_uri": "https://localhost:8080/"
        },
        "id": "KI6CZ-jJQFM0",
        "outputId": "8deb1ced-2ba9-4e2e-cd12-419675e8eb1c"
      },
      "execution_count": 4,
      "outputs": [
        {
          "output_type": "stream",
          "name": "stdout",
          "text": [
            "[260 255 275 265 275 280 255 290 255 265 300 260 265 275 310 270]\n",
            "[[200 220 250 210 180 190]\n",
            " [230 240 260 200 195 205]\n",
            " [210 215 255 220 185 200]\n",
            " [205 225 275 190 195 195]\n",
            " [215 230 265 225 200 210]\n",
            " [225 235 275 230 205 215]\n",
            " [235 245 280 240 210 220]\n",
            " [245 255 290 205 215 225]\n",
            " [255 265 300 260 220 230]\n",
            " [265 275 300 270 225 235]]\n",
            "[220 210 230 240 205 210 215 220 205 225 215 230 225 210 225 235 230 205\n",
            " 215 235 245 240 210 220 245 205 215 225 220 230 225 235]\n",
            "32\n",
            "[200 220 210 180 190 230 200 195 205 210 215 220 185 200 205 225 190 195\n",
            " 195 215 230 225 200 210 225 230 205 215 210 220 205 215 225 220 230 225]\n"
          ]
        }
      ]
    },
    {
      "cell_type": "code",
      "source": [
        "sorted_data = np.sort(sales_data[4])\n",
        "print(sorted_data)\n",
        "\n",
        "# to convert it into descending order\n",
        "sorted_data[::-1]\n",
        "print(sorted_data[::-1])\n",
        "\n",
        "days_total = np.sum(sales_data, axis=1)\n",
        "print(days_total)\n",
        "max_day_index = np.argmax(days_total)\n",
        "print(max_day_index)\n",
        "\n",
        "#column-wise means\n",
        "col = np.mean(sales_data, axis=0)\n",
        "print(col)\n",
        "\n",
        "#row-wise means\n",
        "row = np.mean(sales_data, axis=1)\n",
        "print(row)\n",
        "\n",
        "overall_average = np.mean(sales_data)\n",
        "print(overall_average)"
      ],
      "metadata": {
        "colab": {
          "base_uri": "https://localhost:8080/"
        },
        "id": "BWZrCH5EQIUj",
        "outputId": "924b7c14-ef28-441f-f20b-a75dfd87a43c"
      },
      "execution_count": 5,
      "outputs": [
        {
          "output_type": "stream",
          "name": "stdout",
          "text": [
            "[200 210 215 225 230 265]\n",
            "[265 230 225 215 210 200]\n",
            "[1250 1330 1285 1285 1345 1385 1430 1435 1530 1580]\n",
            "9\n",
            "[228.5 240.5 276.  225.  203.  212.5]\n",
            "[208.33333333 221.66666667 214.16666667 214.16666667 224.16666667\n",
            " 230.83333333 238.33333333 239.16666667 255.         263.33333333]\n",
            "230.91666666666666\n"
          ]
        }
      ]
    },
    {
      "cell_type": "code",
      "source": [
        "def highlight_outliers(arr):\n",
        "     below = np.mean(arr.flatten()) - (2*np.std(arr.flatten()))\n",
        "     above = np.mean(arr.flatten()) + (2*np.std(arr.flatten()))\n",
        "     print(above)\n",
        "     print(below)\n",
        "     return arr[(arr<below) | (arr>above)]\n",
        "\n",
        "\n",
        "highlight_outliers(sales_data)"
      ],
      "metadata": {
        "colab": {
          "base_uri": "https://localhost:8080/"
        },
        "id": "ElsAehTsQMdp",
        "outputId": "b4aef7a6-a6d0-48be-d695-300a6f8e4d05"
      },
      "execution_count": 6,
      "outputs": [
        {
          "output_type": "stream",
          "name": "stdout",
          "text": [
            "290.93032252005463\n",
            "170.90301081327868\n"
          ]
        },
        {
          "output_type": "execute_result",
          "data": {
            "text/plain": [
              "array([300, 310])"
            ]
          },
          "metadata": {},
          "execution_count": 6
        }
      ]
    }
  ]
}