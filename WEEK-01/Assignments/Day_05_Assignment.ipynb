{
  "nbformat": 4,
  "nbformat_minor": 0,
  "metadata": {
    "colab": {
      "provenance": []
    },
    "kernelspec": {
      "name": "python3",
      "display_name": "Python 3"
    },
    "language_info": {
      "name": "python"
    }
  },
  "cells": [
    {
      "cell_type": "markdown",
      "source": [
        "**Task Day-05**   \n",
        "Task: Build a NumPy-Based Mini ML Engine for Linear Regression with\n",
        "Synthetic Data.   \n",
        "\n",
        "Objective:\n",
        "Create a small Python app using NumPy that generates synthetic data, performs linear\n",
        "regression using matrix operations, and supports saving/loading the data and model weights.\n",
        "\n",
        "**Key Requirements (Mapped to Topics)**\n",
        "\n",
        "**1) Linear Algebra Operations (ML-Relevant)**\n",
        "\n",
        "• Use element-wise multiplication and dot product to compute predictions.\n",
        "\n",
        "• Apply transpose and inverse for solving the Normal Equation:\n",
        "\n",
        "2x+y = 3\n",
        "x+3y = 4\n",
        "\n",
        "• Use np.sum(np.diag(...)) to compute sum of diagonal elements in matrix\n",
        "covariance.\n",
        "\n",
        "• Use np.linalg.solve as an alternative method for solving linear systems.\n",
        "\n",
        "**2) Random Number Generation**\n",
        "\n",
        "• Use np.random.seed() for reproducibility.\n",
        "\n",
        "• Use np.random.random() or np.random.randint() to generate synthetic feature data.\n",
        "\n",
        "• Use np.random.choice() to randomly select samples for testing/training splits.\n",
        "\n",
        "**3) NumPy I/O Operations**\n",
        "\n",
        "• Save and load model weights using np.save() and np.load().\n",
        "\n",
        "• Save the dataset to .txt format using np.savetxt() and load it back using\n",
        "np.loadtxt().\n",
        "\n",
        "• Use np.savez() to store multiple arrays in a single file, e.g., features, targets, and\n",
        "weights.\n",
        "\n",
        "**4) Arithmetic Operations and Array Slicing**\n",
        "\n",
        "Apply vectorized arithmetic operations to perform statistical analysis.\n",
        "Use slicing to separate train/test sets or to manipulate arrays during operations.\n",
        "\n",
        "**Bonus (Optional)**\n",
        "\n",
        "• Allow user input to choose between .npy, .txt, or .npz formats for saving data."
      ],
      "metadata": {
        "id": "i6HNPyuwRpif"
      }
    },
    {
      "cell_type": "code",
      "execution_count": 1,
      "metadata": {
        "colab": {
          "base_uri": "https://localhost:8080/"
        },
        "id": "MzcSxVxmRow2",
        "outputId": "2e36417a-4286-48f7-f3dc-2b738da7f6dc"
      },
      "outputs": [
        {
          "output_type": "stream",
          "name": "stdout",
          "text": [
            "Element-wise multiplication: [1.  4.5]\n",
            "Dot product (prediction): 5.5\n",
            "Solution using inverse:\n",
            " [1. 1.]\n",
            "Sum of diagonal elements (trace): 15\n",
            "Solution using np.linalg.solve:\n",
            " [1. 1.]\n"
          ]
        }
      ],
      "source": [
        "import numpy as np\n",
        "# 1. Element-wise multiplication & dot product\n",
        "# Example vectors\n",
        "features = np.array([2, 3])\n",
        "weights = np.array([0.5, 1.5])\n",
        "\n",
        "# Element-wise multiplication\n",
        "elementwise_product = features * weights\n",
        "print(\"Element-wise multiplication:\", elementwise_product)\n",
        "\n",
        "# Dot product (prediction in ML)\n",
        "dot_product = np.dot(features, weights)\n",
        "print(\"Dot product (prediction):\", dot_product)\n",
        "\n",
        "# 2. Solving Linear System using Transpose & Inverse (Normal Equation)\n",
        "# System of equations:\n",
        "# 2x + y = 3\n",
        "# x + 3y = 4\n",
        "\n",
        "# Matrix form: AX = B\n",
        "A = np.array([[2, 1],\n",
        "              [1, 3]])\n",
        "B = np.array([3, 4])\n",
        "\n",
        "# Using inverse: X = A⁻¹B\n",
        "A_inv = np.linalg.inv(A)\n",
        "X = np.dot(A_inv, B)\n",
        "print(\"Solution using inverse:\\n\", X)\n",
        "\n",
        "# 3. Sum of Diagonal Elements (Trace of Covariance Matrix)\n",
        "# Example matrix (covariance-like)\n",
        "matrix = np.array([[4, 2, 1],\n",
        "                   [2, 5, 3],\n",
        "                   [1, 3, 6]])\n",
        "\n",
        "# Diagonal sum (trace)\n",
        "trace = np.sum(np.diag(matrix))\n",
        "print(\"Sum of diagonal elements (trace):\", trace)\n",
        "\n",
        "# 4. Solving Linear System using np.linalg.solve\n",
        "# Same system: AX = B\n",
        "X_alt = np.linalg.solve(A, B)\n",
        "print(\"Solution using np.linalg.solve:\\n\", X_alt)\n"
      ]
    },
    {
      "cell_type": "code",
      "source": [
        "# Random number generation\n",
        "\n",
        "#seed for reproducibility\n",
        "np.random.seed(42)\n",
        "\n",
        "# Random data with 10 rows and 3 columns/features\n",
        "synthetic_data = np.random.randint(0,100,size=(10,3))\n",
        "print(synthetic_data)\n",
        "\n",
        "# Selecting data randomly for training\n",
        "indices =np.arange(10)\n",
        "print(indices)\n",
        "#lets assume we have 10 datasets\n",
        "#Randomly select 70% (7 out of 10) for training\n",
        "train_data_indices = np.random.choice(indices,size = 7,replace=False)\n",
        "print(train_data_indices)\n",
        "train_data = synthetic_data[train_data_indices]\n",
        "print(train_data)\n",
        "#Select rest of the data for testing\n",
        "test_indices = np.setdiff1d(indices,train_data_indices )\n",
        "test_data = synthetic_data[test_indices]\n",
        "print(test_data)\n"
      ],
      "metadata": {
        "colab": {
          "base_uri": "https://localhost:8080/"
        },
        "id": "D6BmS7RYR9T3",
        "outputId": "b68c8f72-659c-425c-c747-0c96fd49ee91"
      },
      "execution_count": 2,
      "outputs": [
        {
          "output_type": "stream",
          "name": "stdout",
          "text": [
            "[[51 92 14]\n",
            " [71 60 20]\n",
            " [82 86 74]\n",
            " [74 87 99]\n",
            " [23  2 21]\n",
            " [52  1 87]\n",
            " [29 37  1]\n",
            " [63 59 20]\n",
            " [32 75 57]\n",
            " [21 88 48]]\n",
            "[0 1 2 3 4 5 6 7 8 9]\n",
            "[1 5 4 8 0 7 6]\n",
            "[[71 60 20]\n",
            " [52  1 87]\n",
            " [23  2 21]\n",
            " [32 75 57]\n",
            " [51 92 14]\n",
            " [63 59 20]\n",
            " [29 37  1]]\n",
            "[[82 86 74]\n",
            " [74 87 99]\n",
            " [21 88 48]]\n"
          ]
        }
      ]
    },
    {
      "cell_type": "code",
      "source": [
        "#Numpy I/O Operations\n",
        "features = np.random.randint(0,100,size=(5,3))\n",
        "targets = np.random.randint(0,2,size=(5,))\n",
        "weights = np.random.random(size=(3,))\n",
        "\n",
        "print(\"Features:\\n\", features)\n",
        "print(\"Targets:\\n\", targets)\n",
        "print(\"Weights:\\n\", weights)\n",
        "\n",
        "np.save('model_weights.npy', weights)              # save weights\n",
        "loaded_weights = np.load('model_weights.npy')      # load weights\n",
        "print(\"\\nLoaded Weights:\\n\", loaded_weights)\n",
        "\n",
        "np.savetxt('features.txt', features, fmt='%d')      # save as text\n",
        "loaded_features = np.loadtxt('features.txt', dtype=int)\n",
        "print(\"\\nLoaded Features from TXT:\\n\", loaded_features)\n",
        "\n",
        "np.savez('model_data.npz', features=features, targets=targets, weights=weights)\n",
        "data = np.load('model_data.npz')\n",
        "print(\"\\nLoaded from NPZ:\")\n",
        "print(\"Features:\\n\", data['features'])\n",
        "print(\"Targets:\\n\", data['targets'])\n",
        "print(\"Weights:\\n\", data['weights'])\n"
      ],
      "metadata": {
        "colab": {
          "base_uri": "https://localhost:8080/"
        },
        "id": "w0IxrauQSAaj",
        "outputId": "bd07e3cc-4579-4fa9-b393-8066d4c6bd02"
      },
      "execution_count": 3,
      "outputs": [
        {
          "output_type": "stream",
          "name": "stdout",
          "text": [
            "Features:\n",
            " [[ 6 20 72]\n",
            " [38 17  3]\n",
            " [88 59 13]\n",
            " [ 8 89 52]\n",
            " [ 1 83 91]]\n",
            "Targets:\n",
            " [0 1 0 1 0]\n",
            "Weights:\n",
            " [0.83319491 0.17336465 0.39106061]\n",
            "\n",
            "Loaded Weights:\n",
            " [0.83319491 0.17336465 0.39106061]\n",
            "\n",
            "Loaded Features from TXT:\n",
            " [[ 6 20 72]\n",
            " [38 17  3]\n",
            " [88 59 13]\n",
            " [ 8 89 52]\n",
            " [ 1 83 91]]\n",
            "\n",
            "Loaded from NPZ:\n",
            "Features:\n",
            " [[ 6 20 72]\n",
            " [38 17  3]\n",
            " [88 59 13]\n",
            " [ 8 89 52]\n",
            " [ 1 83 91]]\n",
            "Targets:\n",
            " [0 1 0 1 0]\n",
            "Weights:\n",
            " [0.83319491 0.17336465 0.39106061]\n"
          ]
        }
      ]
    }
  ]
}