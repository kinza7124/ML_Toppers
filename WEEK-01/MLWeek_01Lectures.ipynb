{
  "cells": [
    {
      "cell_type": "markdown",
      "metadata": {
        "id": "7GRsmCxSmM0T"
      },
      "source": [
        "# Getting Started with Python\n",
        "# ML DAY-01\n",
        "Python Basics, variables, Python operators, Control structures, Functions, Basic I/O, File operations"
      ]
    },
    {
      "cell_type": "markdown",
      "metadata": {
        "id": "huaco5TybYPI"
      },
      "source": [
        "\n",
        "**Python Variables:** Python has no command for declaring a variable. A variable is created the moment you first assign a value to it.\n",
        "\n",
        "**Getting type:** You can get the data type of a variable with the type() function.\n",
        "\n",
        "**Single or Double Quotes?** String variables can be declared either by using single or double quotes.\n",
        "\n",
        "**Case sensitive:** Case-Sensitive Variable names are case-sensitive."
      ]
    },
    {
      "cell_type": "code",
      "execution_count": null,
      "metadata": {
        "colab": {
          "base_uri": "https://localhost:8080/"
        },
        "id": "FfpiFGrWbS_6",
        "outputId": "adb8095f-3a0d-4d2d-cb76-44053ab397d3"
      },
      "outputs": [
        {
          "name": "stdout",
          "output_type": "stream",
          "text": [
            "<class 'str'>\n",
            "<class 'int'>\n",
            "<class 'float'>\n",
            "<class 'bool'>\n",
            "Hello World\n",
            "Alice\n",
            "Bob\n"
          ]
        }
      ],
      "source": [
        "# 1. Variable Declaration (no need for explicit declaration)\n",
        "name = \"Alice\"        # String variable\n",
        "age = 25              # Integer variable\n",
        "height = 5.6          # Float variable\n",
        "is_student = True     # Boolean variable\n",
        "\n",
        "# 2. Getting the type of variables\n",
        "print(type(name))      # Output: <class 'str'>\n",
        "print(type(age))       # Output: <class 'int'>\n",
        "print(type(height))    # Output: <class 'float'>\n",
        "print(type(is_student))# Output: <class 'bool'>\n",
        "\n",
        "# 3. Single or Double Quotes for Strings\n",
        "msg1 = 'Hello'\n",
        "msg2 = \"World\"\n",
        "print(msg1 + \" \" + msg2)  # Output: Hello World\n",
        "\n",
        "# 4. Case-Sensitive Variables\n",
        "Name = \"Alice\"\n",
        "name = \"Bob\"\n",
        "print(Name)   # Output: Alice\n",
        "print(name)   # Output: Bob"
      ]
    },
    {
      "cell_type": "markdown",
      "metadata": {
        "id": "3Ua7N-1pcG1b"
      },
      "source": [
        "**Many Values to Multiple Variables:** Python allows you to assign values to multiple variables in one line"
      ]
    },
    {
      "cell_type": "code",
      "execution_count": null,
      "metadata": {
        "colab": {
          "base_uri": "https://localhost:8080/"
        },
        "id": "0tJXnDJgcMDA",
        "outputId": "b4af0009-cc19-468c-e508-62db689af74b"
      },
      "outputs": [
        {
          "name": "stdout",
          "output_type": "stream",
          "text": [
            "10\n",
            "20\n",
            "30\n"
          ]
        }
      ],
      "source": [
        "x, y, z = 10, 20, 30\n",
        "print(x)  # Output: 10\n",
        "print(y)  # Output: 20\n",
        "print(z)  # Output: 30"
      ]
    },
    {
      "cell_type": "markdown",
      "metadata": {
        "id": "vVgGy2x_cQw1"
      },
      "source": [
        "**One Value to Multiple Variables:** And you can assign the same value to multiple variables in one line"
      ]
    },
    {
      "cell_type": "code",
      "execution_count": null,
      "metadata": {
        "colab": {
          "base_uri": "https://localhost:8080/"
        },
        "id": "5M02P330cWID",
        "outputId": "05d3e738-3f26-423e-bf24-790b38cb0bae"
      },
      "outputs": [
        {
          "name": "stdout",
          "output_type": "stream",
          "text": [
            "100\n",
            "100\n",
            "100\n"
          ]
        }
      ],
      "source": [
        "a = b = c = 100\n",
        "print(a)  # Output: 100\n",
        "print(b)  # Output: 100\n",
        "print(c)  # Output: 100"
      ]
    },
    {
      "cell_type": "markdown",
      "metadata": {
        "id": "21r7Nu7Pcesf"
      },
      "source": [
        "**Unpacking a collection:** When you have a list, python allows you to unpack that list in to the variables"
      ]
    },
    {
      "cell_type": "code",
      "execution_count": null,
      "metadata": {
        "colab": {
          "base_uri": "https://localhost:8080/"
        },
        "id": "eAEa33pschM6",
        "outputId": "fe912810-f700-430d-f667-3ff7e76e1ecc"
      },
      "outputs": [
        {
          "name": "stdout",
          "output_type": "stream",
          "text": [
            "red\n",
            "green\n",
            "blue\n"
          ]
        }
      ],
      "source": [
        "colors = [\"red\", \"green\", \"blue\"]\n",
        "c1, c2, c3 = colors\n",
        "print(c1)  # Output: red\n",
        "print(c2)  # Output: green\n",
        "print(c3)  # Output: blue"
      ]
    },
    {
      "cell_type": "markdown",
      "metadata": {
        "id": "XhoAZ7WxcvjJ"
      },
      "source": [
        "**Python Casting:**"
      ]
    },
    {
      "cell_type": "code",
      "execution_count": null,
      "metadata": {
        "colab": {
          "base_uri": "https://localhost:8080/"
        },
        "id": "DyiYFMcDcx3S",
        "outputId": "2d4d1a0a-36cf-4deb-9ba8-e564c2a7f98d"
      },
      "outputs": [
        {
          "name": "stdout",
          "output_type": "stream",
          "text": [
            "7.0\n",
            "100\n"
          ]
        }
      ],
      "source": [
        "a = \"10\"\n",
        "b = \"3.14\"\n",
        "\n",
        "# Convert string to int and float\n",
        "int_a = int(a)       # 10\n",
        "float_b = float(b)   # 3.14\n",
        "\n",
        "# Convert int to float\n",
        "x = 7\n",
        "y = float(x)         # 7.0\n",
        "print(y)\n",
        "# Convert number to string\n",
        "n = 100\n",
        "text = str(n)        # \"100\"\n",
        "print(text)"
      ]
    },
    {
      "cell_type": "markdown",
      "metadata": {
        "id": "UfB5OLYmc5jQ"
      },
      "source": [
        "**Python Operators:**"
      ]
    },
    {
      "cell_type": "markdown",
      "metadata": {
        "id": "rV-kDIgtdfEU"
      },
      "source": [
        "Arithmetic Operators:"
      ]
    },
    {
      "cell_type": "code",
      "execution_count": null,
      "metadata": {
        "colab": {
          "base_uri": "https://localhost:8080/"
        },
        "id": "yjXlyBAwdIwL",
        "outputId": "5bfb1975-aadb-47c6-9625-0009f49fe539"
      },
      "outputs": [
        {
          "name": "stdout",
          "output_type": "stream",
          "text": [
            "1\n",
            "4\n",
            "81\n"
          ]
        }
      ],
      "source": [
        "a = 9\n",
        "b = 2\n",
        "print(a % b)\n",
        "print(a // b)\n",
        "print(a ** b)\n"
      ]
    },
    {
      "cell_type": "markdown",
      "metadata": {
        "id": "Llqel0aBdMLM"
      },
      "source": [
        "Assignment Operators:"
      ]
    },
    {
      "cell_type": "code",
      "execution_count": null,
      "metadata": {
        "colab": {
          "base_uri": "https://localhost:8080/"
        },
        "id": "LMNnGyFtdO1w",
        "outputId": "fc1d10fa-8ee2-4dd4-d8f1-29e0781bcdfd"
      },
      "outputs": [
        {
          "name": "stdout",
          "output_type": "stream",
          "text": [
            "14\n"
          ]
        }
      ],
      "source": [
        "x = 4\n",
        "x += 3\n",
        "x *= 2\n",
        "print(x)"
      ]
    },
    {
      "cell_type": "markdown",
      "metadata": {
        "id": "OeaAlq_HdQjp"
      },
      "source": [
        "Comparision Operators:"
      ]
    },
    {
      "cell_type": "code",
      "execution_count": null,
      "metadata": {
        "colab": {
          "base_uri": "https://localhost:8080/"
        },
        "id": "V0irEPdedVAT",
        "outputId": "4286fd3a-d843-426a-fae8-9cd049378056"
      },
      "outputs": [
        {
          "name": "stdout",
          "output_type": "stream",
          "text": [
            "True\n",
            "True\n",
            "False\n"
          ]
        }
      ],
      "source": [
        "print(5 == 5)\n",
        "print(3 != 4)\n",
        "print(7 >= 10)"
      ]
    },
    {
      "cell_type": "markdown",
      "metadata": {
        "id": "KqIbaxE3daVM"
      },
      "source": [
        "Logical Operators:"
      ]
    },
    {
      "cell_type": "code",
      "execution_count": null,
      "metadata": {
        "colab": {
          "base_uri": "https://localhost:8080/"
        },
        "id": "u5CYKUd5ddHl",
        "outputId": "cb9230e5-3cb4-4605-e834-affbdb03c413"
      },
      "outputs": [
        {
          "name": "stdout",
          "output_type": "stream",
          "text": [
            "False\n",
            "True\n",
            "False\n"
          ]
        }
      ],
      "source": [
        "a = 5\n",
        "b = 2\n",
        "print(a > 3 and b < 1)\n",
        "print(a < 10 or b > 5)\n",
        "print(not (a == 5))"
      ]
    },
    {
      "cell_type": "markdown",
      "metadata": {
        "id": "6vI1zcuadyoa"
      },
      "source": [
        "**Control Structures:**\n",
        "\n",
        "If-elif-else"
      ]
    },
    {
      "cell_type": "code",
      "execution_count": null,
      "metadata": {
        "colab": {
          "base_uri": "https://localhost:8080/"
        },
        "id": "sa12DCTxd35p",
        "outputId": "34fa5fd1-6fca-4c87-ef62-d011c79c914e"
      },
      "outputs": [
        {
          "name": "stdout",
          "output_type": "stream",
          "text": [
            "a and b are equal\n"
          ]
        }
      ],
      "source": [
        "a = 33\n",
        "b = 33\n",
        "if b > a:\n",
        "  print(\"b is greater than a\")\n",
        "elif a == b:\n",
        "  print(\"a and b are equal\")\n",
        "else:\n",
        "  print(\"a is greater than b\")"
      ]
    },
    {
      "cell_type": "markdown",
      "metadata": {
        "id": "3L3UTOBEeK15"
      },
      "source": [
        "**and** keyword"
      ]
    },
    {
      "cell_type": "code",
      "execution_count": null,
      "metadata": {
        "colab": {
          "base_uri": "https://localhost:8080/"
        },
        "id": "9OPX6JQ0eNwn",
        "outputId": "d9185f7f-8f5a-419a-9a16-c7bf76ac6729"
      },
      "outputs": [
        {
          "name": "stdout",
          "output_type": "stream",
          "text": [
            "Both conditions are True\n"
          ]
        }
      ],
      "source": [
        "a = 200\n",
        "b = 33\n",
        "c = 500\n",
        "if a > b and c > a:\n",
        "  print(\"Both conditions are True\")"
      ]
    },
    {
      "cell_type": "markdown",
      "metadata": {
        "id": "OUv8m6KWeSfO"
      },
      "source": [
        "**or** keyword"
      ]
    },
    {
      "cell_type": "code",
      "execution_count": null,
      "metadata": {
        "colab": {
          "base_uri": "https://localhost:8080/"
        },
        "id": "oPc4IVVeeU8Q",
        "outputId": "910516e6-f7b2-4925-9d3a-40c24e06cd9c"
      },
      "outputs": [
        {
          "name": "stdout",
          "output_type": "stream",
          "text": [
            "At least one of the conditions is True\n"
          ]
        }
      ],
      "source": [
        "a = 200\n",
        "b = 33\n",
        "c = 500\n",
        "if a > b or a > c:\n",
        "  print(\"At least one of the conditions is True\")"
      ]
    },
    {
      "cell_type": "markdown",
      "metadata": {
        "id": "0hYZfNRmeh1h"
      },
      "source": [
        "**not** keyword"
      ]
    },
    {
      "cell_type": "code",
      "execution_count": null,
      "metadata": {
        "colab": {
          "base_uri": "https://localhost:8080/"
        },
        "id": "v1lvsCioekZ2",
        "outputId": "8c327bef-1376-4b0e-afdf-5d839617344e"
      },
      "outputs": [
        {
          "name": "stdout",
          "output_type": "stream",
          "text": [
            "a is NOT greater than b\n"
          ]
        }
      ],
      "source": [
        "a = 33\n",
        "b = 200\n",
        "if not a > b:\n",
        "  print(\"a is NOT greater than b\")"
      ]
    },
    {
      "cell_type": "markdown",
      "metadata": {
        "id": "zV0aT1IQSDog"
      },
      "source": [
        "In python we cannot do answer++ or answer--, so we need to do answer=answer+1, answer=answer-1\n",
        "\n",
        "**Comparison Operators and Logical:**"
      ]
    },
    {
      "cell_type": "code",
      "execution_count": null,
      "metadata": {
        "colab": {
          "base_uri": "https://localhost:8080/"
        },
        "id": "u7Rkk1Q1SSPF",
        "outputId": "5e40c8c6-18cb-41dd-bed7-5ad9a9598451"
      },
      "outputs": [
        {
          "name": "stdout",
          "output_type": "stream",
          "text": [
            "True\n",
            "False\n",
            "True\n",
            "allowed\n"
          ]
        }
      ],
      "source": [
        "result= 5==5\n",
        "print(result)\n",
        "result = (2>10) and (10==10)\n",
        "print(result)\n",
        "result = not((2>10) and (10==10))\n",
        "print(result)\n",
        "isCitizen = False\n",
        "age = 18\n",
        "if (age>=18) or (isCitizen):\n",
        "   print(\"allowed\")"
      ]
    },
    {
      "cell_type": "markdown",
      "metadata": {
        "id": "ahZC8LFeTyRK"
      },
      "source": [
        "**For loops:**"
      ]
    },
    {
      "cell_type": "markdown",
      "metadata": {
        "id": "uYbyJjsdWSoS"
      },
      "source": [
        "**Loop over a range:**"
      ]
    },
    {
      "cell_type": "code",
      "execution_count": null,
      "metadata": {
        "colab": {
          "base_uri": "https://localhost:8080/"
        },
        "id": "kTL_3RevT2ii",
        "outputId": "bb8e5979-50cc-4fab-b123-cb2fda1f6685"
      },
      "outputs": [
        {
          "name": "stdout",
          "output_type": "stream",
          "text": [
            "0\n",
            "1\n",
            "2\n"
          ]
        }
      ],
      "source": [
        "for i in range(3):\n",
        "    print(i)"
      ]
    },
    {
      "cell_type": "markdown",
      "metadata": {
        "id": "1oQtQc67UA6Z"
      },
      "source": [
        "**Loop over a list:**"
      ]
    },
    {
      "cell_type": "code",
      "execution_count": null,
      "metadata": {
        "colab": {
          "base_uri": "https://localhost:8080/"
        },
        "id": "RlG0ow--UECi",
        "outputId": "5600e63b-2609-40c8-e42c-a3ddbb9edf4c"
      },
      "outputs": [
        {
          "name": "stdout",
          "output_type": "stream",
          "text": [
            "maths\n",
            "physics\n",
            "chem\n",
            "maths\n"
          ]
        }
      ],
      "source": [
        "subject=[\"maths\",\"physics\",\"chem\"]\n",
        "for i in subject:\n",
        "    print(i)\n",
        "\n",
        "print(subject[0])"
      ]
    },
    {
      "cell_type": "markdown",
      "metadata": {
        "id": "VrbxlWgpUeG9"
      },
      "source": [
        "**Loop over a dictionary:**"
      ]
    },
    {
      "cell_type": "code",
      "execution_count": null,
      "metadata": {
        "colab": {
          "base_uri": "https://localhost:8080/"
        },
        "id": "87byAPspUk0h",
        "outputId": "6f9fa6c3-d2ab-407c-af94-9495d56b66a2"
      },
      "outputs": [
        {
          "name": "stdout",
          "output_type": "stream",
          "text": [
            "name Kinza\n",
            "age 20\n",
            "\n",
            "\n",
            "name Kinza\n",
            "age 20\n",
            "\n",
            "\n",
            "Kinza\n",
            "\n",
            "\n",
            "Sheryan\n",
            "22\n"
          ]
        }
      ],
      "source": [
        "person={\"name\":\"Kinza\", \"age\":\"20\"}\n",
        "for key in person:\n",
        "    print(key,person[key])\n",
        "print(\"\\n\")\n",
        "\n",
        "#Another way to loop over a dictionary\n",
        "for key,value in person.items():\n",
        "    print(key,value)\n",
        "print(\"\\n\")\n",
        "\n",
        "print(person[\"name\"])\n",
        "\n",
        "#value in keys can be overwritten\n",
        "#It will only print the most recent one\n",
        "person={\"name\":\"Kinza\", \"age\":\"20\",\"name\":\"Sheryan\",\"age\":\"22\"}\n",
        "print(\"\\n\")\n",
        "print(person[\"name\"])\n",
        "print(person[\"age\"])"
      ]
    },
    {
      "cell_type": "markdown",
      "metadata": {
        "id": "WhtQcolvWoyD"
      },
      "source": [
        "**Nested Loops:**"
      ]
    },
    {
      "cell_type": "code",
      "execution_count": null,
      "metadata": {
        "colab": {
          "base_uri": "https://localhost:8080/"
        },
        "id": "-hlyZkZwWsYj",
        "outputId": "18a183f4-426d-4bf7-abaf-78cc59485f6e"
      },
      "outputs": [
        {
          "name": "stdout",
          "output_type": "stream",
          "text": [
            "0 0\n",
            "0 1\n",
            "1 0\n",
            "1 1\n"
          ]
        }
      ],
      "source": [
        "for i in range(2):\n",
        "    for j in range(2):\n",
        "        print(i,j)"
      ]
    },
    {
      "cell_type": "markdown",
      "metadata": {
        "id": "7fHSs8HBX1am"
      },
      "source": [
        "**While Loops:**"
      ]
    },
    {
      "cell_type": "code",
      "execution_count": null,
      "metadata": {
        "colab": {
          "base_uri": "https://localhost:8080/"
        },
        "id": "eVxKh5ZIZax0",
        "outputId": "9fa360bd-ee53-4c98-e899-5a565f8a5e91"
      },
      "outputs": [
        {
          "name": "stdout",
          "output_type": "stream",
          "text": [
            "1\n",
            "2\n",
            "3\n",
            "4\n",
            "5\n",
            "6\n"
          ]
        }
      ],
      "source": [
        "count=0\n",
        "while count<=5:\n",
        "     count=count+1\n",
        "     print(count)"
      ]
    },
    {
      "cell_type": "markdown",
      "metadata": {
        "id": "LRM1161LaiJp"
      },
      "source": [
        "**Functions:**"
      ]
    },
    {
      "cell_type": "code",
      "execution_count": null,
      "metadata": {
        "colab": {
          "base_uri": "https://localhost:8080/"
        },
        "id": "PQ_MBcx4amPL",
        "outputId": "3dff44d6-6f90-4805-99af-c33adc79b4db"
      },
      "outputs": [
        {
          "name": "stdout",
          "output_type": "stream",
          "text": [
            "Hello Kinza ur age is: 20\n",
            "The sum is: 5\n"
          ]
        }
      ],
      "source": [
        "def greet(name,age):\n",
        "  print(f\"Hello {name} ur age is: {age}\")\n",
        "\n",
        "greet(\"Kinza\",20)\n",
        "\n",
        "def add(num1,num2):\n",
        "   print(f\"The sum is: {num1+num2}\")\n",
        "\n",
        "add(2,3)"
      ]
    },
    {
      "cell_type": "code",
      "execution_count": null,
      "metadata": {
        "colab": {
          "base_uri": "https://localhost:8080/"
        },
        "id": "SVAlfx_qj_7l",
        "outputId": "aadb8ba4-1d4f-4377-8165-e261369f164e"
      },
      "outputs": [
        {
          "name": "stdout",
          "output_type": "stream",
          "text": [
            "The average is: 3.0\n"
          ]
        }
      ],
      "source": [
        "\n",
        "def average(numbers):\n",
        " return sum(numbers)/len(numbers)\n",
        "\n",
        "nums = [1,2,3,4,5]\n",
        "print(f\"The average is: {average(nums)}\")"
      ]
    },
    {
      "cell_type": "markdown",
      "metadata": {
        "id": "GuE00Ju8kLlX"
      },
      "source": [
        "**Lambda Function in Python:**\n",
        "A lambda function in Python is a small anonymous function (i.e., it doesn’t need a name). It's used for short, simple operations — often used as a one-liner function for quick tasks.\n",
        "\n",
        "lambda arguments: expression"
      ]
    },
    {
      "cell_type": "code",
      "execution_count": null,
      "metadata": {
        "colab": {
          "base_uri": "https://localhost:8080/"
        },
        "id": "uBHsVXS1kQiD",
        "outputId": "4dca5cf6-3eab-49bf-9784-998889d1c283"
      },
      "outputs": [
        {
          "name": "stdout",
          "output_type": "stream",
          "text": [
            "5\n",
            "4\n",
            "[2, 4]\n"
          ]
        }
      ],
      "source": [
        "add = lambda num1,num2: num1+num2\n",
        "print(add(2,3))\n",
        "\n",
        "square = lambda x: x*x\n",
        "print(square(2))\n",
        "\n",
        "#filter(function, iterable)\n",
        "nums = [1, 2, 3, 4, 5]\n",
        "even = list(filter(lambda x: x % 2 == 0, nums))\n",
        "print(even)"
      ]
    },
    {
      "cell_type": "markdown",
      "metadata": {
        "id": "DULgkh6vlUDK"
      },
      "source": [
        "**Basic I/O:**"
      ]
    },
    {
      "cell_type": "code",
      "execution_count": null,
      "metadata": {
        "colab": {
          "base_uri": "https://localhost:8080/"
        },
        "id": "VOOAEihTlXUR",
        "outputId": "59ad5983-b0f7-4ed1-9bc9-e58f7c475b59"
      },
      "outputs": [
        {
          "name": "stdout",
          "output_type": "stream",
          "text": [
            "What is your name: kinza\n",
            "20\n",
            "kinza\n",
            "20\n",
            "Hello kinza, ur age is: 20\n",
            "welcome kinza your age is 20\n",
            "welcome kinza your age is 20\n"
          ]
        }
      ],
      "source": [
        "name = input(\"What is your name: \")\n",
        "age = input()\n",
        "print(name)\n",
        "print(age)\n",
        "print(f\"Hello {name}, ur age is: {age}\")\n",
        "print(\"welcome \" + name + \" your age is \" + str(age))\n",
        "print(\"welcome\",name,\"your age is\",age)"
      ]
    },
    {
      "cell_type": "markdown",
      "metadata": {
        "id": "a-H9TwUhmJKb"
      },
      "source": [
        "**File Operations:**"
      ]
    },
    {
      "cell_type": "markdown",
      "metadata": {
        "id": "eKiCjIjbnAcL"
      },
      "source": [
        "**Writing:**"
      ]
    },
    {
      "cell_type": "code",
      "execution_count": null,
      "metadata": {
        "id": "YJJT3-XQmLq0"
      },
      "outputs": [],
      "source": [
        "with open(\"data.txt\",\"w\") as file:\n",
        "  file.write(\"Hello, World!\")\n"
      ]
    },
    {
      "cell_type": "markdown",
      "metadata": {
        "id": "2xIP0zu1nNcw"
      },
      "source": [
        "**Reading:**"
      ]
    },
    {
      "cell_type": "code",
      "execution_count": null,
      "metadata": {
        "colab": {
          "base_uri": "https://localhost:8080/"
        },
        "id": "EtKe8e2OnQPZ",
        "outputId": "87736721-44d3-4d71-ab01-ae573924c691"
      },
      "outputs": [
        {
          "name": "stdout",
          "output_type": "stream",
          "text": [
            "Hello, World!\n"
          ]
        }
      ],
      "source": [
        "with open(\"data.txt\",\"r\") as file:\n",
        "  print(file.read())"
      ]
    },
    {
      "cell_type": "markdown",
      "metadata": {
        "id": "I1MkJP-MnamK"
      },
      "source": [
        "**Reading line by line:**"
      ]
    },
    {
      "cell_type": "code",
      "execution_count": null,
      "metadata": {
        "colab": {
          "base_uri": "https://localhost:8080/"
        },
        "id": "gL2Mmh6hnfgO",
        "outputId": "016fc648-2c4b-49be-f6ff-de2e4878a20f"
      },
      "outputs": [
        {
          "name": "stdout",
          "output_type": "stream",
          "text": [
            "Hello, World!\n"
          ]
        }
      ],
      "source": [
        "file = open(\"data.txt\", \"r\")\n",
        "for line in file:\n",
        "     print(line.strip())\n",
        "     #strip removes /n\n",
        "file.close()"
      ]
    },
    {
      "cell_type": "markdown",
      "metadata": {
        "id": "UnsxGCoonyt7"
      },
      "source": [
        "**Appending:**"
      ]
    },
    {
      "cell_type": "code",
      "execution_count": null,
      "metadata": {
        "id": "A-kAJEQ4n1Hk"
      },
      "outputs": [],
      "source": [
        "with open(\"data.txt\", \"a\") as file:\n",
        " file.write(\"\\nline 2\")"
      ]
    },
    {
      "cell_type": "code",
      "execution_count": null,
      "metadata": {
        "colab": {
          "base_uri": "https://localhost:8080/"
        },
        "id": "Y-MJmRWXn42G",
        "outputId": "86cce555-af83-4b00-887a-bfee735649eb"
      },
      "outputs": [
        {
          "name": "stdout",
          "output_type": "stream",
          "text": [
            "Hello, World!\n",
            "line 2\n"
          ]
        }
      ],
      "source": [
        "file = open(\"data.txt\", \"r\")\n",
        "for line in file:\n",
        "     print(line.strip())\n",
        "     #strip removes /n\n",
        "file.close()"
      ]
    },
    {
      "cell_type": "markdown",
      "metadata": {
        "id": "1czUwr_cw8Wj"
      },
      "source": [
        "**TASK-01: Student Report Card Generator**\n",
        "\n",
        " • Take Input from the User (name and age)\n",
        "\n",
        " • Take Input For 3 Subjects in a dictionary\n",
        "\n",
        "subject:marks\n",
        " (english, math, urdu)\n",
        "\n",
        "• Define a Function to Calculate Average of all subjects together\n",
        "\n",
        "• Grade Assignment using if/elif/else\n",
        "\n",
        " Average Score Grade\n",
        "\n",
        " 80 or above A\n",
        "\n",
        " 60 to 79 B\n",
        "\n",
        " 40 to 59 C\n",
        "\n",
        " Below 40 F\n",
        "\n",
        " • Bonus give using lambda function (Ask the user: Add 5 bonus marks to all subjects? (yes/no))\n",
        "\n",
        " • Write the Report to a File\n",
        "\n",
        " Name: Ali\n",
        "\n",
        " Age: 20\n",
        "\n",
        " Math: 90\n",
        "\n",
        " English: 83\n",
        "\n",
        " Urdu: 95\n",
        "\n",
        " Average: 89.33\n",
        "\n",
        " Grade: A\n",
        "\n",
        " • Read and Display the Report Card  "
      ]
    },
    {
      "cell_type": "code",
      "execution_count": null,
      "metadata": {
        "colab": {
          "base_uri": "https://localhost:8080/"
        },
        "id": "a7c7JYMOw7wS",
        "outputId": "302544cb-e8ee-46a0-dbd2-065c64fb71ce"
      },
      "outputs": [
        {
          "name": "stdout",
          "output_type": "stream",
          "text": [
            "What's your name? Kinza\n",
            "Kinza\n",
            "What's your age? 20\n",
            "20\n",
            "Enter marks for English: 83\n",
            "Enter marks for Maths: 90\n",
            "Enter marks for Urdu: 95\n",
            "Do you want to add 5 bonus marks to each score? (yes/no): yes\n",
            "Average Marks: 94.33\n",
            "Grade: A\n",
            "Student data has been written to 'studentreport.txt'.\n",
            "\n",
            "Generated Report Card:\n",
            "Name: Kinza\n",
            "Age: 20\n",
            "English: 88\n",
            "Maths: 95\n",
            "Urdu: 100\n",
            "Average: 94.33\n",
            "Grade: A\n",
            "\n"
          ]
        }
      ],
      "source": [
        "name = input(\"What's your name? \")\n",
        "print(name)\n",
        "age = input(\"What's your age? \")\n",
        "print(age)\n",
        "\n",
        "subjects = [\"English\", \"Maths\", \"Urdu\"]\n",
        "marks = {}\n",
        "\n",
        "for subject in subjects:\n",
        "    marks[subject] = int(input(f\"Enter marks for {subject}: \"))\n",
        "\n",
        "bonus_input = input(\"Do you want to add 5 bonus marks to each score? (yes/no): \").strip().lower()\n",
        "add_bonus = lambda x: x + 5 if bonus_input == \"yes\" else x\n",
        "\n",
        "for subject in subjects:\n",
        "    marks[subject] = add_bonus(marks[subject])\n",
        "\n",
        "def avg(scores):\n",
        "    return sum(scores) / len(scores)\n",
        "\n",
        "average = avg(list(marks.values()))\n",
        "print(f\"Average Marks: {average:.2f}\")\n",
        "\n",
        "if average >= 80:\n",
        "    grade = \"A\"\n",
        "elif 60 <= average <= 79:\n",
        "    grade = \"B\"\n",
        "elif 40 <= average <= 59:\n",
        "    grade = \"C\"\n",
        "else:\n",
        "    grade = \"F\"\n",
        "\n",
        "print(f\"Grade: {grade}\")\n",
        "with open(\"studentreport.txt\", \"w\") as file:\n",
        "    file.write(f\"Name: {name}\\n\")\n",
        "    file.write(f\"Age: {age}\\n\")\n",
        "    for subject in subjects:\n",
        "        file.write(f\"{subject}: {marks[subject]}\\n\")\n",
        "    file.write(f\"Average: {average:.2f}\\n\")\n",
        "    file.write(f\"Grade: {grade}\\n\")\n",
        "\n",
        "print(\"Student data has been written to 'studentreport.txt'.\")\n",
        "\n",
        "with open(\"studentreport.txt\", \"r\") as file:\n",
        "    print(\"\\nGenerated Report Card:\")\n",
        "    print(file.read())"
      ]
    },
    {
      "cell_type": "markdown",
      "metadata": {
        "id": "07vrhb5Q0q5m"
      },
      "source": [
        "# ML DAY-02\n",
        "\n",
        "Lists, Dictionaries, Sets"
      ]
    },
    {
      "cell_type": "markdown",
      "metadata": {
        "id": "MpiQ9SZAah10"
      },
      "source": [
        "**Lists:**\n",
        "\n",
        "List items are ordered, changeable, and allow duplicate values.\n",
        "\n",
        "List items are indexed, the first item has index [0], the second item has index [1] etc.\n",
        "\n",
        "The list is changeable, meaning that we can change, add, and remove items in a list after it has been created.\n",
        "\n",
        "Lists can have elements of multiple data types.\n",
        "\n",
        "Made by square brackets. []"
      ]
    },
    {
      "cell_type": "code",
      "execution_count": null,
      "metadata": {
        "colab": {
          "base_uri": "https://localhost:8080/"
        },
        "id": "Aje0i8hY0wr5",
        "outputId": "e9a9cf44-ada5-4e53-c80b-b039d0d71eb3"
      },
      "outputs": [
        {
          "name": "stdout",
          "output_type": "stream",
          "text": [
            "[1, 2, 3, 4, 5]\n",
            "['Kinza', 1, 2, 2.55, True]\n"
          ]
        }
      ],
      "source": [
        "numbers = [1,2,3,4,5]\n",
        "print(numbers)\n",
        "\n",
        "mixed = [\"Kinza\",1,2,2.55,True]\n",
        "print(mixed)"
      ]
    },
    {
      "cell_type": "markdown",
      "metadata": {
        "id": "ZY5FeN5ua9IL"
      },
      "source": [
        "**Length:** use len(listname)\n",
        "\n",
        "**Type:** use type(listname)"
      ]
    },
    {
      "cell_type": "code",
      "execution_count": null,
      "metadata": {
        "colab": {
          "base_uri": "https://localhost:8080/"
        },
        "id": "mASBcwcwbFHo",
        "outputId": "a83eee75-9a01-46cb-972e-9956bbf9d637"
      },
      "outputs": [
        {
          "name": "stdout",
          "output_type": "stream",
          "text": [
            "3\n",
            "<class 'list'>\n"
          ]
        }
      ],
      "source": [
        "thislist = [\"apple\", \"banana\", \"cherry\"]\n",
        "print(len(thislist))\n",
        "\n",
        "mylist = [\"apple\", \"banana\", \"cherry\"]\n",
        "print(type(mylist))"
      ]
    },
    {
      "cell_type": "markdown",
      "metadata": {
        "id": "AGakH7kebckp"
      },
      "source": [
        "**List Methods:**\n",
        "append, remove, insert, pop\n",
        "\n",
        "1. append(value)\n",
        "What it does: Adds a value to the end of the list\n",
        "\n",
        "2. insert(index, value)\n",
        "What it does: Inserts a value into the list at a specific position (index).\n",
        "All elements from that position onward are shifted one place to the right.\n",
        "\n",
        "3. remove(value)\n",
        "What it does: Removes the first occurrence of the specified value from the list.\n",
        "\n",
        "Important: If the value appears more than once, only the first one is removed.\n",
        "\n",
        "4. pop()\n",
        "What it does: Removes and returns the last item from the list.\n",
        "\n",
        "Useful when: You want to both remove the item and use it elsewhere in your code."
      ]
    },
    {
      "cell_type": "code",
      "execution_count": null,
      "metadata": {
        "colab": {
          "base_uri": "https://localhost:8080/"
        },
        "id": "JMQhpUEzb_YC",
        "outputId": "5d056f34-cd31-4419-fa18-971a84a9221d"
      },
      "outputs": [
        {
          "name": "stdout",
          "output_type": "stream",
          "text": [
            "['Kinza', 1, 2, 2.55, True]\n",
            "['Kinza', 1, 2, 2.55, True, 'Sheryan']\n",
            "[2, 'Kinza', 1, 2, 2.55, True, 'Sheryan']\n",
            "[2, 'Kinza', 1, 2, True, 'Sheryan']\n",
            "Sheryan\n",
            "[2, 'Kinza', 1, 2, True]\n",
            "[2, 'Kinza', 1, 2, True, 'Sheryan']\n"
          ]
        }
      ],
      "source": [
        "mixed = [\"Kinza\",1,2,2.55,True]\n",
        "print(mixed)\n",
        "mixed.append(\"Sheryan\")\n",
        "print(mixed)\n",
        "#this adds 2 to the list at index 0\n",
        "mixed.insert(0,2)\n",
        "print(mixed)\n",
        "\n",
        "mixed.remove(2.55)\n",
        "print(mixed)\n",
        "\n",
        "popped=mixed.pop()\n",
        "print(popped)\n",
        "print(mixed)\n",
        "\n",
        "mixed.append(\"Sheryan\")\n",
        "print(mixed)"
      ]
    },
    {
      "cell_type": "markdown",
      "metadata": {
        "id": "Mgr056BAei9q"
      },
      "source": [
        "**List Comprehensions:**\n",
        "List comprehension is a short and elegant way to create a new list by performing an operation on each item in an existing list (or any iterable like a string, range, etc.).\n",
        "\n",
        "[expression for item in iterable]"
      ]
    },
    {
      "cell_type": "code",
      "execution_count": null,
      "metadata": {
        "colab": {
          "base_uri": "https://localhost:8080/"
        },
        "id": "fNr9F4x2eyaf",
        "outputId": "f5ed9794-c7e0-4180-b41c-ae29f9fa4fed"
      },
      "outputs": [
        {
          "name": "stdout",
          "output_type": "stream",
          "text": [
            "[0, 1, 4, 9, 16]\n",
            "[0, 1, 4, 9, 16]\n"
          ]
        }
      ],
      "source": [
        "squares =[x**2 for x in range(5)]\n",
        "print(squares)\n",
        "\n",
        "b=[]\n",
        "for i in range(5):\n",
        "    b.append(i**2)\n",
        "print(b)"
      ]
    },
    {
      "cell_type": "markdown",
      "metadata": {
        "id": "eTyM4UdKygW0"
      },
      "source": [
        "**Nested list comprehensions:**\n",
        "\n",
        "[[expression for item in outer] for outer in iterable]"
      ]
    },
    {
      "cell_type": "code",
      "execution_count": null,
      "metadata": {
        "colab": {
          "base_uri": "https://localhost:8080/"
        },
        "id": "85BIYR6YymPd",
        "outputId": "c73d59d3-7555-448d-8d50-980c04b2ab59"
      },
      "outputs": [
        {
          "name": "stdout",
          "output_type": "stream",
          "text": [
            "[1, 2, 3, 4, 5]\n",
            "[2, 4, 6, 8, 10]\n",
            "[3, 6, 9, 12, 15]\n",
            "[4, 8, 12, 16, 20]\n",
            "[5, 10, 15, 20, 25]\n",
            "[[1, 2, 3, 4, 5], [2, 4, 6, 8, 10], [3, 6, 9, 12, 15], [4, 8, 12, 16, 20], [5, 10, 15, 20, 25]]\n"
          ]
        }
      ],
      "source": [
        "\n",
        "#Multiplication from 1 to 5\n",
        "table = [[i * j for j in range(1, 6)] for i in range(1, 6)]\n",
        "for row in table:\n",
        "    print(row)\n",
        "\n",
        "print(table)"
      ]
    },
    {
      "cell_type": "markdown",
      "metadata": {
        "id": "vJemShjMzNYL"
      },
      "source": [
        "**Unpacking elements with *:**"
      ]
    },
    {
      "cell_type": "code",
      "execution_count": null,
      "metadata": {
        "colab": {
          "base_uri": "https://localhost:8080/"
        },
        "id": "ofJTNIv9cUc-",
        "outputId": "fa0c72e5-5e0a-47b0-a51e-c66b2a07a7f6"
      },
      "outputs": [
        {
          "name": "stdout",
          "output_type": "stream",
          "text": [
            "1\n",
            "[2, 3, 4]\n",
            "5\n",
            "\n",
            "\n",
            "1\n",
            "2\n",
            "[3, 4, 5]\n"
          ]
        }
      ],
      "source": [
        "\n",
        "#This will give error\n",
        "#a,b,c=[1,2,3,4,5]\n",
        "#print(a)\n",
        "#print(b)\n",
        "#print(c)\n",
        "\n",
        "#This will assign 1 to a, 5 to c and rest 2,3,4 to b\n",
        "a,*b,c=[1,2,3,4,5]\n",
        "print(a)\n",
        "print(b)\n",
        "print(c)\n",
        "print(\"\\n\")\n",
        "\n",
        "#This will assign 1 to a, 2 to b and 3,4,5 to c\n",
        "a,b,*c=[1,2,3,4,5]\n",
        "print(a)\n",
        "print(b)\n",
        "print(c)"
      ]
    },
    {
      "cell_type": "markdown",
      "metadata": {
        "id": "uvhLfNYndWie"
      },
      "source": [
        "**Dictionary:**\n",
        "A dictionary in Python is an unordered, mutable collection of key-value pairs. It's like a real-life dictionary where each word (key) maps to a definition (value).\n",
        "\n",
        "Made with {} curly brackets."
      ]
    },
    {
      "cell_type": "code",
      "execution_count": null,
      "metadata": {
        "colab": {
          "base_uri": "https://localhost:8080/"
        },
        "id": "eWX3M-THdbuq",
        "outputId": "b0a6e40b-0425-4617-f141-15e26a80e54d"
      },
      "outputs": [
        {
          "name": "stdout",
          "output_type": "stream",
          "text": [
            "Kinza\n",
            "20\n",
            "Kinza\n",
            "20\n",
            "A\n",
            "name Kinza\n",
            "age 20\n",
            "grade A\n",
            "dict_keys(['name', 'age', 'grade'])\n",
            "dict_values(['Kinza', 20, 'A'])\n",
            "dict_items([('name', 'Kinza'), ('age', 20), ('grade', 'A')])\n",
            "{'name': 'Kinza', 'age': 20, 'grade': 'A', 'good teacher': 'Sir Moheez'}\n",
            "\n",
            "\n",
            "{1: 1, 2: 2, 3: 3}\n"
          ]
        }
      ],
      "source": [
        "student={\n",
        "   \"name\":\"Kinza\",\n",
        "    \"age\":20,\n",
        "    \"grade\":\"A\"\n",
        "}\n",
        "print(student[\"name\"])\n",
        "print(student.get(\"age\"))\n",
        "\n",
        "for key in student:\n",
        "    print(student[key])\n",
        "\n",
        "for key,value in student.items():\n",
        "    print(key,value)\n",
        "\n",
        "print(student.keys())\n",
        "print(student.values())\n",
        "print(student.items())\n",
        "\n",
        "#Adding a key\n",
        "student[\"good teacher\"] =\"Sir Moheez\"\n",
        "print(student)\n",
        "\n",
        "print(\"\\n\")\n",
        "# key can also be like index\n",
        "cars={\n",
        "  1:1,\n",
        "  2:2,\n",
        "  3:3\n",
        "}\n",
        "print(cars)"
      ]
    },
    {
      "cell_type": "code",
      "execution_count": null,
      "metadata": {
        "colab": {
          "base_uri": "https://localhost:8080/"
        },
        "id": "Mr4YbcuZgJVI",
        "outputId": "443f5822-8dc9-4a2f-a3c4-ad54d0cd3ef4"
      },
      "outputs": [
        {
          "name": "stdout",
          "output_type": "stream",
          "text": [
            "{0: 0, 1: 1, 2: 4, 3: 9, 4: 16}\n"
          ]
        }
      ],
      "source": [
        "squares={\n",
        "    x:x**2 for x in range(5)\n",
        "}\n",
        "print(squares)"
      ]
    },
    {
      "cell_type": "markdown",
      "metadata": {
        "id": "EbceA-EWfGOm"
      },
      "source": [
        "**Difference between list and dictionary:**\n",
        "\n",
        "\n",
        "A **list** is a collection of items arranged in a specific order. Each item in a list is accessed by its index, starting from 0. Lists can hold any type of data—numbers, strings, or even other lists—and they allow duplicate values. You use lists when the position of elements matters or when you just want to store a sequence of items.\n",
        "\n",
        "Example: A list of student marks like [85, 90, 78].\n",
        "\n",
        "\n",
        "A **dictionary**, on the other hand, is a collection of key-value pairs. Each item is stored as a pair where the key is unique and is used to access its corresponding value. Unlike lists, dictionaries are unordered (until Python 3.7+, where insertion order is preserved), and you access values using the key, not an index. Dictionaries are great when you want to label data clearly.\n",
        "\n",
        "Example: A student record like {\"name\": \"Ali\", \"age\": 20, \"grade\": \"A\"}."
      ]
    },
    {
      "cell_type": "markdown",
      "metadata": {
        "id": "AAix3VOrhlMH"
      },
      "source": [
        "**Sets:**\n",
        "\n",
        "A set in Python is a collection of unique, unordered elements. It is similar to a mathematical set — it automatically removes duplicates and doesn't care about the order of elements.\n",
        "\n",
        "**Key features of set:**\n",
        "\n",
        "Unique\n",
        "\n",
        "Unordered\n",
        "\n",
        "Mutable\n",
        "\n",
        "Heterogeneous (Can contain different Datatypes)"
      ]
    },
    {
      "cell_type": "code",
      "execution_count": null,
      "metadata": {
        "colab": {
          "base_uri": "https://localhost:8080/"
        },
        "id": "m-89U4rxhtEY",
        "outputId": "3c6da940-ba8f-4531-c65b-760748cc9587"
      },
      "outputs": [
        {
          "name": "stdout",
          "output_type": "stream",
          "text": [
            "{'red', 'green', 'black'}\n",
            "{'red', 'green', 'black'}\n",
            "{'red', 'green', 'black'}\n",
            "{'red', 'green', 'black'}\n",
            "{1, 2, 3, 4, 5, 6}\n",
            "{3, 4}\n",
            "{1, 2}\n",
            "{1, 2, 3, 4, 5}\n",
            "{2, 3, 4, 5}\n",
            "{2, 3, 4, 5}\n"
          ]
        }
      ],
      "source": [
        "colours={'red','green','black'}\n",
        "print(colours)\n",
        "\n",
        "#Set cannot have duplicate elements, ek dafa hi print krega\n",
        "#so we say set is a collection of unique elements\n",
        "colours={'red','green','black','red'}\n",
        "print(colours)\n",
        "\n",
        "#we can also create set from a list\n",
        "colours=set(['red','green','black'])\n",
        "print(colours)\n",
        "\n",
        "colours=set(['red','green','black','red'])\n",
        "print(colours)\n",
        "\n",
        "num1={1,2,3,4}\n",
        "num2={3,4,5,6}\n",
        "\n",
        "#Union\n",
        "union=num1 | num2\n",
        "print(union)\n",
        "\n",
        "#Intersectiom\n",
        "intersection= num1 & num2\n",
        "print(intersection)\n",
        "\n",
        "#Difference\n",
        "diff= num1-num2\n",
        "print(diff)\n",
        "\n",
        "#Common Set Operations:\n",
        "num1.add(5)\n",
        "print(num1)\n",
        "\n",
        "#Remove gives error if element not found\n",
        "num1.remove(1)\n",
        "print(num1)\n",
        "\n",
        "#Discard (does nothing if element not found)\n",
        "num1.discard(1)\n",
        "print(num1)"
      ]
    },
    {
      "cell_type": "markdown",
      "metadata": {
        "id": "5Gmq8ApejV83"
      },
      "source": [
        "**String Operations:**\n",
        "\n",
        "Changing case"
      ]
    },
    {
      "cell_type": "code",
      "execution_count": null,
      "metadata": {
        "colab": {
          "base_uri": "https://localhost:8080/"
        },
        "id": "HV9_t_ZDkqp8",
        "outputId": "2061c8e3-c9cf-4c5e-86e5-a8a43c1aee48"
      },
      "outputs": [
        {
          "name": "stdout",
          "output_type": "stream",
          "text": [
            "hello world\n",
            "HELLO WORLD\n",
            "Hello World\n",
            "Hello world\n"
          ]
        }
      ],
      "source": [
        "s = \"Hello World\"\n",
        "print(s.lower())     # hello world\n",
        "print(s.upper())     # HELLO WORLD\n",
        "print(s.title())     # Hello World\n",
        "print(s.capitalize())  # Hello world"
      ]
    },
    {
      "cell_type": "markdown",
      "metadata": {
        "id": "DzP8xZ-CksN_"
      },
      "source": [
        "Removing Whitespaces"
      ]
    },
    {
      "cell_type": "code",
      "execution_count": null,
      "metadata": {
        "colab": {
          "base_uri": "https://localhost:8080/"
        },
        "id": "h04PyNM7kyA8",
        "outputId": "eb464f6b-cb43-4910-d5b7-a2786660e6b7"
      },
      "outputs": [
        {
          "name": "stdout",
          "output_type": "stream",
          "text": [
            "hello\n",
            "hello  \n",
            "  hello\n"
          ]
        }
      ],
      "source": [
        "s = \"  hello  \"\n",
        "print(s.strip())   # \"hello\"\n",
        "print(s.lstrip())  # \"hello  \"\n",
        "print(s.rstrip())  # \"  hello\""
      ]
    },
    {
      "cell_type": "markdown",
      "metadata": {
        "id": "Bz9mqlY0k6Mu"
      },
      "source": [
        "Replacing Substrings"
      ]
    },
    {
      "cell_type": "code",
      "execution_count": null,
      "metadata": {
        "colab": {
          "base_uri": "https://localhost:8080/"
        },
        "id": "OXCodmdDlBTW",
        "outputId": "7f84c055-c48e-42c6-deb4-c7b5e038d702"
      },
      "outputs": [
        {
          "name": "stdout",
          "output_type": "stream",
          "text": [
            "I love Python\n"
          ]
        }
      ],
      "source": [
        "s = \"I love Java\"\n",
        "print(s.replace(\"Java\", \"Python\"))"
      ]
    },
    {
      "cell_type": "markdown",
      "metadata": {
        "id": "fyRTRH1OlCbl"
      },
      "source": [
        "Splitting and Joining Strings"
      ]
    },
    {
      "cell_type": "code",
      "execution_count": null,
      "metadata": {
        "colab": {
          "base_uri": "https://localhost:8080/"
        },
        "id": "FmW_GKKUlSrg",
        "outputId": "a0d03aa5-97c3-4962-b80c-cb95edc116c3"
      },
      "outputs": [
        {
          "name": "stdout",
          "output_type": "stream",
          "text": [
            "['apple', 'banana', 'grape']\n",
            "apple banana grape\n"
          ]
        }
      ],
      "source": [
        "s = \"apple,banana,grape\"\n",
        "fruits = s.split(\",\")  # ['apple', 'banana', 'grape']\n",
        "print(fruits)\n",
        "\n",
        "sentence = \" \".join(fruits)\n",
        "print(sentence)  # apple banana grape"
      ]
    },
    {
      "cell_type": "markdown",
      "metadata": {
        "id": "wUDRptJDlWFA"
      },
      "source": [
        "Finding substrings"
      ]
    },
    {
      "cell_type": "code",
      "execution_count": null,
      "metadata": {
        "colab": {
          "base_uri": "https://localhost:8080/"
        },
        "id": "OoNkd150le0O",
        "outputId": "4ee9506d-2827-4f21-8b66-094db8c8712e"
      },
      "outputs": [
        {
          "name": "stdout",
          "output_type": "stream",
          "text": [
            "5\n",
            "-1\n",
            "True\n"
          ]
        }
      ],
      "source": [
        "s = \"data science\"\n",
        "print(s.find(\"sci\"))     # 5\n",
        "print(s.find(\"xyz\"))     # -1\n",
        "print(\"sci\" in s)        # True"
      ]
    },
    {
      "cell_type": "markdown",
      "metadata": {
        "id": "5oJPDTXQliZ5"
      },
      "source": [
        "String Indexing & Slicing"
      ]
    },
    {
      "cell_type": "code",
      "execution_count": null,
      "metadata": {
        "colab": {
          "base_uri": "https://localhost:8080/"
        },
        "id": "SMwKme-dllNG",
        "outputId": "67b526a2-daf4-4f84-9bd0-1164d16aae80"
      },
      "outputs": [
        {
          "name": "stdout",
          "output_type": "stream",
          "text": [
            "P\n",
            "n\n",
            "yth\n",
            "nohtyP\n"
          ]
        }
      ],
      "source": [
        "s = \"Python\"\n",
        "print(s[0])     # P\n",
        "print(s[-1])    # n\n",
        "print(s[1:4])   # yth\n",
        "print(s[::-1])  # nohtyP (reverse)"
      ]
    },
    {
      "cell_type": "markdown",
      "metadata": {
        "id": "u5A-pw_clxC-"
      },
      "source": [
        "Checking String Content:"
      ]
    },
    {
      "cell_type": "code",
      "execution_count": null,
      "metadata": {
        "colab": {
          "base_uri": "https://localhost:8080/"
        },
        "id": "nYcqntAul2qE",
        "outputId": "c87b4948-b860-48bd-a5f3-2e8e60b940df"
      },
      "outputs": [
        {
          "name": "stdout",
          "output_type": "stream",
          "text": [
            "True\n",
            "True\n",
            "True\n",
            "True\n"
          ]
        }
      ],
      "source": [
        "s = \"123\"\n",
        "print(s.isdigit())   # True\n",
        "\n",
        "s = \"abc\"\n",
        "print(s.isalpha())   # True\n",
        "\n",
        "s = \"abc123\"\n",
        "print(s.isalnum())   # True\n",
        "\n",
        "s = \"   \"\n",
        "print(s.isspace())   # True"
      ]
    },
    {
      "cell_type": "markdown",
      "metadata": {
        "id": "8gLYxgfol7mZ"
      },
      "source": [
        "Reversing a String"
      ]
    },
    {
      "cell_type": "code",
      "execution_count": null,
      "metadata": {
        "id": "E11BUH7ul-BE"
      },
      "outputs": [],
      "source": [
        "s = \"hello\"\n",
        "print(s[::-1])  # olleh"
      ]
    },
    {
      "cell_type": "markdown",
      "metadata": {
        "id": "k00UAcqTmBCe"
      },
      "source": [
        "Counting Occurences"
      ]
    },
    {
      "cell_type": "code",
      "execution_count": null,
      "metadata": {
        "colab": {
          "base_uri": "https://localhost:8080/"
        },
        "id": "Vws_eyaDmDVC",
        "outputId": "f91d2ddd-7177-47cd-ef77-1567951bb4af"
      },
      "outputs": [
        {
          "name": "stdout",
          "output_type": "stream",
          "text": [
            "2\n"
          ]
        }
      ],
      "source": [
        "s=\"appleia\"\n",
        "print(s.count(\"a\"))"
      ]
    },
    {
      "cell_type": "markdown",
      "metadata": {
        "id": "DK4-k6cRFkxI"
      },
      "source": [
        "# ML DAY-03\n",
        "Exception Handling, OOP and Numpy Operations"
      ]
    },
    {
      "cell_type": "markdown",
      "metadata": {
        "id": "-Mdl6r8CPKi2"
      },
      "source": [
        "**Some Common Built-in Exceptions:**\n",
        "\n",
        "ValueError:Raised when a function receive an argumentof correct type but inappropriate value.\n",
        "\n",
        "ZeroDivisionError: Raised when division or modulo by zero occurs.\n",
        "\n",
        "TypeError: Raised when an operation is applied to an object of inappropriate type.\n",
        "\n",
        "IndexError: Raised when a sequence index is out of range.\n",
        "\n",
        "KeyError: Raised when a dictionary key is not found.\n",
        "\n",
        "NameError: Raised when a variable is not defined.\n",
        "\n",
        "OverflowError: Raised when a number is too large to be represented.\n",
        "\n",
        "RuntimeError: Raised when an error is detected that doesn’t fall in any category."
      ]
    },
    {
      "cell_type": "code",
      "execution_count": null,
      "metadata": {
        "colab": {
          "base_uri": "https://localhost:8080/"
        },
        "id": "zKEV93VTFsS3",
        "outputId": "2a35c7c6-f4f0-4d25-c1c5-1d8e90c37b9d"
      },
      "outputs": [
        {
          "name": "stdout",
          "output_type": "stream",
          "text": [
            "Enter a number0\n",
            "0\n",
            "Cannot divide by zero\n",
            "This line always runs\n"
          ]
        }
      ],
      "source": [
        "try:\n",
        "   number =int(input(\"Enter a number\"))\n",
        "   print(number)\n",
        "   answer=10/number\n",
        "   print(answer)\n",
        "except ZeroDivisionError:\n",
        "   print(\"Cannot divide by zero\")\n",
        "except ValueError:\n",
        "   print(\"Invalid input!\")\n",
        "except Exception as e:\n",
        "   print(f\"An error occured {e}\")\n",
        "else:\n",
        "   print(\"No exception occured\")\n",
        "finally:\n",
        "   print(\"This line always runs\")"
      ]
    },
    {
      "cell_type": "markdown",
      "metadata": {
        "id": "8U4gCK0uQUAD"
      },
      "source": [
        "**Custom Error:**\n",
        "\n",
        "Made by user"
      ]
    },
    {
      "cell_type": "code",
      "execution_count": null,
      "metadata": {
        "colab": {
          "base_uri": "https://localhost:8080/"
        },
        "id": "xcZsNxnyQYbj",
        "outputId": "04f16be4-7280-41fe-9030-32fcc7550a2d"
      },
      "outputs": [
        {
          "name": "stdout",
          "output_type": "stream",
          "text": [
            "Enter your age: -1\n",
            "Custom Error: Age cannot be negative\n"
          ]
        }
      ],
      "source": [
        "class MyCustomError(Exception):\n",
        "     pass\n",
        "\n",
        "def check_age(age):\n",
        "    if age<0:\n",
        "        raise MyCustomError(\"Age cannot be negative\")\n",
        "\n",
        "try:\n",
        "    age = int(input(\"Enter your age: \"))\n",
        "    check_age(age)\n",
        "    print(\"Your age is:\", age)\n",
        "except MyCustomError as e:\n",
        "    print(\"Custom Error:\", e)"
      ]
    },
    {
      "cell_type": "markdown",
      "metadata": {
        "id": "0XgATBEXUogN"
      },
      "source": [
        "**OOP:**\n",
        "\n",
        "OOP (Object-Oriented Programming) is a programming paradigm based on the concept of \"objects\", which can contain data (attributes) and code (methods).\n",
        "\n",
        "**🔹 What is a Decorator?**\n",
        "A decorator is a function that takes another function as input and extends or modifies its behavior without changing its source code."
      ]
    },
    {
      "cell_type": "code",
      "execution_count": null,
      "metadata": {
        "colab": {
          "base_uri": "https://localhost:8080/"
        },
        "id": "4OT_czNZX-iw",
        "outputId": "3fd27a6b-6515-495c-b9a9-68e8ee1cf2b5"
      },
      "outputs": [
        {
          "name": "stdout",
          "output_type": "stream",
          "text": [
            "Car Name: Porsche\n",
            "Model: 911\n",
            "Price: 1000000\n"
          ]
        }
      ],
      "source": [
        "class Car:\n",
        "    # This acts as a constructor\n",
        "    def __init__(self, carname, model, price):\n",
        "        self.carname = carname\n",
        "        self.model = model\n",
        "        self.price = price\n",
        "\n",
        "    def print(self):\n",
        "        print(f\"Car Name: {self.carname}\")\n",
        "        print(f\"Model: {self.model}\")\n",
        "        print(f\"Price: {self.price}\")\n",
        "\n",
        "porsche = Car(\"Porsche\", \"911\", 1000000)\n",
        "porsche.print()"
      ]
    },
    {
      "cell_type": "code",
      "execution_count": null,
      "metadata": {
        "colab": {
          "base_uri": "https://localhost:8080/"
        },
        "id": "4SO9JOIfQzhy",
        "outputId": "f0ddd956-0880-47ae-f68d-95258e0856e8"
      },
      "outputs": [
        {
          "name": "stdout",
          "output_type": "stream",
          "text": [
            "Car Name: Porsche\n",
            "Model: 911\n",
            "Price: 1000000\n"
          ]
        }
      ],
      "source": [
        "class Car:\n",
        "    # This acts as a constructor\n",
        "    def __init__(self, carname, model, price):\n",
        "        self.carname = carname\n",
        "        self.model = model\n",
        "        self.price = price\n",
        "\n",
        "    @property\n",
        "    def print(self):\n",
        "        print(f\"Car Name: {self.carname}\")\n",
        "        print(f\"Model: {self.model}\")\n",
        "        print(f\"Price: {self.price}\")\n",
        "\n",
        "porsche = Car(\"Porsche\", \"911\", 1000000)\n",
        "porsche.print\n",
        "\n",
        "#Decorator ki waja se we can call print function as variable"
      ]
    },
    {
      "cell_type": "code",
      "execution_count": null,
      "metadata": {
        "colab": {
          "base_uri": "https://localhost:8080/"
        },
        "id": "ik_zHKKVZMcM",
        "outputId": "f83e2b7d-51fc-4f33-9663-5a178f78f590"
      },
      "outputs": [
        {
          "name": "stdout",
          "output_type": "stream",
          "text": [
            "20\n",
            "21\n"
          ]
        }
      ],
      "source": [
        "class Student:\n",
        "    def __init__(self, name, age):\n",
        "        self.name = name\n",
        "        self.__age = age  # private attribute\n",
        "\n",
        "    def get_age(self):        # public method\n",
        "        return self.__age\n",
        "\n",
        "    def set_age(self, age):\n",
        "        if age > 0:\n",
        "            self.__age = age\n",
        "\n",
        "stu = Student(\"Kinza\",20)\n",
        "print(stu.get_age())\n",
        "stu.set_age(21)\n",
        "print(stu.get_age())"
      ]
    },
    {
      "cell_type": "code",
      "execution_count": null,
      "metadata": {
        "colab": {
          "base_uri": "https://localhost:8080/"
        },
        "id": "LdtvQv3yZlMQ",
        "outputId": "2fa11edc-3564-4800-afb7-e5104a7b6022"
      },
      "outputs": [
        {
          "name": "stdout",
          "output_type": "stream",
          "text": [
            "Constructor called\n"
          ]
        }
      ],
      "source": [
        "class Test:\n",
        "    def __init__(self):\n",
        "        print(\"Constructor called\")\n",
        "\n",
        "    def __del__(self):\n",
        "        print(\"Destructor called\")\n",
        "\n",
        "obj = Test()"
      ]
    },
    {
      "cell_type": "code",
      "execution_count": null,
      "metadata": {
        "colab": {
          "base_uri": "https://localhost:8080/"
        },
        "id": "5ouobGxPcDB0",
        "outputId": "05a50f4a-75da-4566-d94b-e805cd66981a"
      },
      "outputs": [
        {
          "name": "stdout",
          "output_type": "stream",
          "text": [
            "I'm child class\n",
            "I'm parent class\n"
          ]
        }
      ],
      "source": [
        "class Parent:\n",
        "    def speak(self):\n",
        "        print(\"I'm parent class\")\n",
        "\n",
        "class Child(Parent):\n",
        "    def speakk(self):\n",
        "        print(\"I'm child class\")\n",
        "\n",
        "c= Child()\n",
        "c.speakk()\n",
        "c.speak()"
      ]
    },
    {
      "cell_type": "code",
      "execution_count": null,
      "metadata": {
        "colab": {
          "base_uri": "https://localhost:8080/"
        },
        "id": "M-psoFNnez6w",
        "outputId": "e51d1d8a-f8ac-4918-e62e-006faf9f5b02"
      },
      "outputs": [
        {
          "name": "stdout",
          "output_type": "stream",
          "text": [
            "I'm the child: Kinza\n",
            "I'm the parent: Sara\n"
          ]
        }
      ],
      "source": [
        "class Parent:\n",
        "    def __init__(self, parent_name):\n",
        "        self.parent_name = parent_name\n",
        "\n",
        "    def speak(self):\n",
        "        return f\"I'm the parent: {self.parent_name}\"\n",
        "\n",
        "class Child(Parent):\n",
        "    def __init__(self, parent_name, child_name):\n",
        "        super().__init__(parent_name)  # Call Parent's constructor\n",
        "        self.child_name = child_name\n",
        "\n",
        "    def speakk(self):\n",
        "        return f\"I'm the child: {self.child_name}\"\n",
        "\n",
        "# Create object\n",
        "c = Child(\"Sara\", \"Kinza\")\n",
        "print(c.speakk())     # I'm the child: Kinza\n",
        "print(c.speak())      # I'm the parent: sara"
      ]
    },
    {
      "cell_type": "markdown",
      "metadata": {
        "id": "KbwjkeYplKH6"
      },
      "source": [
        "**NumPy (Numerical Python)** is a library used for:\n",
        "\n",
        "Fast numerical operations\n",
        "\n",
        "Multidimensional arrays (ndarrays)\n",
        "\n",
        "Matrix operations\n",
        "\n",
        "Broadcasting\n",
        "\n",
        "Linear algebra, statistics, and more"
      ]
    },
    {
      "cell_type": "code",
      "execution_count": null,
      "metadata": {
        "colab": {
          "base_uri": "https://localhost:8080/"
        },
        "id": "r3gzSUgplNz_",
        "outputId": "43570f5e-56ff-4124-d6d8-fe3833eeeb4a"
      },
      "outputs": [
        {
          "name": "stdout",
          "output_type": "stream",
          "text": [
            "[1 2 3]\n",
            "[[1 2]\n",
            " [3 4]]\n",
            "(3,)\n",
            "(2, 2)\n"
          ]
        }
      ],
      "source": [
        "import numpy as np\n",
        "a = np.array([1, 2, 3])\n",
        "b = np.array([[1, 2], [3, 4]])\n",
        "\n",
        "print(a)         # 1D array\n",
        "print(b)         # 2D array\n",
        "print(a.shape)   # (3,)\n",
        "print(b.shape)   # (2, 2)"
      ]
    },
    {
      "cell_type": "code",
      "execution_count": null,
      "metadata": {
        "colab": {
          "base_uri": "https://localhost:8080/"
        },
        "id": "XLMcMcLKliNC",
        "outputId": "0d6139cf-e910-4d7d-d28c-fe93580a3bf8"
      },
      "outputs": [
        {
          "name": "stdout",
          "output_type": "stream",
          "text": [
            "10\n",
            "50\n",
            "[20 30 40]\n"
          ]
        }
      ],
      "source": [
        "arr = np.array([10, 20, 30, 40, 50])\n",
        "print(arr[0])      # 10\n",
        "print(arr[-1])     # 50\n",
        "print(arr[1:4])    # [20 30 40]\n",
        "#This includes 1st index value and excludes 4th index value"
      ]
    },
    {
      "cell_type": "code",
      "execution_count": null,
      "metadata": {
        "colab": {
          "base_uri": "https://localhost:8080/"
        },
        "id": "DhYHdpVoormA",
        "outputId": "80283e67-322f-4bb0-cd1c-c1db601f8347"
      },
      "outputs": [
        {
          "name": "stdout",
          "output_type": "stream",
          "text": [
            "[[1 2 3]\n",
            " [4 5 6]]\n",
            "[[1 2]\n",
            " [3 4]\n",
            " [5 6]]\n",
            "[[1 4]\n",
            " [2 5]\n",
            " [3 6]]\n"
          ]
        }
      ],
      "source": [
        "arr=np.array([[1,2,3],[4,5,6]])\n",
        "print(arr)\n",
        "\n",
        "# Reshaping an array\n",
        "reshaped = arr.reshape(3,2)\n",
        "print(reshaped)\n",
        "\n",
        "# Transpose of array\n",
        "print(arr.T)"
      ]
    },
    {
      "cell_type": "code",
      "execution_count": null,
      "metadata": {
        "colab": {
          "base_uri": "https://localhost:8080/"
        },
        "id": "LSz7SFicpQTq",
        "outputId": "78a2dbe5-3491-4d35-c628-f66097fcfa37"
      },
      "outputs": [
        {
          "name": "stdout",
          "output_type": "stream",
          "text": [
            "[[1 2 3]\n",
            " [4 5 6]]\n",
            "21\n",
            "3.5\n",
            "1\n",
            "6\n"
          ]
        }
      ],
      "source": [
        "arr=np.array([[1,2,3],[4,5,6]])\n",
        "print(arr)\n",
        "\n",
        "print(np.sum(arr))\n",
        "print(np.mean(arr))\n",
        "print(np.min(arr))\n",
        "print(np.max(arr))"
      ]
    },
    {
      "cell_type": "code",
      "execution_count": null,
      "metadata": {
        "colab": {
          "base_uri": "https://localhost:8080/"
        },
        "id": "zwBBldfLpizS",
        "outputId": "523544cd-289d-46bf-e8e9-a20d396671a7"
      },
      "outputs": [
        {
          "name": "stdout",
          "output_type": "stream",
          "text": [
            "[2 4 6]\n"
          ]
        }
      ],
      "source": [
        "a = np.array([1, 2, 3])\n",
        "b = 2\n",
        "print(a * b)     # [2 4 6]"
      ]
    },
    {
      "cell_type": "code",
      "execution_count": null,
      "metadata": {
        "colab": {
          "base_uri": "https://localhost:8080/"
        },
        "id": "Q6eXktiDpkhA",
        "outputId": "bedfbd4b-9fd9-4372-9b86-4cd8e3ea7697"
      },
      "outputs": [
        {
          "name": "stdout",
          "output_type": "stream",
          "text": [
            "[[0. 0.]\n",
            " [0. 0.]\n",
            " [0. 0.]]\n",
            "[[1. 1.]\n",
            " [1. 1.]\n",
            " [1. 1.]]\n",
            "[[1. 0.]\n",
            " [0. 1.]]\n",
            "[[0.09096783 0.48180266 0.81849187]\n",
            " [0.52234478 0.63929921 0.63834194]]\n",
            "[6 3 5]\n",
            "[[2 2]\n",
            " [2 2]]\n",
            "[[10 10]\n",
            " [10 10]]\n",
            "[1 3 5 7 9]\n",
            "[0 2 4 6 8]\n"
          ]
        }
      ],
      "source": [
        "import numpy as np\n",
        "zeroes =np.zeros((3,2))\n",
        "print(zeroes)\n",
        "\n",
        "ones = np.ones((3,2))\n",
        "print(ones)\n",
        "\n",
        "identity = np.eye((2))\n",
        "print(identity)\n",
        "\n",
        "random = np.random.rand(2,3)\n",
        "print(random)\n",
        "\n",
        "# 3 values in range from 2 to 10\n",
        "random = np.random.randint(2,10,3)\n",
        "print(random)\n",
        "\n",
        "fill = np.full((2,2),2)\n",
        "print(fill)\n",
        "\n",
        "fill = np.full((2,2),10)\n",
        "print(fill)\n",
        "\n",
        "# np.arange(start,stop,step)\n",
        "# 1 is included 10 is excluded\n",
        "arr = np.arange(1,10,2)\n",
        "print(arr)\n",
        "\n",
        "# 0 is included 10 is excluded\n",
        "arr = np.arange(0,10,2)\n",
        "print(arr)"
      ]
    },
    {
      "cell_type": "markdown",
      "metadata": {
        "id": "g7uSHUoZb3Mj"
      },
      "source": [
        "**arr.shape:**\n",
        "\n",
        "Returns the shape of array. (rows, columns)\n",
        "\n",
        "\n",
        "**arr.size:**\n",
        "\n",
        "Returns the total number of elements in the array\n",
        "\n",
        "**arr.dtype:**\n",
        "\n",
        "Shows the data type of the elements (e.g., int32, int64, float64).\n",
        "\n",
        "\n",
        "**arr.ndim:**\n",
        "\n",
        "Returns the number of dimensions (axes).\n",
        "\n",
        "📌 A 1D array has ndim = 1.\n",
        "\n"
      ]
    },
    {
      "cell_type": "code",
      "execution_count": null,
      "metadata": {
        "colab": {
          "base_uri": "https://localhost:8080/"
        },
        "id": "eqNvCny6agAF",
        "outputId": "bbfc8235-8d10-405a-9613-2600a232ecd9"
      },
      "outputs": [
        {
          "name": "stdout",
          "output_type": "stream",
          "text": [
            "(6,)\n",
            "6\n",
            "int64\n",
            "1\n",
            "1\n",
            "2\n",
            "3\n"
          ]
        }
      ],
      "source": [
        "arr = np.array([1,2,3,4,5,6])\n",
        "# To know the shape\n",
        "print(arr.shape)\n",
        "# To know the size\n",
        "print(arr.size)\n",
        "# To know the type\n",
        "print(arr.dtype)\n",
        "# To know the dimension\n",
        "print(arr.ndim)\n",
        "\n",
        "arr_1d = np.array([1,2,3,4,5,6])\n",
        "arr_2d = np.array([[1,2,3], [4,5,6]])\n",
        "arr_3d = np.array([[[1,2,3], [4,5,6]]])\n",
        "\n",
        "print(arr_1d.ndim)\n",
        "print(arr_2d.ndim)\n",
        "print(arr_3d.ndim)"
      ]
    },
    {
      "cell_type": "markdown",
      "metadata": {
        "id": "ms_kOxRhbWEg"
      },
      "source": [
        "**astype()** is used to convert the data type of an array without modifying the original array. This is helpful in many scenarios:"
      ]
    },
    {
      "cell_type": "code",
      "execution_count": null,
      "metadata": {
        "colab": {
          "base_uri": "https://localhost:8080/"
        },
        "id": "15cLff88bFfT",
        "outputId": "8647024f-392e-4dbf-f07d-93a6b5409deb"
      },
      "outputs": [
        {
          "name": "stdout",
          "output_type": "stream",
          "text": [
            "float64\n",
            "[1 2 3]\n",
            "float64\n"
          ]
        }
      ],
      "source": [
        "arr = np.array([1.2,2.4,3.6])\n",
        "print(arr.dtype)\n",
        "\n",
        "print(arr.astype(int))\n",
        "print(arr.dtype)"
      ]
    },
    {
      "cell_type": "markdown",
      "metadata": {
        "id": "3Be_PnOy6t_r"
      },
      "source": [
        "# ML DAY -04\n",
        "Advanced Numpy Operations"
      ]
    },
    {
      "cell_type": "code",
      "execution_count": null,
      "metadata": {
        "colab": {
          "base_uri": "https://localhost:8080/"
        },
        "id": "QXsqeYeZdQQX",
        "outputId": "2c819460-4979-476c-dc60-c84bd6803e73"
      },
      "outputs": [
        {
          "name": "stdout",
          "output_type": "stream",
          "text": [
            "[ 6  7  8  9 10 11]\n",
            "[ 2  4  6  8 10 12]\n",
            "[ 1  4  9 16 25 36]\n"
          ]
        }
      ],
      "source": [
        "import numpy as np\n",
        "arr = np.array([1,2,3,4,5,6])\n",
        "print(arr+5)\n",
        "print(arr*2)\n",
        "print(arr**2)"
      ]
    },
    {
      "cell_type": "code",
      "execution_count": null,
      "metadata": {
        "colab": {
          "base_uri": "https://localhost:8080/"
        },
        "id": "oPyc9kfJ6zbo",
        "outputId": "c3c0d29c-0fd6-40d0-b4ba-fe35e7ea799d"
      },
      "outputs": [
        {
          "name": "stdout",
          "output_type": "stream",
          "text": [
            "[5 7 9]\n",
            "[-3 -3 -3]\n",
            "[ 4 10 18]\n",
            "32\n",
            "[0 0 0]\n",
            "[  1  32 729]\n"
          ]
        }
      ],
      "source": [
        "import numpy as np\n",
        "numpy_array1 = np.array([1,2,3])\n",
        "numpy_array2 = np.array([4,5,6])\n",
        "numpy_array3 = numpy_array1+numpy_array2\n",
        "print(numpy_array3)\n",
        "\n",
        "numpy_array4 = numpy_array1-numpy_array2\n",
        "print(numpy_array4)\n",
        "\n",
        "numpy_array5 = numpy_array1*numpy_array2\n",
        "print(numpy_array5)\n",
        "\n",
        "# Dot product (1*4 + 2*5 + 3*6 = 32)\n",
        "# same as np.dot()\n",
        "numpy_array6 = numpy_array1@numpy_array2\n",
        "print(numpy_array6)\n",
        "\n",
        "# [1 // 4, 2 // 5, 3 // 6] → [0, 0, 0]\n",
        "numpy_array7 = numpy_array1 // numpy_array2\n",
        "print(numpy_array7)\n",
        "\n",
        "#[1**4, 2**5, 3**6] → [1, 32, 729]\n",
        "numpy_array8 = numpy_array1 ** numpy_array2\n",
        "print(numpy_array8)"
      ]
    },
    {
      "cell_type": "markdown",
      "metadata": {
        "id": "KRZfskERdUMc"
      },
      "source": [
        "**Aggregate Functions:**\n",
        "\n",
        "np.sum(arr)\n",
        "\n",
        "np.mean(arr) --> For average of array\n",
        "\n",
        "np.min(arr) --> For minimum of array\n",
        "\n",
        "np.max(arr) --> For maximum of array\n",
        "\n",
        "np.std(arr) --> For standard deviation of array\n",
        "\n",
        "np.var(arr) --> For variance of array\n",
        "\n",
        "np.sum(arr,axis=0) --> Column-wise sum\n",
        "\n",
        "np.sum(arr,axis=1) --> Row-wise sum"
      ]
    },
    {
      "cell_type": "code",
      "execution_count": null,
      "metadata": {
        "colab": {
          "base_uri": "https://localhost:8080/"
        },
        "id": "drYc5jPLc5sV",
        "outputId": "7bef7947-9ac0-4af5-f79c-2aa5ecc0248d"
      },
      "outputs": [
        {
          "name": "stdout",
          "output_type": "stream",
          "text": [
            "[[1 2 3]\n",
            " [4 5 6]]\n",
            "21\n",
            "3.5\n",
            "1\n",
            "6\n",
            "1.707825127659933\n",
            "2.9166666666666665\n",
            "[5 7 9]\n",
            "[ 6 15]\n"
          ]
        }
      ],
      "source": [
        "import numpy as np\n",
        "arr = np.array([[1,2,3],[4,5,6]])\n",
        "print(arr)\n",
        "print(np.sum(arr))\n",
        "print(np.mean(arr))\n",
        "print(np.min(arr))\n",
        "print(np.max(arr))\n",
        "print(np.std(arr))\n",
        "print(np.var(arr))\n",
        "# Column- wise sum\n",
        "print(np.sum(arr,axis=0))\n",
        "# Row- wise sum\n",
        "print(np.sum(arr,axis=1))"
      ]
    },
    {
      "cell_type": "markdown",
      "metadata": {
        "id": "Hv5ByvpLex1J"
      },
      "source": [
        "**Indexing and Slicing:**\n",
        "\n",
        " Slicing Syntax: arr[start:stop:step]\n",
        "\n",
        " 📌 Extra Tip: Slicing is non-destructive\n",
        "It returns a view or copy of the data — the original array remains unchanged unless you assign to the slice."
      ]
    },
    {
      "cell_type": "code",
      "execution_count": null,
      "metadata": {
        "colab": {
          "base_uri": "https://localhost:8080/"
        },
        "id": "T1K6lzKpe1PG",
        "outputId": "893747a8-8f07-4bb0-b7e2-da64a2754a02"
      },
      "outputs": [
        {
          "name": "stdout",
          "output_type": "stream",
          "text": [
            "10\n",
            "30\n",
            "50\n",
            "[20 30 40]\n",
            "[10 20 30]\n",
            "[30 40 50]\n",
            "[10 30 50]\n",
            "[50 40 30 20 10]\n"
          ]
        }
      ],
      "source": [
        "arr = np.array([10,20,30,40,50])\n",
        "print(arr[0]) # first element\n",
        "print(arr[2]) # third elemnt\n",
        "print(arr[-1]) # last element\n",
        "\n",
        "# arr[start:end]\n",
        "print(arr[1:4]) # 1 index is included, 4th index is excluded\n",
        "print(arr[:3]) # starting from 0th index, ending at 3rd index is excluded\n",
        "print(arr[2:]) # starting from 2nd index\n",
        "print(arr[::2]) # picks every 2nd element from start to end\n",
        "print(arr[::-1]) # Reversing the whole array"
      ]
    },
    {
      "cell_type": "markdown",
      "metadata": {
        "id": "aJcVxSpYhOyz"
      },
      "source": [
        "**Fancy Indexing:**\n",
        "Fancy indexing allows you to access multiple array elements at once using arrays (or lists) of indices, rather than using slicing."
      ]
    },
    {
      "cell_type": "code",
      "execution_count": null,
      "metadata": {
        "colab": {
          "base_uri": "https://localhost:8080/"
        },
        "id": "nBFrce2AhW87",
        "outputId": "44e9f1cd-f5a2-4924-c2d7-df67d6c93f3d"
      },
      "outputs": [
        {
          "name": "stdout",
          "output_type": "stream",
          "text": [
            "[10 30 50]\n",
            "[10 30 50]\n"
          ]
        }
      ],
      "source": [
        "import numpy as np\n",
        "\n",
        "arr = np.array([10, 20, 30, 40, 50])\n",
        "indices = [0, 2, 4]\n",
        "\n",
        "print(arr[indices])  # Output: [10 30 50]\n",
        "# or\n",
        "print(arr[[0,2,4]])"
      ]
    },
    {
      "cell_type": "markdown",
      "metadata": {
        "id": "TdtpM90GhqVx"
      },
      "source": [
        "**Filtering:**\n",
        "Filtering is a technique to extract elements from an array that satisfy a specific condition. It uses Boolean indexing under the hood.\n",
        "\n"
      ]
    },
    {
      "cell_type": "code",
      "execution_count": null,
      "metadata": {
        "colab": {
          "base_uri": "https://localhost:8080/"
        },
        "id": "B6LGbcLphzEb",
        "outputId": "cf31b455-082f-4de5-daf7-59419c0d836c"
      },
      "outputs": [
        {
          "name": "stdout",
          "output_type": "stream",
          "text": [
            "[30 40 50]\n"
          ]
        }
      ],
      "source": [
        "arr = np.array([10,20,30,40,50])\n",
        "print(arr[arr>25])\n",
        "# it will return only those values from arr that are greater than 25"
      ]
    },
    {
      "cell_type": "markdown",
      "metadata": {
        "id": "ynmwtjwBiOW1"
      },
      "source": [
        "**Re-shaping:**\n",
        "Reshaping is changing the shape (rows, columns, dimensions) of a NumPy array without changing its data.\n",
        "\n",
        "It’s useful in:\n",
        "\n",
        "Preprocessing data for ML models\n",
        "\n",
        "Converting between 1D, 2D, and 3D structures\n",
        "\n",
        "Making arrays compatible for operations\n",
        "\n",
        "\n",
        "Syntax: reshape(rows,columns) specify new shape\n",
        "        if dimensions match\n",
        "\n",
        "Reshaping doesnot create a copy, it just returns the view."
      ]
    },
    {
      "cell_type": "code",
      "execution_count": null,
      "metadata": {
        "colab": {
          "base_uri": "https://localhost:8080/"
        },
        "id": "7BPp2lJViWzL",
        "outputId": "23007d09-8a47-4d9e-b722-98ac5acb2d0b"
      },
      "outputs": [
        {
          "name": "stdout",
          "output_type": "stream",
          "text": [
            "[[1 2 3]\n",
            " [4 5 6]]\n"
          ]
        }
      ],
      "source": [
        "arr = np.array([1, 2, 3, 4, 5, 6])\n",
        "reshaped = arr.reshape(2, 3)\n",
        "\n",
        "print(reshaped)"
      ]
    },
    {
      "cell_type": "markdown",
      "metadata": {
        "id": "mFv2fQQfjS9d"
      },
      "source": [
        "**Flattening array:**\n",
        "converting multidimensional array to 1-d array.\n",
        "\n",
        ".ravel() -> views, original array affected.\n",
        "\n",
        ".flatten() -> returns a copy, original array not affected.\n"
      ]
    },
    {
      "cell_type": "code",
      "execution_count": null,
      "metadata": {
        "colab": {
          "base_uri": "https://localhost:8080/"
        },
        "id": "kMeXqIjjjvkN",
        "outputId": "9cf7cfc7-b853-4b10-ee2c-8b8f5d881819"
      },
      "outputs": [
        {
          "name": "stdout",
          "output_type": "stream",
          "text": [
            "[[1 2 3]\n",
            " [4 5 6]]\n",
            "[1 2 3 4 5 6]\n",
            "[1 2 3 4 5 6]\n",
            "[1 2 3 4 5 6 7 8]\n"
          ]
        }
      ],
      "source": [
        "arr_2d = np.array([[1,2,3],[4,5,6]])\n",
        "print(arr_2d)\n",
        "print(arr_2d.ravel())\n",
        "print(arr_2d.flatten())\n",
        "\n",
        "arr3d = np.array([[[1, 2], [3, 4]], [[5, 6], [7, 8]]])\n",
        "print(arr3d.flatten())     # Output: [1 2 3 4 5 6 7 8]"
      ]
    },
    {
      "cell_type": "markdown",
      "metadata": {
        "id": "VjstcP6TkY-w"
      },
      "source": [
        "**Array Modification:**\n",
        "\n",
        "np.insert(arr, index, value, axis=None)\n",
        "\n",
        "np.append(arr, values, axis=None)\n",
        "\n",
        "np.delete(arr, obj, axis=None) where obj is Index/indices to delete (can be int, list, or slice)"
      ]
    },
    {
      "cell_type": "code",
      "execution_count": null,
      "metadata": {
        "colab": {
          "base_uri": "https://localhost:8080/"
        },
        "id": "2BresLqAk81B",
        "outputId": "50089ca7-0a41-40ba-9ff1-4d5b5ac8cc97"
      },
      "outputs": [
        {
          "name": "stdout",
          "output_type": "stream",
          "text": [
            "[1 2 3 4 5]\n",
            "[10 15 20 30]\n"
          ]
        }
      ],
      "source": [
        "arr = np.array([1, 2, 5])\n",
        "new_arr = np.insert(arr, [2], [3, 4])\n",
        "# inserts 3,4 at index 2\n",
        "print(new_arr)  # Output: [1 2 3 4 5]\n",
        "\n",
        "arr = np.array([10, 20, 30])\n",
        "new_arr = np.insert(arr, 1, 15)\n",
        "\n",
        "print(new_arr)  # Output: [10 15 20 30]"
      ]
    },
    {
      "cell_type": "code",
      "execution_count": null,
      "metadata": {
        "colab": {
          "base_uri": "https://localhost:8080/"
        },
        "id": "8prOweehlQ2C",
        "outputId": "7c614d94-f336-47f4-d929-9c81520a6013"
      },
      "outputs": [
        {
          "name": "stdout",
          "output_type": "stream",
          "text": [
            "[[1 2]\n",
            " [9 9]\n",
            " [3 4]]\n"
          ]
        }
      ],
      "source": [
        "arr2d = np.array([[1, 2], [3, 4]])\n",
        "\n",
        "# Insert a new row at index 1\n",
        "new_arr = np.insert(arr2d, 1, [9, 9], axis=0)\n",
        "\n",
        "print(new_arr)"
      ]
    },
    {
      "cell_type": "code",
      "execution_count": null,
      "metadata": {
        "colab": {
          "base_uri": "https://localhost:8080/"
        },
        "id": "_oq1Bua0mUxe",
        "outputId": "7c541428-0d28-4636-8fad-efc1b2a321e4"
      },
      "outputs": [
        {
          "name": "stdout",
          "output_type": "stream",
          "text": [
            "[10 20 30 40 50 60]\n",
            "[10 20 30 40 50 60 70 80]\n",
            "[[10 20 30]\n",
            " [40 50 60]]\n",
            "[[10 20 30]\n",
            " [40 50 60]\n",
            " [70 80 90]]\n",
            "[[10 20 30 70]\n",
            " [40 50 60 80]]\n"
          ]
        }
      ],
      "source": [
        "arr = np.array([10,20,30,40,50,60])\n",
        "print(arr)\n",
        "new_arr = np.append(arr,[70,80])\n",
        "print(new_arr)\n",
        "\n",
        "arr = np.array([[10,20,30],[40,50,60]])\n",
        "print(arr)\n",
        "new_arr=np.append(arr,[[70,80,90]],axis=0)\n",
        "print(new_arr)\n",
        "\n",
        "new_arr=np.append(arr,[[70],[80]],axis=1)\n",
        "print(new_arr)"
      ]
    },
    {
      "cell_type": "code",
      "execution_count": null,
      "metadata": {
        "colab": {
          "base_uri": "https://localhost:8080/"
        },
        "id": "8LIE768-yb5R",
        "outputId": "0070ac39-b96e-411c-c4ee-caca43898751"
      },
      "outputs": [
        {
          "name": "stdout",
          "output_type": "stream",
          "text": [
            "[10 20 40 50]\n"
          ]
        }
      ],
      "source": [
        "arr = np.array([10, 20, 30, 40, 50])\n",
        "new_arr = np.delete(arr, 2)\n",
        "#deletes the value at index 2\n",
        "print(new_arr)"
      ]
    },
    {
      "cell_type": "code",
      "execution_count": null,
      "metadata": {
        "colab": {
          "base_uri": "https://localhost:8080/"
        },
        "id": "3FoHhwYKyo35",
        "outputId": "37b72d0d-d657-4655-aaf6-9d532ee4370d"
      },
      "outputs": [
        {
          "name": "stdout",
          "output_type": "stream",
          "text": [
            "[[1 2 3]\n",
            " [4 5 6]]\n",
            "[[4 5 6]]\n",
            "[[2 3]\n",
            " [5 6]]\n"
          ]
        }
      ],
      "source": [
        "arr_2d = np.array([[1,2,3],[4,5,6]])\n",
        "print(arr_2d)\n",
        "#0th row will be deleted\n",
        "print(np.delete(arr_2d,0,axis=0))\n",
        "#0th column will be deleted\n",
        "print(np.delete(arr_2d,0,axis=1))"
      ]
    },
    {
      "cell_type": "markdown",
      "metadata": {
        "id": "ZSYffYfoxs1v"
      },
      "source": [
        "np.concatenate([arr1,arr2])\n",
        "\n",
        "or\n",
        "\n",
        "np.concatenate((arr1,arr2),axis)\n",
        "\n",
        "axis = 0 --> Vertical stacking (row-wise)\n",
        "\n",
        "axis = 1 --> Horizontal stacking (column-wise)"
      ]
    },
    {
      "cell_type": "code",
      "execution_count": null,
      "metadata": {
        "colab": {
          "base_uri": "https://localhost:8080/"
        },
        "id": "WKNqpLYBxYDN",
        "outputId": "43be3e32-fff0-46c8-99b8-eae58996bbdd"
      },
      "outputs": [
        {
          "name": "stdout",
          "output_type": "stream",
          "text": [
            "[1 2 3 4 5 6]\n",
            "[1 2 3 4 5 6]\n"
          ]
        }
      ],
      "source": [
        "import numpy as np\n",
        "arr1 = np.array([1,2,3])\n",
        "arr2 = np.array([4,5,6])\n",
        "arr3 = np.concatenate([arr1,arr2])\n",
        "print(arr3)\n",
        "\n",
        "arr3 = np.concatenate((arr1,arr2))\n",
        "print(arr3)"
      ]
    },
    {
      "cell_type": "markdown",
      "metadata": {
        "id": "UfvZ_nJ9aYu6"
      },
      "source": [
        "# ML DAY- 05\n",
        "Numpy Advanced"
      ]
    },
    {
      "cell_type": "markdown",
      "metadata": {
        "id": "IzyafTA3zJHc"
      },
      "source": [
        "vstack() -->Vertically stack (row-wise)\n",
        "\n",
        "hstack() --> Horizontally stack (column-wise)"
      ]
    },
    {
      "cell_type": "code",
      "execution_count": null,
      "metadata": {
        "colab": {
          "base_uri": "https://localhost:8080/"
        },
        "id": "hMFXKcZEzXa0",
        "outputId": "9fad5a70-ec74-4898-e8f0-4e145f20adb6"
      },
      "outputs": [
        {
          "name": "stdout",
          "output_type": "stream",
          "text": [
            "[[1 2 3]\n",
            " [4 5 6]]\n",
            "[1 2 3 4 5 6]\n"
          ]
        }
      ],
      "source": [
        "import numpy as np\n",
        "arr1 = np.array([1,2,3])\n",
        "arr2 = np.array([4,5,6])\n",
        "print(np.vstack((arr1,arr2)))\n",
        "print(np.hstack((arr1,arr2)))"
      ]
    },
    {
      "cell_type": "markdown",
      "metadata": {
        "id": "psXOOtVnz909"
      },
      "source": [
        "**Splitting Array:**\n",
        "\n",
        "np.split() --> equal parts mai split\n",
        "\n",
        "np.vsplit() --> vertically split\n",
        "\n",
        "np.hsplit() --> horizontally split"
      ]
    },
    {
      "cell_type": "code",
      "execution_count": null,
      "metadata": {
        "colab": {
          "base_uri": "https://localhost:8080/"
        },
        "id": "KwqyuEZ60NTV",
        "outputId": "b119f46b-03bb-4c69-9f33-63f043a32528"
      },
      "outputs": [
        {
          "name": "stdout",
          "output_type": "stream",
          "text": [
            "[array([1, 2]), array([3, 4]), array([5, 6])]\n"
          ]
        }
      ],
      "source": [
        "arr = np.array([1,2,3,4,5,6])\n",
        "print(np.split(arr,3)) #This will split the error into 3 equal parts\n",
        "\n",
        "# arr = np.array([1, 2, 3, 4, 5])\n",
        "# np.split(arr, 3)  # ❌ This will raise an error"
      ]
    },
    {
      "cell_type": "markdown",
      "metadata": {
        "id": "cTW8ds4d1LST"
      },
      "source": [
        "**Broadcasting:**\n",
        "Broadcasting allows NumPy to perform operations on arrays of different shapes as if they were the same shape.\n",
        "\n",
        "It automatically expands the smaller array without copying data, allowing fast computation.\n",
        "\n"
      ]
    },
    {
      "cell_type": "code",
      "execution_count": null,
      "metadata": {
        "colab": {
          "base_uri": "https://localhost:8080/"
        },
        "id": "J5TE56sS1N7j",
        "outputId": "9dcc0be6-15fd-4891-a530-1fa8ed50cb8b"
      },
      "outputs": [
        {
          "name": "stdout",
          "output_type": "stream",
          "text": [
            "[90.0, 180.0, 270.0, 360.0]\n",
            "[ 90. 180. 270. 360.]\n"
          ]
        }
      ],
      "source": [
        "prices = [100,200,300,400]\n",
        "discount = 10\n",
        "final_prices=[]\n",
        "for x in prices:\n",
        "  final_prices.append(x-(x*discount/100))\n",
        "print(final_prices)\n",
        "\n",
        "# Instead of loops we can use broadcasting\n",
        "# Broadcasting --> fast, no need of loops\n",
        "prices = np.array([100,200,300,400])\n",
        "discount=10\n",
        "final_prices = prices-(prices*discount/100)\n",
        "print(final_prices)"
      ]
    },
    {
      "cell_type": "markdown",
      "metadata": {
        "id": "BqwVKzTe3QeR"
      },
      "source": [
        "How numpy handles arrays of different shapes?\n",
        "\n",
        "1) Matching dimension --> Both arrays of same size.\n",
        "\n",
        "2) Expanding: When the shapes differ, NumPy tries to automatically expand (broadcast) the smaller array without copying data, using these broadcasting rules:\n",
        "\n",
        "✅ Broadcasting Rules:\n",
        "Compare dimensions from the rightmost.\n",
        "\n",
        "Two dimensions are compatible if:\n",
        "\n",
        "They are equal, or\n",
        "\n",
        "One of them is 1\n",
        "\n",
        "NumPy stretches dimensions of size 1 to match the other.\n",
        "\n",
        "3) Numpy throws error if incompatible shapes."
      ]
    },
    {
      "cell_type": "code",
      "execution_count": null,
      "metadata": {
        "colab": {
          "base_uri": "https://localhost:8080/"
        },
        "id": "VCR1vByQ3PgB",
        "outputId": "929f0dd0-8488-4470-9081-30aa62522599"
      },
      "outputs": [
        {
          "name": "stdout",
          "output_type": "stream",
          "text": [
            "[ 200  400  600  800 1000 1200]\n"
          ]
        }
      ],
      "source": [
        "arr = np.array([100,200,300,400,500,600])\n",
        "result = arr*2\n",
        "print(result)"
      ]
    },
    {
      "cell_type": "code",
      "execution_count": null,
      "metadata": {
        "colab": {
          "base_uri": "https://localhost:8080/"
        },
        "id": "dm1eyFXf36vN",
        "outputId": "434a71a8-721f-4dea-af4b-5167f45b65c7"
      },
      "outputs": [
        {
          "name": "stdout",
          "output_type": "stream",
          "text": [
            "[[11 22 33]\n",
            " [14 25 36]]\n"
          ]
        }
      ],
      "source": [
        "# Broadcasting 1d array to 2d array\n",
        "matrix = np.array([[1,2,3],[4,5,6]])\n",
        "vector = np.array([10,20,30])\n",
        "result = matrix+vector\n",
        "print(result)"
      ]
    },
    {
      "cell_type": "code",
      "execution_count": null,
      "metadata": {
        "id": "bEH74mrI4aNT"
      },
      "outputs": [],
      "source": [
        "# Incompatible shapes --> Error\n",
        "arr1 = np.array([[1,2,3],[4,5,6]]) #shape-->(2,3)\n",
        "arr2 = np.array([10,20])          #shape-->(2,)\n",
        "print(arr+arr2)\n",
        "# will throw error"
      ]
    },
    {
      "cell_type": "markdown",
      "metadata": {
        "id": "rS0GfOkC_d7k"
      },
      "source": [
        "**Comparison:**"
      ]
    },
    {
      "cell_type": "code",
      "execution_count": null,
      "metadata": {
        "colab": {
          "base_uri": "https://localhost:8080/"
        },
        "id": "_RL3IwUP_Wze",
        "outputId": "234a19c8-9c7c-4044-df81-5a4719ce119e"
      },
      "outputs": [
        {
          "name": "stdout",
          "output_type": "stream",
          "text": [
            "[False  True False]\n",
            "[False False False]\n",
            "[5 9]\n",
            "[10  9]\n"
          ]
        }
      ],
      "source": [
        "# it basically performs if functionality but more readable\n",
        "arr1 = np.array([1,2,3])\n",
        "arr2 = np.array([5,2,9])\n",
        "arr3 = arr1 == arr2\n",
        "print(arr3)\n",
        "arr3 = np.array((1,2,3))\n",
        "arr4 = (arr1 > arr2) & arr2 == arr3 # multiple conditions\n",
        "print(arr4)\n",
        "\n",
        "#copies only when arr 1 is greater than arr2 else dropped\n",
        "arr4 = arr2[arr2>=5]\n",
        "print(arr4)# 2 dropped\n",
        "\n",
        "arr4[arr4==5]= 10\n",
        "print(arr4)# replaced 5 with 10"
      ]
    },
    {
      "cell_type": "code",
      "execution_count": null,
      "metadata": {
        "colab": {
          "base_uri": "https://localhost:8080/"
        },
        "id": "LO4Sl4v6_q_5",
        "outputId": "0afa9aec-e491-4dfa-ff54-0fff0b2922ef"
      },
      "outputs": [
        {
          "name": "stdout",
          "output_type": "stream",
          "text": [
            "[ True  True  True]\n"
          ]
        }
      ],
      "source": [
        "arr1 = np.array(['True','False','True'])\n",
        "arr2 = np.array(['True','False','True'])\n",
        "arr5 = np.logical_and(arr1,arr2)\n",
        "print(arr5)\n",
        "# broadcasting rule is, either size should be equal\n",
        "# else any one of them should be 1 (row/col)"
      ]
    },
    {
      "cell_type": "markdown",
      "metadata": {
        "id": "vvye-kYI5onj"
      },
      "source": [
        "**Basic Arthematic operations**"
      ]
    },
    {
      "cell_type": "code",
      "execution_count": null,
      "metadata": {
        "colab": {
          "base_uri": "https://localhost:8080/"
        },
        "id": "sNr9BUMR5tCX",
        "outputId": "40101e78-3ce0-4312-a387-59c69b13e30a"
      },
      "outputs": [
        {
          "name": "stdout",
          "output_type": "stream",
          "text": [
            "[ 7  9 12]\n",
            "[-5 -5 -4]\n",
            "[ 6 14 32]\n",
            "[0.16666667 0.28571429 0.5       ]\n",
            "[1.         1.41421356 2.        ]\n",
            "[0.         0.69314718 1.38629436]\n"
          ]
        }
      ],
      "source": [
        "arr1 = np.array([1, 2, 4])\n",
        "arr2 = np.array([6, 7, 8])\n",
        "arr3=np.add(arr1,arr2)\n",
        "print(arr3)\n",
        "\n",
        "arr4=np.subtract(arr1,arr2)\n",
        "print(arr4)\n",
        "\n",
        "arr5 = np.multiply(arr1,arr2)\n",
        "print(arr5)\n",
        "\n",
        "arr6 = np.divide(arr1,arr2)\n",
        "print(arr6)\n",
        "\n",
        "arr7 = np.sqrt(arr1)\n",
        "print(arr7)\n",
        "\n",
        "arr8 = np.log(arr1)\n",
        "print(arr8)"
      ]
    },
    {
      "cell_type": "code",
      "execution_count": null,
      "metadata": {
        "colab": {
          "base_uri": "https://localhost:8080/"
        },
        "id": "tU8Mo2Ou62FL",
        "outputId": "4b1acd5c-d567-47dd-b65b-5c4f13aeb129"
      },
      "outputs": [
        {
          "name": "stdout",
          "output_type": "stream",
          "text": [
            "[1 2 3 4 5]\n",
            "[ 6  7  8  9 10]\n",
            "[ 7  9 11 13 15]\n",
            "[-5 -5 -5 -5 -5]\n",
            "[ 6 14 24 36 50]\n",
            "[0.16666667 0.28571429 0.375      0.44444444 0.5       ]\n",
            "130\n",
            "[1 2 3 4 5]\n",
            "[ 6  7  8  9 10]\n"
          ]
        }
      ],
      "source": [
        "matrix_a = np.array([1, 2, 3, 4, 5])\n",
        "matrix_b = np.array([6, 7, 8, 9, 10])\n",
        "\n",
        "print(matrix_a)\n",
        "print(matrix_b)\n",
        "\n",
        "matrix_c = np.add(matrix_a, matrix_b)\n",
        "print(matrix_c)\n",
        "\n",
        "matrix_d = np.subtract(matrix_a, matrix_b)\n",
        "print(matrix_d)\n",
        "\n",
        "matrix_e = np.multiply(matrix_a, matrix_b)\n",
        "print(matrix_e)\n",
        "\n",
        "matrix_f = np.divide(matrix_a, matrix_b)\n",
        "print(matrix_f)\n",
        "\n",
        "dot_product = np.dot(matrix_a, matrix_b)\n",
        "print(dot_product)\n",
        "\n",
        "transpose_a = np.transpose(matrix_a)\n",
        "print(transpose_a)\n",
        "\n",
        "transpose_b = np.transpose(matrix_b)\n",
        "print(transpose_b)"
      ]
    },
    {
      "cell_type": "markdown",
      "metadata": {
        "id": "AXo2oSEl6Qdk"
      },
      "source": [
        "**Statistics:**\n",
        "Percentiles, Quartiles, IQR\n",
        "\n",
        "25th percentile (Q1): This is the value below which 25% of the data fall.\n",
        "\n",
        "Between 1st and 2nd element → 20.0\n",
        "\n",
        "50th percentile (Median / Q2): Middle value of the sorted data.\n",
        "\n",
        "Middle value → 30.0\n",
        "\n",
        "75th percentile (Q3): Value below which 75% of the data fall.\n",
        "\n",
        "Between 4th and 5th element → 40.0\n",
        "\n",
        "IQR = Q3 - Q1\n",
        "\n",
        "Q1 = 25th percentile\n",
        "\n",
        "Q3 = 75th percentile\n",
        "\n",
        "**Outliers Detection:**\n",
        "\n",
        "< Q1 - 1.5 * IQR   or   > Q3 + 1.5 * IQR"
      ]
    },
    {
      "cell_type": "code",
      "execution_count": null,
      "metadata": {
        "colab": {
          "base_uri": "https://localhost:8080/"
        },
        "id": "7b7LEsrW6Wc5",
        "outputId": "b18370cb-a3b0-45f2-efcc-a80f5dd28541"
      },
      "outputs": [
        {
          "name": "stdout",
          "output_type": "stream",
          "text": [
            "20.0\n",
            "30.0\n",
            "40.0\n",
            "20.0\n",
            "14.142135623730951\n",
            "200.0\n",
            "10\n",
            "50\n",
            "30.0\n",
            "30.0\n",
            "-10.0\n",
            "70.0\n",
            "[]\n"
          ]
        }
      ],
      "source": [
        "arr1 = np.array([10,20,30,40,50])\n",
        "percentile1=np.percentile(arr1,25)\n",
        "print(percentile1)\n",
        "\n",
        "percentile2=np.percentile(arr1,50)\n",
        "print(percentile2)\n",
        "\n",
        "percentile3=np.percentile(arr1,75)\n",
        "print(percentile3)\n",
        "\n",
        "# IQR = Q3-Q1\n",
        "IQR = percentile3-percentile1\n",
        "print(IQR)\n",
        "\n",
        "stddev = np.std(arr1)\n",
        "print(stddev)\n",
        "\n",
        "variance = np.var(arr1)\n",
        "print(variance)\n",
        "\n",
        "minimum = np.min(arr1)\n",
        "print(minimum)\n",
        "\n",
        "maximum = np.max(arr1)\n",
        "print(maximum)\n",
        "\n",
        "mean = np.mean(arr1)\n",
        "print(mean)\n",
        "\n",
        "median = np.median(arr1)\n",
        "print(median)\n",
        "\n",
        "# For outliers\n",
        "lower_bound = percentile1- 1.5*IQR\n",
        "upper_bound = percentile3 + 1.5*IQR\n",
        "print(lower_bound)\n",
        "print(upper_bound)\n",
        "\n",
        "outliers=arr1 [(arr1<lower_bound) | (arr1>upper_bound)]\n",
        "print(outliers)"
      ]
    },
    {
      "cell_type": "markdown",
      "metadata": {
        "id": "87-BkfF29SeZ"
      },
      "source": [
        "**Handling Missing Values:**\n",
        "\n",
        "np.isnan --> detects missing values\n",
        "returns true for nan values\n",
        "\n",
        "np.nan_to_num()\t--> Replace NaNs with zero (or custom)"
      ]
    },
    {
      "cell_type": "code",
      "execution_count": null,
      "metadata": {
        "colab": {
          "base_uri": "https://localhost:8080/"
        },
        "id": "2zXqiVv79VRl",
        "outputId": "f43ff4fb-a082-4c8d-a772-e0cb61ba7a3f"
      },
      "outputs": [
        {
          "name": "stdout",
          "output_type": "stream",
          "text": [
            "Original array: [10. 20. nan 40. nan 60.]\n",
            "Where values are NaN: [False False  True False  True False]\n",
            "Array with NaN replaced by 0: [10. 20.  0. 40.  0. 60.]\n",
            "Array with NaN replaced by 0: [ 10.  20. 100.  40. 100.  60.]\n"
          ]
        }
      ],
      "source": [
        "arr = np.array([10, 20, np.nan, 40, np.nan, 60])\n",
        "\n",
        "print(\"Original array:\", arr)\n",
        "print(\"Where values are NaN:\", np.isnan(arr))\n",
        "\n",
        "arr_filled = np.nan_to_num(arr)\n",
        "print(\"Array with NaN replaced by 0:\", arr_filled)\n",
        "\n",
        "# Replaces nan with 100\n",
        "arr_filled = np.nan_to_num(arr,nan=100)\n",
        "print(\"Array with NaN replaced by 0:\", arr_filled)"
      ]
    },
    {
      "cell_type": "markdown",
      "metadata": {
        "id": "OrqIfqitAa24"
      },
      "source": [
        "**Tasks Day -04**\n",
        "\n",
        "**Mini Project:**\n",
        "You are given daily sales data (in USD) of 6 products over 10 days. Perform the following tasks.\n",
        "\n",
        "**Q1. Mathematical Operations**   \n",
        "\n",
        "a. Calculate the total sales per product over 10 days.\n",
        "\n",
        "b. Calculate the average daily sales per product.\n",
        "\n",
        "c. Increase each sale by a 5% commission using broadcasting.\n",
        "\n",
        "d. Apply the square root to all sales values (for testing purposes).\n",
        "\n",
        "**Q2. Broadcasting Concepts**\n",
        "\n",
        "a. Create a 1D and using broadcasting.\n",
        "\n",
        "bonus_array = np.array([10, 20, 15, 25, 30, 5]) add it to each day’s sales\n",
        "\n",
        "b. Add a $50 flat bonus to each sale using broadcasting.\n",
        "\n",
        "**Q3. Statistical Analysis**\n",
        "\n",
        "a. Find the mean, median, variance, and standard deviation of the entire dataset.\n",
        "\n",
        "b. Find the maximum and minimum sale value and calculate the range.\n",
        "\n",
        "c. Calculate the interquartile range (IQR) of all values.\n",
        "\n",
        "**Q4. Logical & Comparison Operations**\n",
        "\n",
        "a. Identify and list all sales greater than $250.\n",
        "\n",
        "b. Replace all values greater than $300 with 300 (cap the max sale).\n",
        "\n",
        "c. Count how many times sales were between $200 and  $250.\n",
        "\n",
        "d. Create a new array showing only the sales below the mean.\n",
        "\n",
        "**Q5. Searching, Sorting, and Final Summary**\n",
        "\n",
        "a. Sort the sales of Day 5 in ascending order.\n",
        "\n",
        "b. Find the day (row index) with the highest total sales.\n",
        "\n",
        "c. Calculate column-wise means (average per product).\n",
        "\n",
        "d. Calculate row-wise means (average per day).\n",
        "\n",
        "e. Print the overall average sales.\n",
        "\n",
        "**Q6. Bonus**\n",
        "\n",
        "Create a function that returns all values 2 standard deviations above and below\n",
        "the mean."
      ]
    },
    {
      "cell_type": "code",
      "execution_count": null,
      "metadata": {
        "colab": {
          "base_uri": "https://localhost:8080/"
        },
        "id": "gNbLB-fgAxDu",
        "outputId": "8898c024-4211-4752-b6cf-d36c4ae54110"
      },
      "outputs": [
        {
          "name": "stdout",
          "output_type": "stream",
          "text": [
            "[[200 220 250 210 180 190]\n",
            " [230 240 260 200 195 205]\n",
            " [210 215 255 220 185 200]\n",
            " [205 225 275 190 195 195]\n",
            " [215 230 265 225 200 210]\n",
            " [225 235 275 230 205 215]\n",
            " [235 245 280 240 210 220]\n",
            " [245 255 290 205 215 225]\n",
            " [255 265 300 260 220 230]\n",
            " [265 275 310 270 225 235]]\n",
            "[2285 2405 2760 2250 2030 2125]\n",
            "[228.5 240.5 276.  225.  203.  212.5]\n",
            "[[210.   231.   262.5  220.5  189.   199.5 ]\n",
            " [241.5  252.   273.   210.   204.75 215.25]\n",
            " [220.5  225.75 267.75 231.   194.25 210.  ]\n",
            " [215.25 236.25 288.75 199.5  204.75 204.75]\n",
            " [225.75 241.5  278.25 236.25 210.   220.5 ]\n",
            " [236.25 246.75 288.75 241.5  215.25 225.75]\n",
            " [246.75 257.25 294.   252.   220.5  231.  ]\n",
            " [257.25 267.75 304.5  215.25 225.75 236.25]\n",
            " [267.75 278.25 315.   273.   231.   241.5 ]\n",
            " [278.25 288.75 325.5  283.5  236.25 246.75]]\n",
            "[[14.14213562 14.83239697 15.8113883  14.49137675 13.41640786 13.78404875]\n",
            " [15.16575089 15.49193338 16.1245155  14.14213562 13.96424004 14.31782106]\n",
            " [14.49137675 14.6628783  15.96871942 14.83239697 13.60147051 14.14213562]\n",
            " [14.31782106 15.         16.58312395 13.78404875 13.96424004 13.96424004]\n",
            " [14.6628783  15.16575089 16.2788206  15.         14.14213562 14.49137675]\n",
            " [15.         15.32970972 16.58312395 15.16575089 14.31782106 14.6628783 ]\n",
            " [15.32970972 15.65247584 16.73320053 15.49193338 14.49137675 14.83239697]\n",
            " [15.65247584 15.96871942 17.02938637 14.31782106 14.6628783  15.        ]\n",
            " [15.96871942 16.2788206  17.32050808 16.1245155  14.83239697 15.16575089]\n",
            " [16.2788206  16.58312395 17.60681686 16.43167673 15.         15.32970972]]\n"
          ]
        }
      ],
      "source": [
        "import numpy as np\n",
        "\n",
        "sales_data = np.array([\n",
        "    [200, 220, 250, 210, 180, 190],  # Day 1\n",
        "    [230, 240, 260, 200, 195, 205],  # Day 2\n",
        "    [210, 215, 255, 220, 185, 200],  # Day 3\n",
        "    [205, 225, 275, 190, 195, 195],  # Day 4\n",
        "    [215, 230, 265, 225, 200, 210],  # Day 5\n",
        "    [225, 235, 275, 230, 205, 215],  # Day 6\n",
        "    [235, 245, 280, 240, 210, 220],  # Day 7\n",
        "    [245, 255, 290, 205, 215, 225],  # Day 8\n",
        "    [255, 265, 300, 260, 220, 230],  # Day 9\n",
        "    [265, 275, 310, 270, 225, 235]   # Day 10\n",
        "])\n",
        "print(sales_data)\n",
        "\n",
        "#total sales per product over 10 days\n",
        "# so we need column wise sum\n",
        "\n",
        "print(np.sum(sales_data,axis =0))\n",
        "print(np.mean(sales_data,axis=0))\n",
        "\n",
        "final_sales = sales_data + (sales_data*5/100)\n",
        "print(final_sales)\n",
        "\n",
        "print(np.sqrt(sales_data))"
      ]
    },
    {
      "cell_type": "code",
      "execution_count": null,
      "metadata": {
        "colab": {
          "base_uri": "https://localhost:8080/"
        },
        "id": "2RY-F5S3Cifs",
        "outputId": "aacb6fd3-4e9d-4b1d-8830-e0c124fb7bae"
      },
      "outputs": [
        {
          "name": "stdout",
          "output_type": "stream",
          "text": [
            "[10 20 15 25 30  5]\n",
            "[[210 240 265 235 210 195]\n",
            " [240 260 275 225 225 210]\n",
            " [220 235 270 245 215 205]\n",
            " [215 245 290 215 225 200]\n",
            " [225 250 280 250 230 215]\n",
            " [235 255 290 255 235 220]\n",
            " [245 265 295 265 240 225]\n",
            " [255 275 305 230 245 230]\n",
            " [265 285 315 285 250 235]\n",
            " [275 295 325 295 255 240]]\n",
            "[[250 270 300 260 230 240]\n",
            " [280 290 310 250 245 255]\n",
            " [260 265 305 270 235 250]\n",
            " [255 275 325 240 245 245]\n",
            " [265 280 315 275 250 260]\n",
            " [275 285 325 280 255 265]\n",
            " [285 295 330 290 260 270]\n",
            " [295 305 340 255 265 275]\n",
            " [305 315 350 310 270 280]\n",
            " [315 325 360 320 275 285]]\n"
          ]
        }
      ],
      "source": [
        "bonus_array = np.array([10, 20, 15, 25, 30, 5])\n",
        "print(bonus_array)\n",
        "print(bonus_array+sales_data)\n",
        "\n",
        "print(sales_data+50)"
      ]
    },
    {
      "cell_type": "code",
      "execution_count": null,
      "metadata": {
        "colab": {
          "base_uri": "https://localhost:8080/"
        },
        "id": "AUXCWmspC__x",
        "outputId": "53d322a4-c1f7-41d9-b73b-909729be5381"
      },
      "outputs": [
        {
          "name": "stdout",
          "output_type": "stream",
          "text": [
            "230.91666666666666\n",
            "225.0\n",
            "30.006827926693987\n",
            "900.4097222222222\n",
            "310\n",
            "180\n",
            "130\n",
            "208.75\n",
            "225.0\n",
            "255.0\n",
            "46.25\n"
          ]
        }
      ],
      "source": [
        "mean = np.mean(sales_data)\n",
        "Stddev = np.std(sales_data)\n",
        "Variance = np.var(sales_data)\n",
        "median = np.median(sales_data)\n",
        "print(mean)\n",
        "print(median)\n",
        "print(Stddev)\n",
        "print(Variance)\n",
        "\n",
        "Max = np.max(sales_data)\n",
        "Min = np.min(sales_data)\n",
        "Range = Max - Min\n",
        "print(Max)\n",
        "print(Min)\n",
        "print(Range)\n",
        "\n",
        "Q1 = np.percentile(sales_data,25)\n",
        "Q2 = np.percentile(sales_data,50)\n",
        "Q3 = np.percentile(sales_data,75)\n",
        "IQR = Q3-Q1\n",
        "print(Q1)\n",
        "print(Q2)\n",
        "print(Q3)\n",
        "print(IQR)"
      ]
    },
    {
      "cell_type": "code",
      "execution_count": null,
      "metadata": {
        "colab": {
          "base_uri": "https://localhost:8080/"
        },
        "id": "E8XmdMRbavEb",
        "outputId": "a1dde457-c156-4604-ae20-d58b6d3486e1"
      },
      "outputs": [
        {
          "name": "stdout",
          "output_type": "stream",
          "text": [
            "[260 255 275 265 275 280 255 290 255 265 300 260 265 275 300 270]\n",
            "[[200 220 250 210 180 190]\n",
            " [230 240 260 200 195 205]\n",
            " [210 215 255 220 185 200]\n",
            " [205 225 275 190 195 195]\n",
            " [215 230 265 225 200 210]\n",
            " [225 235 275 230 205 215]\n",
            " [235 245 280 240 210 220]\n",
            " [245 255 290 205 215 225]\n",
            " [255 265 300 260 220 230]\n",
            " [265 275 300 270 225 235]]\n",
            "[220 210 230 240 205 210 215 220 205 225 215 230 225 210 225 235 230 205\n",
            " 215 235 245 240 210 220 245 205 215 225 220 230 225 235]\n",
            "32\n",
            "[200 220 210 180 190 230 200 195 205 210 215 220 185 200 205 225 190 195\n",
            " 195 215 230 225 200 210 225 230 205 215 210 220 205 215 225 220 230 225]\n"
          ]
        }
      ],
      "source": [
        "greater_than_250 = sales_data[(sales_data>250)]\n",
        "print(greater_than_250)\n",
        "\n",
        "capped_sales = np.copy(sales_data)\n",
        "capped_sales[capped_sales > 300] = 300\n",
        "print(capped_sales)\n",
        "\n",
        "\n",
        "between_200and250 = sales_data[(sales_data>200) & (sales_data<250)]\n",
        "print(between_200and250)\n",
        "print(np.size(between_200and250))\n",
        "\n",
        "new_arr = sales_data[(sales_data<np.mean(sales_data))]\n",
        "print(new_arr)"
      ]
    },
    {
      "cell_type": "code",
      "execution_count": null,
      "metadata": {
        "colab": {
          "base_uri": "https://localhost:8080/"
        },
        "id": "3o26jc-Jc9NE",
        "outputId": "e500cf73-6df1-493c-9e96-00a395bc98cc"
      },
      "outputs": [
        {
          "name": "stdout",
          "output_type": "stream",
          "text": [
            "[200 210 215 225 230 265]\n",
            "[265 230 225 215 210 200]\n",
            "[1250 1330 1285 1285 1345 1385 1430 1435 1530 1570]\n",
            "9\n",
            "[228.5 240.5 275.  225.  203.  212.5]\n",
            "[208.33333333 221.66666667 214.16666667 214.16666667 224.16666667\n",
            " 230.83333333 238.33333333 239.16666667 255.         261.66666667]\n",
            "230.75\n"
          ]
        }
      ],
      "source": [
        "sorted_data = np.sort(sales_data[4])\n",
        "print(sorted_data)\n",
        "\n",
        "# to convert it into descending order\n",
        "sorted_data[::-1]\n",
        "print(sorted_data[::-1])\n",
        "\n",
        "days_total = np.sum(sales_data, axis=1)\n",
        "print(days_total)\n",
        "max_day_index = np.argmax(days_total)\n",
        "print(max_day_index)\n",
        "\n",
        "#column-wise means\n",
        "col = np.mean(sales_data, axis=0)\n",
        "print(col)\n",
        "\n",
        "#row-wise means\n",
        "row = np.mean(sales_data, axis=1)\n",
        "print(row)\n",
        "\n",
        "overall_average = np.mean(sales_data)\n",
        "print(overall_average)"
      ]
    },
    {
      "cell_type": "code",
      "execution_count": null,
      "metadata": {
        "colab": {
          "base_uri": "https://localhost:8080/"
        },
        "id": "6up6yHLrhIkG",
        "outputId": "39f460e4-5f6f-493a-acb7-44d2b124a84c"
      },
      "outputs": [
        {
          "name": "stdout",
          "output_type": "stream",
          "text": [
            "289.9340350094517\n",
            "171.56596499054834\n"
          ]
        },
        {
          "data": {
            "text/plain": [
              "array([290, 300, 300])"
            ]
          },
          "execution_count": 34,
          "metadata": {},
          "output_type": "execute_result"
        }
      ],
      "source": [
        "def highlight_outliers(arr):\n",
        "     below = np.mean(arr.flatten()) - (2*np.std(arr.flatten()))\n",
        "     above = np.mean(arr.flatten()) + (2*np.std(arr.flatten()))\n",
        "     print(above)\n",
        "     print(below)\n",
        "     return arr[(arr<below) | (arr>above)]\n",
        "\n",
        "\n",
        "highlight_outliers(sales_data)"
      ]
    },
    {
      "cell_type": "markdown",
      "metadata": {
        "id": "JvskZNEDowVM"
      },
      "source": [
        "**Task Day-02-03**\n",
        "\n",
        "**Mini Project:**\n",
        "You are required to implement a in Python using Object-Oriented\n",
        "Programming (OOP) principles.\n",
        "\n",
        "Student Report Card Generator\n",
        "\n",
        "Problem:\n",
        "Write a Python program using a class called to manage a student's academic\n",
        "performance. The program must:\n",
        "\n",
        "**Part A — Class Implementation**\n",
        "1. Create a class Student with the following:\n",
        "• Attributes: name , age , and grades (a dictionary to store subject → marks)\n",
        "• Method add_grade(subject, marks) to add a subject and its marks to the dictionary\n",
        "\n",
        "• Method calculate_average() to compute the average of all subject marks\n",
        "\n",
        "• Method assign_grade() to return the letter grade based on average:\n",
        "\n",
        "Average Score Grade\n",
        "\n",
        "80 and above A\n",
        "\n",
        "60 to 79 B\n",
        "\n",
        "40 to 59 C\n",
        "\n",
        "Below 40 F\n",
        "\n",
        "2. Add a method that applies a lambda function to increase all subject\n",
        "marks (max 100).\n",
        "\n",
        "apply_bonus(lambda_func)\n",
        "\n",
        "3. Add methods to:\n",
        "\n",
        "• generate_report() to return a formatted report string.\n",
        "\n",
        "• save_to_file(filename) to save the report to a .txt file.\n",
        "\n",
        "• A @staticmethod load_from_file(filename) to read and display the report.\n",
        "\n",
        "**Part B — Program Flow**\n",
        "1. Prompt the user to enter the student’s name and age .\n",
        "2. Take marks input for 3 subjects: Math, English, and Urdu.\n",
        "3. Ask the user:\n",
        "Do you want to apply 5 bonus marks to all subjects? (yes/no)\n",
        "If yes, use a lambda function to apply the bonus\n",
        "\n",
        "**Part C — File Handling & Output**\n",
        "1. Save the report to a file named <name>_report.txt\n",
        "2. Read from the file and display the report in the console.\n",
        "\n",
        "Example Output:\n",
        "\n",
        "Enter student's name: Ali Enter age: 20 Enter marks for Math: 90 Enter marks for English:\n",
        "83 Enter marks for Urdu: 95 Add 5 bonus marks to all subjects? yes Report saved successfu\n",
        "lly! Report Card: Name: Ali Age: 20 Math: 95 English: 88 Urdu: 100 Average: 94.33 Grade:\n",
        "A"
      ]
    },
    {
      "cell_type": "code",
      "execution_count": null,
      "metadata": {
        "colab": {
          "base_uri": "https://localhost:8080/"
        },
        "id": "X0xwZaYroz4c",
        "outputId": "5bdec6a9-5684-45c0-e033-161d83bb4f0c"
      },
      "outputs": [
        {
          "name": "stdout",
          "output_type": "stream",
          "text": [
            "Enter student name: Kinza\n",
            "Enter student age: 20\n",
            "Enter marks for Math: 95\n",
            "Enter marks for English: 84\n",
            "Enter marks for Urdu: 90\n",
            "Do you want to apply 5 bonus marks to all subjects? (yes/no): Yes\n",
            "\n",
            "--- Report Saved ---\n",
            "\n",
            "--- Report Loaded From File ---\n",
            "\n",
            "--- Student Report ---\n",
            "Name: Kinza\n",
            "Age: 20\n",
            "\n",
            "Subject Marks:\n",
            "  Math: 100.0\n",
            "  English: 89.0\n",
            "  Urdu: 95.0\n",
            "\n",
            "Average Marks: 94.67\n",
            "Grade: A\n",
            "\n"
          ]
        }
      ],
      "source": [
        "class Student:\n",
        "    def __init__(self,name,age):\n",
        "        self.name = name\n",
        "        self.age = age\n",
        "        self.grades = {}\n",
        "\n",
        "    def add_grade(self, subject, marks):\n",
        "        self.grades[subject] = marks\n",
        "\n",
        "    def calculate_average(self):\n",
        "        if not self.grades:\n",
        "            return 0\n",
        "        total = sum(self.grades.values())\n",
        "        average = total / len(self.grades)\n",
        "        return average\n",
        "\n",
        "    def assign_grade(self):\n",
        "        avg = self.calculate_average()\n",
        "        if avg >= 80:\n",
        "            return 'A'\n",
        "        elif avg >= 60:\n",
        "            return 'B'\n",
        "        elif avg >= 40:\n",
        "            return 'C'\n",
        "        else:\n",
        "            return 'F'\n",
        "\n",
        "    def apply_bonus(self, lambda_func):\n",
        "        # Apply the lambda to each mark and cap it at 100\n",
        "        self.grades = {subject: min(lambda_func(marks), 100)\n",
        "                       for subject, marks in self.grades.items()}\n",
        "\n",
        "    def generate_report(self):\n",
        "        report = f\"--- Student Report ---\\n\"\n",
        "        report += f\"Name: {self.name}\\nAge: {self.age}\\n\"\n",
        "        report += \"\\nSubject Marks:\\n\"\n",
        "        for subject, marks in self.grades.items():\n",
        "            report += f\"  {subject}: {marks}\\n\"\n",
        "        report += f\"\\nAverage Marks: {self.calculate_average():.2f}\\n\"\n",
        "        report += f\"Grade: {self.assign_grade()}\\n\"\n",
        "        return report\n",
        "\n",
        "    def save_to_file(self, filename):\n",
        "        with open(filename, 'w') as file:\n",
        "            file.write(self.generate_report())\n",
        "\n",
        "    @staticmethod\n",
        "    def load_from_file(filename):\n",
        "        try:\n",
        "            with open(filename, 'r') as file:\n",
        "                content = file.read()\n",
        "                print(content)\n",
        "        except FileNotFoundError:\n",
        "            print(f\"File '{filename}' not found\")\n",
        "\n",
        "\n",
        "\n",
        "name = input(\"Enter student name: \")\n",
        "age = int(input(\"Enter student age: \"))\n",
        "\n",
        "student = Student(name, age)\n",
        "\n",
        "# Input marks for 3 subjects\n",
        "for subject in [\"Math\", \"English\", \"Urdu\"]:\n",
        "    marks = float(input(f\"Enter marks for {subject}: \"))\n",
        "    student.add_grade(subject, marks)\n",
        "\n",
        "# Ask for bonus\n",
        "apply = input(\"Do you want to apply 5 bonus marks to all subjects? (yes/no): \").lower()\n",
        "if apply == \"yes\":\n",
        "    student.apply_bonus(lambda m: m + 5)\n",
        "\n",
        "# -----------------------------\n",
        "# Part C: File Handling\n",
        "# -----------------------------\n",
        "filename = f\"{student.name}_report.txt\"\n",
        "student.save_to_file(filename)\n",
        "print(\"\\n--- Report Saved ---\\n\")\n",
        "\n",
        "print(\"--- Report Loaded From File ---\\n\")\n",
        "Student.load_from_file(filename)"
      ]
    },
    {
      "cell_type": "markdown",
      "metadata": {
        "id": "iUOFFd6tD8ZU"
      },
      "source": [
        "**More Advanced Operations from Numpy**"
      ]
    },
    {
      "cell_type": "markdown",
      "metadata": {
        "id": "Hqg92WTM792G"
      },
      "source": [
        "**Solving linear Equations:**\n",
        "\n",
        "**Ax= B**\n",
        "\n",
        "Where:\n",
        "\n",
        "A is a square matrix (e.g., 2x2, 3x3).\n",
        "\n",
        "B is a vector or matrix of known values.\n",
        "\n",
        "The goal is to find the vector x that satisfies the equation.\n",
        "\n",
        "✅ Example:\n",
        "Let's say you have the system:\n",
        "\n",
        "2x+3y=8\n",
        "\n",
        "3x+4y=11"
      ]
    },
    {
      "cell_type": "code",
      "execution_count": null,
      "metadata": {
        "colab": {
          "base_uri": "https://localhost:8080/"
        },
        "id": "lwm4hQlx8B4R",
        "outputId": "8f910802-5731-49d5-990e-23d2cc23490b"
      },
      "outputs": [
        {
          "name": "stdout",
          "output_type": "stream",
          "text": [
            "[1. 2.]\n"
          ]
        }
      ],
      "source": [
        "import numpy as np\n",
        "A = np.array([[2, 3], [3, 4]])\n",
        "B = np.array([8, 11])\n",
        "\n",
        "x = np.linalg.solve(A, B)\n",
        "print(x)"
      ]
    },
    {
      "cell_type": "markdown",
      "metadata": {
        "id": "gewfaODl86vv"
      },
      "source": [
        "**Determinant of a Matrix:**\n",
        "\n",
        "np.linalg.det(matrix)"
      ]
    },
    {
      "cell_type": "code",
      "execution_count": null,
      "metadata": {
        "colab": {
          "base_uri": "https://localhost:8080/"
        },
        "id": "-fPRlXWy8_nV",
        "outputId": "c646308d-7ad4-4007-b464-3a4fb469fbaf"
      },
      "outputs": [
        {
          "name": "stdout",
          "output_type": "stream",
          "text": [
            "-2.0000000000000004\n"
          ]
        }
      ],
      "source": [
        "A = np.array([[1, 2], [3, 4]])\n",
        "det = np.linalg.det(A)\n",
        "print(det)"
      ]
    },
    {
      "cell_type": "markdown",
      "metadata": {
        "id": "eZ-R-rbb9Khq"
      },
      "source": [
        "**Inverse of a Matrix:**\n",
        "\n",
        "np.linalg.inv(matrix)"
      ]
    },
    {
      "cell_type": "code",
      "execution_count": null,
      "metadata": {
        "colab": {
          "base_uri": "https://localhost:8080/"
        },
        "id": "0hRcVciQ9PBD",
        "outputId": "7fee6ecd-d965-48f4-9ffb-e41e648dcf13"
      },
      "outputs": [
        {
          "name": "stdout",
          "output_type": "stream",
          "text": [
            "[[-2.   1. ]\n",
            " [ 1.5 -0.5]]\n",
            "[[1.0000000e+00 0.0000000e+00]\n",
            " [8.8817842e-16 1.0000000e+00]]\n"
          ]
        }
      ],
      "source": [
        "A = np.array([[1, 2], [3, 4]])\n",
        "inv_A = np.linalg.inv(A)\n",
        "print(inv_A)\n",
        "\n",
        "identity = np.dot(A, inv_A)\n",
        "print(identity)\n",
        "\n",
        "#This is due to floating-point precision — computers can't represent decimal numbers with perfect accuracy, so you get very tiny numbers instead of exact zeros.\n",
        "#For example:\n",
        "#8.8817842e-16 is scientific notation for:\n",
        "\n",
        "#8.88×10−16 = 0.00000000000000088817842\n",
        "#This is extremely close to 0, so we can treat it as 0 in mathematical terms."
      ]
    },
    {
      "cell_type": "markdown",
      "metadata": {
        "id": "pdO-Y8Q7_GbX"
      },
      "source": [
        "**Random Number Generation:**\n",
        "\n",
        "**✅ np.random.seed()**\n",
        "This function is used to set the random seed so that random numbers are reproducible — i.e., every time you run the code, you get the same random numbers.\n",
        "\n",
        "🧠 Why use it?\n",
        "Without it, random numbers will change every time you run the code.\n",
        "\n",
        "**✅ np.random.rand()**\n",
        "This function generates random floats between 0 and 1 from a uniform distribution.   \n",
        "\n",
        "np.random.rand()      # Single float between 0 and 1\n",
        "\n",
        "np.random.rand(3)     # 1D array of 3 random floats\n",
        "\n",
        "np.random.rand(2, 3)  # 2x3 array of random floats\n",
        "\n",
        "\n",
        "**✅np.random.randint(low, high, size)**\n",
        "\n",
        "📌 Parameters:\n",
        "\n",
        "low: Start (inclusive) — minimum value allowed.\n",
        "\n",
        "high: End (exclusive) — max value not included.\n",
        "\n",
        "size: How many random numbers or what shape (optional)."
      ]
    },
    {
      "cell_type": "code",
      "execution_count": null,
      "metadata": {
        "colab": {
          "base_uri": "https://localhost:8080/"
        },
        "id": "kQrFnhK_AKu8",
        "outputId": "faa22f44-acc6-4707-d6b5-4fecbedde767"
      },
      "outputs": [
        {
          "name": "stdout",
          "output_type": "stream",
          "text": [
            "0.18340450985343382\n",
            "[[0.30424224 0.52475643 0.43194502]\n",
            " [0.29122914 0.61185289 0.13949386]]\n",
            "[0.29214465 0.36636184 0.45606998 0.78517596]\n",
            "0.3745401188473625\n",
            "[[0.95071431 0.73199394 0.59865848]\n",
            " [0.15601864 0.15599452 0.05808361]]\n",
            "[0.86617615 0.60111501 0.70807258 0.02058449]\n",
            "[ 1 87 29 37  1]\n",
            "[[63 59]]\n",
            "20\n"
          ]
        }
      ],
      "source": [
        "import numpy as np\n",
        "print(np.random.rand())\n",
        "print(np.random.rand(2,3))\n",
        "print(np.random.rand(4))\n",
        "\n",
        "np.random.seed(42)\n",
        "print(np.random.rand())\n",
        "print(np.random.rand(2,3))\n",
        "print(np.random.rand(4))\n",
        "\n",
        "print(np.random.randint(0,100,5))\n",
        "print(np.random.randint(0,100,size=(1,2)))\n",
        "print(np.random.randint(0,100))"
      ]
    },
    {
      "cell_type": "markdown",
      "metadata": {
        "id": "_DTF1dV-EEAI"
      },
      "source": [
        "**Task Day-05**   \n",
        "Task: Build a NumPy-Based Mini ML Engine for Linear Regression with\n",
        "Synthetic Data.   \n",
        "\n",
        "Objective:\n",
        "Create a small Python app using NumPy that generates synthetic data, performs linear\n",
        "regression using matrix operations, and supports saving/loading the data and model weights.\n",
        "\n",
        "**Key Requirements (Mapped to Topics)**\n",
        "\n",
        "**1) Linear Algebra Operations (ML-Relevant)**\n",
        "\n",
        "• Use element-wise multiplication and dot product to compute predictions.\n",
        "\n",
        "• Apply transpose and inverse for solving the Normal Equation:\n",
        "\n",
        "2x+y = 3\n",
        "x+3y = 4\n",
        "\n",
        "• Use np.sum(np.diag(...)) to compute sum of diagonal elements in matrix\n",
        "covariance.\n",
        "\n",
        "• Use np.linalg.solve as an alternative method for solving linear systems.\n",
        "\n",
        "**2) Random Number Generation**\n",
        "\n",
        "• Use np.random.seed() for reproducibility.\n",
        "\n",
        "• Use np.random.random() or np.random.randint() to generate synthetic feature data.\n",
        "\n",
        "• Use np.random.choice() to randomly select samples for testing/training splits.\n",
        "\n",
        "**3) NumPy I/O Operations**\n",
        "\n",
        "• Save and load model weights using np.save() and np.load().\n",
        "\n",
        "• Save the dataset to .txt format using np.savetxt() and load it back using\n",
        "np.loadtxt().\n",
        "\n",
        "• Use np.savez() to store multiple arrays in a single file, e.g., features, targets, and\n",
        "weights.\n",
        "\n",
        "**4) Arithmetic Operations and Array Slicing**\n",
        "\n",
        "Apply vectorized arithmetic operations to perform statistical analysis.\n",
        "Use slicing to separate train/test sets or to manipulate arrays during operations.\n",
        "\n",
        "**Bonus (Optional)**\n",
        "\n",
        "• Allow user input to choose between .npy, .txt, or .npz formats for saving data."
      ]
    },
    {
      "cell_type": "code",
      "execution_count": 1,
      "metadata": {
        "colab": {
          "base_uri": "https://localhost:8080/"
        },
        "id": "Tv-A11pjEHHx",
        "outputId": "03679a3d-2816-427c-8f7a-b0847b283cfd"
      },
      "outputs": [
        {
          "name": "stdout",
          "output_type": "stream",
          "text": [
            "Element-wise multiplication: [1.  4.5]\n",
            "Dot product (prediction): 5.5\n",
            "Solution using inverse:\n",
            " [1. 1.]\n",
            "Sum of diagonal elements (trace): 15\n",
            "Solution using np.linalg.solve:\n",
            " [1. 1.]\n"
          ]
        }
      ],
      "source": [
        "import numpy as np\n",
        "# 1. Element-wise multiplication & dot product\n",
        "# Example vectors\n",
        "features = np.array([2, 3])\n",
        "weights = np.array([0.5, 1.5])\n",
        "\n",
        "# Element-wise multiplication\n",
        "elementwise_product = features * weights\n",
        "print(\"Element-wise multiplication:\", elementwise_product)\n",
        "\n",
        "# Dot product (prediction in ML)\n",
        "dot_product = np.dot(features, weights)\n",
        "print(\"Dot product (prediction):\", dot_product)\n",
        "\n",
        "# 2. Solving Linear System using Transpose & Inverse (Normal Equation)\n",
        "# System of equations:\n",
        "# 2x + y = 3\n",
        "# x + 3y = 4\n",
        "\n",
        "# Matrix form: AX = B\n",
        "A = np.array([[2, 1],\n",
        "              [1, 3]])\n",
        "B = np.array([3, 4])\n",
        "\n",
        "# Using inverse: X = A⁻¹B\n",
        "A_inv = np.linalg.inv(A)\n",
        "X = np.dot(A_inv, B)\n",
        "print(\"Solution using inverse:\\n\", X)\n",
        "\n",
        "# 3. Sum of Diagonal Elements (Trace of Covariance Matrix)\n",
        "# Example matrix (covariance-like)\n",
        "matrix = np.array([[4, 2, 1],\n",
        "                   [2, 5, 3],\n",
        "                   [1, 3, 6]])\n",
        "\n",
        "# Diagonal sum (trace)\n",
        "trace = np.sum(np.diag(matrix))\n",
        "print(\"Sum of diagonal elements (trace):\", trace)\n",
        "\n",
        "# 4. Solving Linear System using np.linalg.solve\n",
        "# Same system: AX = B\n",
        "X_alt = np.linalg.solve(A, B)\n",
        "print(\"Solution using np.linalg.solve:\\n\", X_alt)\n"
      ]
    },
    {
      "cell_type": "code",
      "execution_count": 14,
      "metadata": {
        "colab": {
          "base_uri": "https://localhost:8080/"
        },
        "id": "d3C7OUAtGoco",
        "outputId": "fce7d396-3153-4a43-9c97-faffa52ff448"
      },
      "outputs": [
        {
          "name": "stdout",
          "output_type": "stream",
          "text": [
            "[[51 92 14]\n",
            " [71 60 20]\n",
            " [82 86 74]\n",
            " [74 87 99]\n",
            " [23  2 21]\n",
            " [52  1 87]\n",
            " [29 37  1]\n",
            " [63 59 20]\n",
            " [32 75 57]\n",
            " [21 88 48]]\n",
            "[0 1 2 3 4 5 6 7 8 9]\n",
            "[1 5 4 8 0 7 6]\n",
            "[[71 60 20]\n",
            " [52  1 87]\n",
            " [23  2 21]\n",
            " [32 75 57]\n",
            " [51 92 14]\n",
            " [63 59 20]\n",
            " [29 37  1]]\n",
            "[[82 86 74]\n",
            " [74 87 99]\n",
            " [21 88 48]]\n"
          ]
        }
      ],
      "source": [
        "# Random number generation\n",
        "\n",
        "#seed for reproducibility\n",
        "np.random.seed(42)\n",
        "\n",
        "# Random data with 10 rows and 3 columns/features\n",
        "synthetic_data = np.random.randint(0,100,size=(10,3))\n",
        "print(synthetic_data)\n",
        "\n",
        "# Selecting data randomly for training\n",
        "indices =np.arange(10)\n",
        "print(indices)\n",
        "#lets assume we have 10 datasets\n",
        "#Randomly select 70% (7 out of 10) for training\n",
        "train_data_indices = np.random.choice(indices,size = 7,replace=False)\n",
        "print(train_data_indices)\n",
        "train_data = synthetic_data[train_data_indices]\n",
        "print(train_data)\n",
        "#Select rest of the data for testing\n",
        "test_indices = np.setdiff1d(indices,train_data_indices )\n",
        "test_data = synthetic_data[test_indices]\n",
        "print(test_data)\n"
      ]
    },
    {
      "cell_type": "code",
      "execution_count": 17,
      "metadata": {
        "colab": {
          "base_uri": "https://localhost:8080/"
        },
        "id": "7RYyjr1gJqmx",
        "outputId": "9131ece7-2611-4df4-cb97-0e86d35542e2"
      },
      "outputs": [
        {
          "name": "stdout",
          "output_type": "stream",
          "text": [
            "Features:\n",
            " [[39 84 79]\n",
            " [81 52 23]\n",
            " [25 88 59]\n",
            " [40 28 14]\n",
            " [44 64 88]]\n",
            "Targets:\n",
            " [0 0 1 0 1]\n",
            "Weights:\n",
            " [0.29348817 0.01407982 0.1988424 ]\n",
            "\n",
            "Loaded Weights:\n",
            " [0.29348817 0.01407982 0.1988424 ]\n",
            "\n",
            "Loaded Features from TXT:\n",
            " [[39 84 79]\n",
            " [81 52 23]\n",
            " [25 88 59]\n",
            " [40 28 14]\n",
            " [44 64 88]]\n",
            "\n",
            "Loaded from NPZ:\n",
            "Features:\n",
            " [[39 84 79]\n",
            " [81 52 23]\n",
            " [25 88 59]\n",
            " [40 28 14]\n",
            " [44 64 88]]\n",
            "Targets:\n",
            " [0 0 1 0 1]\n",
            "Weights:\n",
            " [0.29348817 0.01407982 0.1988424 ]\n"
          ]
        }
      ],
      "source": [
        "#Numpy I/O Operations\n",
        "features = np.random.randint(0,100,size=(5,3))\n",
        "targets = np.random.randint(0,2,size=(5,))\n",
        "weights = np.random.random(size=(3,))\n",
        "\n",
        "print(\"Features:\\n\", features)\n",
        "print(\"Targets:\\n\", targets)\n",
        "print(\"Weights:\\n\", weights)\n",
        "\n",
        "np.save('model_weights.npy', weights)              # save weights\n",
        "loaded_weights = np.load('model_weights.npy')      # load weights\n",
        "print(\"\\nLoaded Weights:\\n\", loaded_weights)\n",
        "\n",
        "np.savetxt('features.txt', features, fmt='%d')      # save as text\n",
        "loaded_features = np.loadtxt('features.txt', dtype=int)\n",
        "print(\"\\nLoaded Features from TXT:\\n\", loaded_features)\n",
        "\n",
        "np.savez('model_data.npz', features=features, targets=targets, weights=weights)\n",
        "data = np.load('model_data.npz')\n",
        "print(\"\\nLoaded from NPZ:\")\n",
        "print(\"Features:\\n\", data['features'])\n",
        "print(\"Targets:\\n\", data['targets'])\n",
        "print(\"Weights:\\n\", data['weights'])\n"
      ]
    }
  ],
  "metadata": {
    "colab": {
      "provenance": []
    },
    "kernelspec": {
      "display_name": "Python 3",
      "name": "python3"
    },
    "language_info": {
      "name": "python"
    }
  },
  "nbformat": 4,
  "nbformat_minor": 0
}
