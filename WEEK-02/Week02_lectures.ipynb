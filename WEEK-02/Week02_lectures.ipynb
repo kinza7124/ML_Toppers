{
  "nbformat": 4,
  "nbformat_minor": 0,
  "metadata": {
    "colab": {
      "provenance": []
    },
    "kernelspec": {
      "name": "python3",
      "display_name": "Python 3"
    },
    "language_info": {
      "name": "python"
    }
  },
  "cells": [
    {
      "cell_type": "markdown",
      "source": [
        "# ML WEEK-02 DAY-01 + DAY-02+ DAY-03"
      ],
      "metadata": {
        "id": "NDqo2UCIcLK_"
      }
    },
    {
      "cell_type": "markdown",
      "source": [
        "**🐼 Introduction to the Pandas Library (Python)**\n",
        "\n",
        "Pandas is a powerful and widely-used open-source Python library for data analysis and data manipulation. It provides data structures and functions needed to work with structured data seamlessly.   \n",
        "\n",
        "**✅ Why Use Pandas?**\n",
        "\n",
        "Easy to load, clean, analyze, and visualize data.\n",
        "\n",
        "Works well with CSV, Excel, SQL, JSON, and more.\n",
        "\n",
        "Built on top of NumPy, and often used with Matplotlib and Seaborn.\n",
        "\n",
        "**🔧 Key Data Structures**\n",
        "\n",
        "Series: One-dimensional labeled array (like a column in Excel).\n",
        "\n",
        "DataFrame: A DataFrame is a 2-dimensional, tabular data structure with labeled rows and columns, similar to a spreadsheet or SQL table.\n",
        "\n",
        "a. Rows have indices (labels).\n",
        "\n",
        "b. Columns have names (labels)."
      ],
      "metadata": {
        "id": "ToBN3tQ1Hr-k"
      }
    },
    {
      "cell_type": "code",
      "source": [
        "import pandas as pd"
      ],
      "metadata": {
        "id": "x_i8WRgUIxlK"
      },
      "execution_count": null,
      "outputs": []
    },
    {
      "cell_type": "markdown",
      "source": [
        "**Creating a Series using pd.series:**"
      ],
      "metadata": {
        "id": "6bJo2yTVy7p7"
      }
    },
    {
      "cell_type": "code",
      "source": [
        "import pandas as pd\n",
        "\n",
        "# Example 1: Simple Series from a list\n",
        "s = pd.Series([10, 20, 30, 40])\n",
        "print(s)\n",
        "\n",
        "# Example 2: Series with custom index\n",
        "s2 = pd.Series([100, 200, 300], index=['a', 'b', 'c'])\n",
        "print(s2)"
      ],
      "metadata": {
        "colab": {
          "base_uri": "https://localhost:8080/"
        },
        "id": "3vkkAtkzy5ku",
        "outputId": "b5647832-13ca-4859-b6c4-6593fb72b029"
      },
      "execution_count": null,
      "outputs": [
        {
          "output_type": "stream",
          "name": "stdout",
          "text": [
            "0    10\n",
            "1    20\n",
            "2    30\n",
            "3    40\n",
            "dtype: int64\n",
            "a    100\n",
            "b    200\n",
            "c    300\n",
            "dtype: int64\n"
          ]
        }
      ]
    },
    {
      "cell_type": "markdown",
      "source": [
        "**Creating DataFrame from Series:**"
      ],
      "metadata": {
        "id": "A-5B5EemzETq"
      }
    },
    {
      "cell_type": "code",
      "source": [
        "# Convert a Series to DataFrame\n",
        "s2 = pd.Series([100, 200, 300], index=['a', 'b', 'c'])\n",
        "\n",
        "df_from_series = pd.DataFrame(s2, columns=['Values'])\n",
        "print(df_from_series)"
      ],
      "metadata": {
        "colab": {
          "base_uri": "https://localhost:8080/"
        },
        "id": "LFz0-RLezIkW",
        "outputId": "729f083c-60a2-4844-ddd6-77fcb46c5087"
      },
      "execution_count": null,
      "outputs": [
        {
          "output_type": "stream",
          "name": "stdout",
          "text": [
            "   Values\n",
            "a     100\n",
            "b     200\n",
            "c     300\n"
          ]
        }
      ]
    },
    {
      "cell_type": "markdown",
      "source": [
        "**Creating DataFrame from Dictionary:**"
      ],
      "metadata": {
        "id": "zQt-CgQbz-Ej"
      }
    },
    {
      "cell_type": "code",
      "source": [
        "\n",
        "import pandas as pd\n",
        "# Dictionary with lists\n",
        "data = {\n",
        "    'Name': ['Ali', 'Zara', 'Ahmed'],\n",
        "    'Age': [23, 25, 22],\n",
        "    'City': ['Lahore', 'Karachi', 'Islamabad']\n",
        "}\n",
        "\n",
        "df = pd.DataFrame(data)\n",
        "print(df)"
      ],
      "metadata": {
        "colab": {
          "base_uri": "https://localhost:8080/"
        },
        "id": "F3d7BNUI0BP4",
        "outputId": "4dc0c90a-2bee-4f71-84d1-74374642aea5"
      },
      "execution_count": null,
      "outputs": [
        {
          "output_type": "stream",
          "name": "stdout",
          "text": [
            "    Name  Age       City\n",
            "0    Ali   23     Lahore\n",
            "1   Zara   25    Karachi\n",
            "2  Ahmed   22  Islamabad\n"
          ]
        }
      ]
    },
    {
      "cell_type": "markdown",
      "source": [
        "**Creating a DataFrame from a dictionary of Series:**"
      ],
      "metadata": {
        "id": "p7kIKDhA0Gdh"
      }
    },
    {
      "cell_type": "code",
      "source": [
        "\n",
        "import pandas as pd\n",
        "# Dictionary of Series\n",
        "data = {\n",
        "    'Math': pd.Series([90, 80, 70], index=['a', 'b', 'c']),\n",
        "    'Science': pd.Series([88, 92, 95], index=['a', 'b', 'c'])\n",
        "}\n",
        "\n",
        "df = pd.DataFrame(data)\n",
        "print(df)"
      ],
      "metadata": {
        "colab": {
          "base_uri": "https://localhost:8080/"
        },
        "id": "uiLhFF230O-P",
        "outputId": "d3315f99-256f-4594-dca8-432edc5b3ffe"
      },
      "execution_count": null,
      "outputs": [
        {
          "output_type": "stream",
          "name": "stdout",
          "text": [
            "   Math  Science\n",
            "a    90       88\n",
            "b    80       92\n",
            "c    70       95\n"
          ]
        }
      ]
    },
    {
      "cell_type": "code",
      "source": [
        "import pandas as pd\n",
        "series = pd.Series([10,20,30,40])\n",
        "print(series)\n",
        "print(series.values)\n",
        "print(series.index)\n",
        "print(series.dtype)\n",
        "print(series.shape)\n",
        "print(series.name)\n",
        "series.name = \"Series\"\n",
        "print(series.name)\n",
        "\n",
        "series = pd.Series([10,20,30,40],index=['a','b','c','d'])\n",
        "print(series)\n",
        "print(series.values)\n",
        "print(series.index)\n",
        "print(series.dtype)\n",
        "print(series.shape)\n",
        "print(series.name)\n",
        "series.name = \"Series\"\n",
        "print(series.name)\n"
      ],
      "metadata": {
        "colab": {
          "base_uri": "https://localhost:8080/"
        },
        "id": "w2gao_1UMHu3",
        "outputId": "62da8ec8-8efb-43b5-90e8-85a236b27964"
      },
      "execution_count": null,
      "outputs": [
        {
          "output_type": "stream",
          "name": "stdout",
          "text": [
            "0    10\n",
            "1    20\n",
            "2    30\n",
            "3    40\n",
            "dtype: int64\n",
            "[10 20 30 40]\n",
            "RangeIndex(start=0, stop=4, step=1)\n",
            "int64\n",
            "(4,)\n",
            "None\n",
            "Series\n",
            "a    10\n",
            "b    20\n",
            "c    30\n",
            "d    40\n",
            "dtype: int64\n",
            "[10 20 30 40]\n",
            "Index(['a', 'b', 'c', 'd'], dtype='object')\n",
            "int64\n",
            "(4,)\n",
            "None\n",
            "Series\n"
          ]
        }
      ]
    },
    {
      "cell_type": "markdown",
      "source": [
        "**Accessing indexes using loc and iloc:**"
      ],
      "metadata": {
        "id": "0uQMcYExPO7s"
      }
    },
    {
      "cell_type": "code",
      "source": [
        "import pandas as pd\n",
        "df = pd.DataFrame({\n",
        "    'Name': ['Ali', 'Zara', 'Ahmed'],\n",
        "    'Age': [23, 25, 22],\n",
        "    'City': ['Lahore', 'Karachi', 'Islamabad']\n",
        "}, index=['a','b','c'])\n",
        "print(df)\n",
        "# To know the data type of each column\n",
        "print(df.dtypes)\n",
        "# .loc --> Using label based indexing\n",
        "print(\"\\nUsing loc:\\n\")\n",
        "print(df.loc['a'])\n",
        "print(df.loc['a':'c'])\n",
        "print(df.loc['a','Name'])\n",
        "print(df.loc['a',['Name','City']])\n",
        "\n",
        "#.iloc --> Position based indexing\n",
        "print(\"\\nUsing iloc:\\n\")\n",
        "print(df.iloc[0])\n",
        "print(df.iloc[0:2])\n",
        "print(df.iloc[0,0])\n",
        "print(df.iloc[0,[0,2]])"
      ],
      "metadata": {
        "colab": {
          "base_uri": "https://localhost:8080/"
        },
        "id": "oO9LEgQvIlgI",
        "outputId": "efd5b4de-cbe8-4792-f264-74cfe93703c3"
      },
      "execution_count": null,
      "outputs": [
        {
          "output_type": "stream",
          "name": "stdout",
          "text": [
            "    Name  Age       City\n",
            "a    Ali   23     Lahore\n",
            "b   Zara   25    Karachi\n",
            "c  Ahmed   22  Islamabad\n",
            "Name    object\n",
            "Age      int64\n",
            "City    object\n",
            "dtype: object\n",
            "\n",
            "Using loc:\n",
            "\n",
            "Name       Ali\n",
            "Age         23\n",
            "City    Lahore\n",
            "Name: a, dtype: object\n",
            "    Name  Age       City\n",
            "a    Ali   23     Lahore\n",
            "b   Zara   25    Karachi\n",
            "c  Ahmed   22  Islamabad\n",
            "Ali\n",
            "Name       Ali\n",
            "City    Lahore\n",
            "Name: a, dtype: object\n",
            "\n",
            "Using iloc:\n",
            "\n",
            "Name       Ali\n",
            "Age         23\n",
            "City    Lahore\n",
            "Name: a, dtype: object\n",
            "   Name  Age     City\n",
            "a   Ali   23   Lahore\n",
            "b  Zara   25  Karachi\n",
            "Ali\n",
            "Name       Ali\n",
            "City    Lahore\n",
            "Name: a, dtype: object\n"
          ]
        }
      ]
    },
    {
      "cell_type": "code",
      "source": [
        "import pandas as pd\n",
        "df = pd.DataFrame({\n",
        "    'Name': ['Ali', 'Zara', 'Ahmed'],\n",
        "    'Age': [23, 25, 22],\n",
        "    'City': ['Lahore', 'Karachi', 'Islamabad']\n",
        "}, index=['a','b','c'])\n",
        "print(df)\n",
        "\n",
        "print(df[\"Name\"].str.lower())\n",
        "print(df[\"City\"].str.contains('a'))\n",
        "print(df[\"City\"].str.contains('o'))\n",
        "print(df[\"City\"].isin([\"Lahore\",\"Paris\",\"NewYork\"]))\n",
        "\n",
        "print(type(df['Age']))\n",
        "print(type(df[['Age']]))\n",
        "print(df[[\"Name\",\"City\"]])"
      ],
      "metadata": {
        "colab": {
          "base_uri": "https://localhost:8080/"
        },
        "id": "n6gazV2_NylV",
        "outputId": "37aae872-0656-4a21-902f-71080f3ec58b"
      },
      "execution_count": null,
      "outputs": [
        {
          "output_type": "stream",
          "name": "stdout",
          "text": [
            "    Name  Age       City\n",
            "a    Ali   23     Lahore\n",
            "b   Zara   25    Karachi\n",
            "c  Ahmed   22  Islamabad\n",
            "a      ali\n",
            "b     zara\n",
            "c    ahmed\n",
            "Name: Name, dtype: object\n",
            "a    True\n",
            "b    True\n",
            "c    True\n",
            "Name: City, dtype: bool\n",
            "a     True\n",
            "b    False\n",
            "c    False\n",
            "Name: City, dtype: bool\n",
            "a     True\n",
            "b    False\n",
            "c    False\n",
            "Name: City, dtype: bool\n",
            "<class 'pandas.core.series.Series'>\n",
            "<class 'pandas.core.frame.DataFrame'>\n",
            "    Name       City\n",
            "a    Ali     Lahore\n",
            "b   Zara    Karachi\n",
            "c  Ahmed  Islamabad\n"
          ]
        }
      ]
    },
    {
      "cell_type": "code",
      "source": [
        "data = {\n",
        "    'Name': ['Ali', 'Sara', 'John'],\n",
        "    'Age': [24, 22, 26]\n",
        "}\n",
        "\n",
        "df = pd.DataFrame(data)\n",
        "print(df)\n",
        "\n",
        "df.to_csv(\"output.csv\")\n",
        "print(df)\n",
        "\n",
        "df.to_csv(\"output1.csv\",index=False)\n",
        "print(df)"
      ],
      "metadata": {
        "id": "sZMWdgrJI5to",
        "outputId": "24e0c9c8-2c7e-4266-f005-f4c4389fe1ff",
        "colab": {
          "base_uri": "https://localhost:8080/"
        }
      },
      "execution_count": null,
      "outputs": [
        {
          "output_type": "stream",
          "name": "stdout",
          "text": [
            "   Name  Age\n",
            "0   Ali   24\n",
            "1  Sara   22\n",
            "2  John   26\n",
            "   Name  Age\n",
            "0   Ali   24\n",
            "1  Sara   22\n",
            "2  John   26\n",
            "   Name  Age\n",
            "0   Ali   24\n",
            "1  Sara   22\n",
            "2  John   26\n"
          ]
        }
      ]
    },
    {
      "cell_type": "markdown",
      "source": [
        "**💾 Saving Data to Excel and JSON Formats**\n",
        "\n",
        "🔸 Saving to Excel:\n",
        "Use to_excel() to save a DataFrame as an Excel file.\n",
        "\n",
        "Example:\n",
        "\n",
        "df.to_excel(\"output.xlsx\", index=False)\n",
        "\n",
        "index=False is used to prevent writing row numbers to the file.\n",
        "\n",
        "🔸 Saving to JSON:\n",
        "Use to_json() to save data in JSON format.\n",
        "\n",
        "Example:\n",
        "\n",
        "df.to_json(\"output.json\", orient=\"records\")\n",
        "\n",
        "orient=\"records\" saves the data as a list of dictionaries, which is a commonly used format."
      ],
      "metadata": {
        "id": "6t8KPNHzbV-e"
      }
    },
    {
      "cell_type": "markdown",
      "source": [
        "**Reading the data:**\n",
        "\n",
        "df = pdf.read_csv(\"filename\", encoding = \"latin1\")\n",
        "\n",
        "df = pd.read_excel(\"filename.xlsx\")\n",
        "\n",
        "df = pd.read_json(\"filename.json\")"
      ],
      "metadata": {
        "id": "7S-sPljqacHD"
      }
    },
    {
      "cell_type": "code",
      "source": [
        "df = pd.read_csv(\"/content/sales_data_sample.csv\", encoding= \"latin1\")"
      ],
      "metadata": {
        "id": "tQQ4wNSxXAuo"
      },
      "execution_count": null,
      "outputs": []
    },
    {
      "cell_type": "code",
      "source": [
        "print(df)"
      ],
      "metadata": {
        "colab": {
          "base_uri": "https://localhost:8080/"
        },
        "id": "GeYTIr3dX7D-",
        "outputId": "11298345-2341-4024-f1bf-0b83b52ad07a"
      },
      "execution_count": null,
      "outputs": [
        {
          "output_type": "stream",
          "name": "stdout",
          "text": [
            "      ORDERNUMBER  QUANTITYORDERED  PRICEEACH  ORDERLINENUMBER    SALES  \\\n",
            "0           10107               30      95.70                2  2871.00   \n",
            "1           10121               34      81.35                5  2765.90   \n",
            "2           10134               41      94.74                2  3884.34   \n",
            "3           10145               45      83.26                6  3746.70   \n",
            "4           10159               49     100.00               14  5205.27   \n",
            "...           ...              ...        ...              ...      ...   \n",
            "2818        10350               20     100.00               15  2244.40   \n",
            "2819        10373               29     100.00                1  3978.51   \n",
            "2820        10386               43     100.00                4  5417.57   \n",
            "2821        10397               34      62.24                1  2116.16   \n",
            "2822        10414               47      65.52                9  3079.44   \n",
            "\n",
            "            ORDERDATE    STATUS  QTR_ID  MONTH_ID  YEAR_ID  ...  \\\n",
            "0      2/24/2003 0:00   Shipped       1         2     2003  ...   \n",
            "1       5/7/2003 0:00   Shipped       2         5     2003  ...   \n",
            "2       7/1/2003 0:00   Shipped       3         7     2003  ...   \n",
            "3      8/25/2003 0:00   Shipped       3         8     2003  ...   \n",
            "4     10/10/2003 0:00   Shipped       4        10     2003  ...   \n",
            "...               ...       ...     ...       ...      ...  ...   \n",
            "2818   12/2/2004 0:00   Shipped       4        12     2004  ...   \n",
            "2819   1/31/2005 0:00   Shipped       1         1     2005  ...   \n",
            "2820    3/1/2005 0:00  Resolved       1         3     2005  ...   \n",
            "2821   3/28/2005 0:00   Shipped       1         3     2005  ...   \n",
            "2822    5/6/2005 0:00   On Hold       2         5     2005  ...   \n",
            "\n",
            "                       ADDRESSLINE1  ADDRESSLINE2           CITY STATE  \\\n",
            "0           897 Long Airport Avenue           NaN            NYC    NY   \n",
            "1                59 rue de l'Abbaye           NaN          Reims   NaN   \n",
            "2     27 rue du Colonel Pierre Avia           NaN          Paris   NaN   \n",
            "3                78934 Hillside Dr.           NaN       Pasadena    CA   \n",
            "4                   7734 Strong St.           NaN  San Francisco    CA   \n",
            "...                             ...           ...            ...   ...   \n",
            "2818             C/ Moralzarzal, 86           NaN         Madrid   NaN   \n",
            "2819                    Torikatu 38           NaN           Oulu   NaN   \n",
            "2820             C/ Moralzarzal, 86           NaN         Madrid   NaN   \n",
            "2821          1 rue Alsace-Lorraine           NaN       Toulouse   NaN   \n",
            "2822             8616 Spinnaker Dr.           NaN         Boston    MA   \n",
            "\n",
            "     POSTALCODE  COUNTRY TERRITORY CONTACTLASTNAME CONTACTFIRSTNAME DEALSIZE  \n",
            "0         10022      USA       NaN              Yu             Kwai    Small  \n",
            "1         51100   France      EMEA         Henriot             Paul    Small  \n",
            "2         75508   France      EMEA        Da Cunha           Daniel   Medium  \n",
            "3         90003      USA       NaN           Young            Julie   Medium  \n",
            "4           NaN      USA       NaN           Brown            Julie   Medium  \n",
            "...         ...      ...       ...             ...              ...      ...  \n",
            "2818      28034    Spain      EMEA          Freyre            Diego    Small  \n",
            "2819      90110  Finland      EMEA       Koskitalo           Pirkko   Medium  \n",
            "2820      28034    Spain      EMEA          Freyre            Diego   Medium  \n",
            "2821      31000   France      EMEA          Roulet          Annette    Small  \n",
            "2822      51003      USA       NaN         Yoshido             Juri   Medium  \n",
            "\n",
            "[2823 rows x 25 columns]\n"
          ]
        }
      ]
    },
    {
      "cell_type": "markdown",
      "source": [
        "🔹 df.shape\n",
        "\n",
        "Purpose: Tells you the dimensions of the DataFrame.\n",
        "\n",
        "Returns: A tuple in the form (number of rows, number of columns)\n",
        "\n",
        "🔹 df.head()\n",
        "Purpose: Displays the first 5 rows of the DataFrame by default.\n",
        "\n",
        "Usage:\n",
        "\n",
        "df.head()         # First 5 rows\n",
        "df.head(10)       # First 10 rows\n",
        "\n",
        "🔹 df.tail()\n",
        "Purpose: Displays the last 5 rows of the DataFrame by default.\n",
        "\n",
        "Usage:\n",
        "\n",
        "df.tail()         # Last 5 rows\n",
        "df.tail(10)       # Last 10 rows\n",
        "\n",
        "🔹 df.columns\n",
        "Returns a list of column names in the DataFrame.\n",
        "\n",
        "🔹 df.dtypes\n",
        "Shows the data type of each column.\n",
        "\n",
        "🔹 df.describe()\n",
        "Generates descriptive statistics for numeric columns:\n",
        "\n",
        "Count, mean, std, min, max, 25%, 50%, 75% quartiles\n",
        "\n",
        "🔹 df.sample(n)\n",
        "Returns a random sample of n rows from the DataFrame."
      ],
      "metadata": {
        "id": "yrvzT9XsdAiJ"
      }
    },
    {
      "cell_type": "code",
      "source": [
        "print(df.dtypes)"
      ],
      "metadata": {
        "colab": {
          "base_uri": "https://localhost:8080/"
        },
        "id": "ywiiyvVXNXf5",
        "outputId": "1feaa129-1fee-43f7-c4fe-f2d817010332"
      },
      "execution_count": null,
      "outputs": [
        {
          "output_type": "stream",
          "name": "stdout",
          "text": [
            "Name    object\n",
            "Age      int64\n",
            "City    object\n",
            "dtype: object\n"
          ]
        }
      ]
    },
    {
      "cell_type": "code",
      "source": [
        "print(df.shape)"
      ],
      "metadata": {
        "colab": {
          "base_uri": "https://localhost:8080/"
        },
        "id": "cfTCwLb0ZXyc",
        "outputId": "d6af562c-2ea3-4819-c135-2ed5fdcac250"
      },
      "execution_count": null,
      "outputs": [
        {
          "output_type": "stream",
          "name": "stdout",
          "text": [
            "(2823, 25)\n"
          ]
        }
      ]
    },
    {
      "cell_type": "code",
      "source": [
        "print(df.info())"
      ],
      "metadata": {
        "colab": {
          "base_uri": "https://localhost:8080/"
        },
        "id": "Ldd7Oih4cdH2",
        "outputId": "7057f4b1-d5e8-4800-ae09-13750a525f76"
      },
      "execution_count": null,
      "outputs": [
        {
          "output_type": "stream",
          "name": "stdout",
          "text": [
            "<class 'pandas.core.frame.DataFrame'>\n",
            "RangeIndex: 2823 entries, 0 to 2822\n",
            "Data columns (total 25 columns):\n",
            " #   Column            Non-Null Count  Dtype  \n",
            "---  ------            --------------  -----  \n",
            " 0   ORDERNUMBER       2823 non-null   int64  \n",
            " 1   QUANTITYORDERED   2823 non-null   int64  \n",
            " 2   PRICEEACH         2823 non-null   float64\n",
            " 3   ORDERLINENUMBER   2823 non-null   int64  \n",
            " 4   SALES             2823 non-null   float64\n",
            " 5   ORDERDATE         2823 non-null   object \n",
            " 6   STATUS            2823 non-null   object \n",
            " 7   QTR_ID            2823 non-null   int64  \n",
            " 8   MONTH_ID          2823 non-null   int64  \n",
            " 9   YEAR_ID           2823 non-null   int64  \n",
            " 10  PRODUCTLINE       2823 non-null   object \n",
            " 11  MSRP              2823 non-null   int64  \n",
            " 12  PRODUCTCODE       2823 non-null   object \n",
            " 13  CUSTOMERNAME      2823 non-null   object \n",
            " 14  PHONE             2823 non-null   object \n",
            " 15  ADDRESSLINE1      2823 non-null   object \n",
            " 16  ADDRESSLINE2      302 non-null    object \n",
            " 17  CITY              2823 non-null   object \n",
            " 18  STATE             1337 non-null   object \n",
            " 19  POSTALCODE        2747 non-null   object \n",
            " 20  COUNTRY           2823 non-null   object \n",
            " 21  TERRITORY         1749 non-null   object \n",
            " 22  CONTACTLASTNAME   2823 non-null   object \n",
            " 23  CONTACTFIRSTNAME  2823 non-null   object \n",
            " 24  DEALSIZE          2823 non-null   object \n",
            "dtypes: float64(2), int64(7), object(16)\n",
            "memory usage: 551.5+ KB\n",
            "None\n"
          ]
        }
      ]
    },
    {
      "cell_type": "code",
      "source": [
        "print(df.head(2))"
      ],
      "metadata": {
        "colab": {
          "base_uri": "https://localhost:8080/"
        },
        "id": "it9wsldCcfd6",
        "outputId": "5dce2174-92f8-45dd-88d6-ff5718008f91"
      },
      "execution_count": null,
      "outputs": [
        {
          "output_type": "stream",
          "name": "stdout",
          "text": [
            "   ORDERNUMBER  QUANTITYORDERED  PRICEEACH  ORDERLINENUMBER   SALES  \\\n",
            "0        10107               30      95.70                2  2871.0   \n",
            "1        10121               34      81.35                5  2765.9   \n",
            "\n",
            "        ORDERDATE   STATUS  QTR_ID  MONTH_ID  YEAR_ID  ...  \\\n",
            "0  2/24/2003 0:00  Shipped       1         2     2003  ...   \n",
            "1   5/7/2003 0:00  Shipped       2         5     2003  ...   \n",
            "\n",
            "              ADDRESSLINE1  ADDRESSLINE2   CITY STATE POSTALCODE COUNTRY  \\\n",
            "0  897 Long Airport Avenue           NaN    NYC    NY      10022     USA   \n",
            "1       59 rue de l'Abbaye           NaN  Reims   NaN      51100  France   \n",
            "\n",
            "  TERRITORY CONTACTLASTNAME CONTACTFIRSTNAME DEALSIZE  \n",
            "0       NaN              Yu             Kwai    Small  \n",
            "1      EMEA         Henriot             Paul    Small  \n",
            "\n",
            "[2 rows x 25 columns]\n"
          ]
        }
      ]
    },
    {
      "cell_type": "code",
      "source": [
        "print(df.tail(2))"
      ],
      "metadata": {
        "colab": {
          "base_uri": "https://localhost:8080/"
        },
        "id": "kFyApeXBckkF",
        "outputId": "ed87b904-5a9a-4a20-e811-8eff11338575"
      },
      "execution_count": null,
      "outputs": [
        {
          "output_type": "stream",
          "name": "stdout",
          "text": [
            "      ORDERNUMBER  QUANTITYORDERED  PRICEEACH  ORDERLINENUMBER    SALES  \\\n",
            "2821        10397               34      62.24                1  2116.16   \n",
            "2822        10414               47      65.52                9  3079.44   \n",
            "\n",
            "           ORDERDATE   STATUS  QTR_ID  MONTH_ID  YEAR_ID  ...  \\\n",
            "2821  3/28/2005 0:00  Shipped       1         3     2005  ...   \n",
            "2822   5/6/2005 0:00  On Hold       2         5     2005  ...   \n",
            "\n",
            "               ADDRESSLINE1  ADDRESSLINE2      CITY STATE POSTALCODE COUNTRY  \\\n",
            "2821  1 rue Alsace-Lorraine           NaN  Toulouse   NaN      31000  France   \n",
            "2822     8616 Spinnaker Dr.           NaN    Boston    MA      51003     USA   \n",
            "\n",
            "     TERRITORY CONTACTLASTNAME CONTACTFIRSTNAME DEALSIZE  \n",
            "2821      EMEA          Roulet          Annette    Small  \n",
            "2822       NaN         Yoshido             Juri   Medium  \n",
            "\n",
            "[2 rows x 25 columns]\n"
          ]
        }
      ]
    },
    {
      "cell_type": "code",
      "source": [
        "print(df.columns)"
      ],
      "metadata": {
        "colab": {
          "base_uri": "https://localhost:8080/"
        },
        "id": "Tg2XICctqJHF",
        "outputId": "a40c4b18-8118-4e2f-aa51-c68c04d7d239"
      },
      "execution_count": null,
      "outputs": [
        {
          "output_type": "stream",
          "name": "stdout",
          "text": [
            "Index(['ORDERNUMBER', 'QUANTITYORDERED', 'PRICEEACH', 'ORDERLINENUMBER',\n",
            "       'SALES', 'ORDERDATE', 'STATUS', 'QTR_ID', 'MONTH_ID', 'YEAR_ID',\n",
            "       'PRODUCTLINE', 'MSRP', 'PRODUCTCODE', 'CUSTOMERNAME', 'PHONE',\n",
            "       'ADDRESSLINE1', 'ADDRESSLINE2', 'CITY', 'STATE', 'POSTALCODE',\n",
            "       'COUNTRY', 'TERRITORY', 'CONTACTLASTNAME', 'CONTACTFIRSTNAME',\n",
            "       'DEALSIZE'],\n",
            "      dtype='object')\n"
          ]
        }
      ]
    },
    {
      "cell_type": "code",
      "source": [
        "print(df.dtypes)"
      ],
      "metadata": {
        "colab": {
          "base_uri": "https://localhost:8080/"
        },
        "id": "nXYdcm0NqSM5",
        "outputId": "77c556e2-4e1e-4e01-82f2-a77403f95a5d"
      },
      "execution_count": null,
      "outputs": [
        {
          "output_type": "stream",
          "name": "stdout",
          "text": [
            "ORDERNUMBER           int64\n",
            "QUANTITYORDERED       int64\n",
            "PRICEEACH           float64\n",
            "ORDERLINENUMBER       int64\n",
            "SALES               float64\n",
            "ORDERDATE            object\n",
            "STATUS               object\n",
            "QTR_ID                int64\n",
            "MONTH_ID              int64\n",
            "YEAR_ID               int64\n",
            "PRODUCTLINE          object\n",
            "MSRP                  int64\n",
            "PRODUCTCODE          object\n",
            "CUSTOMERNAME         object\n",
            "PHONE                object\n",
            "ADDRESSLINE1         object\n",
            "ADDRESSLINE2         object\n",
            "CITY                 object\n",
            "STATE                object\n",
            "POSTALCODE           object\n",
            "COUNTRY              object\n",
            "TERRITORY            object\n",
            "CONTACTLASTNAME      object\n",
            "CONTACTFIRSTNAME     object\n",
            "DEALSIZE             object\n",
            "dtype: object\n"
          ]
        }
      ]
    },
    {
      "cell_type": "code",
      "source": [
        "print(df.sample(5))"
      ],
      "metadata": {
        "colab": {
          "base_uri": "https://localhost:8080/"
        },
        "id": "qyq_Zi72qYFv",
        "outputId": "2483dd38-3810-4605-e52c-d97bef4abacf"
      },
      "execution_count": null,
      "outputs": [
        {
          "output_type": "stream",
          "name": "stdout",
          "text": [
            "      ORDERNUMBER  QUANTITYORDERED  PRICEEACH  ORDERLINENUMBER    SALES  \\\n",
            "1815        10378               41     100.00                7  5856.85   \n",
            "2462        10167               43      75.34               12  3239.62   \n",
            "821         10308               34      52.09                3  1771.06   \n",
            "705         10141               47     100.00                8  6287.66   \n",
            "748         10367               27     100.00                5  4196.07   \n",
            "\n",
            "            ORDERDATE     STATUS  QTR_ID  MONTH_ID  YEAR_ID  ...  \\\n",
            "1815   2/10/2005 0:00    Shipped       1         2     2005  ...   \n",
            "2462  10/23/2003 0:00  Cancelled       4        10     2003  ...   \n",
            "821   10/15/2004 0:00    Shipped       4        10     2004  ...   \n",
            "705     8/1/2003 0:00    Shipped       3         8     2003  ...   \n",
            "748    1/12/2005 0:00   Resolved       1         1     2005  ...   \n",
            "\n",
            "                             ADDRESSLINE1  ADDRESSLINE2          CITY STATE  \\\n",
            "1815                   C/ Moralzarzal, 86           NaN        Madrid   NaN   \n",
            "2462                         ?kergatan 24           NaN         Boras   NaN   \n",
            "821             3758 North Pendale Street           NaN  White Plains    NY   \n",
            "705   Software Engineering Center, SEC Oy           NaN         Espoo   NaN   \n",
            "748                    78934 Hillside Dr.           NaN      Pasadena    CA   \n",
            "\n",
            "     POSTALCODE  COUNTRY TERRITORY CONTACTLASTNAME CONTACTFIRSTNAME DEALSIZE  \n",
            "1815      28034    Spain      EMEA          Freyre            Diego   Medium  \n",
            "2462   S-844 67   Sweden      EMEA         Larsson            Maria   Medium  \n",
            "821       24067      USA       NaN           Frick            Steve    Small  \n",
            "705   FIN-02271  Finland      EMEA        Suominen            Kalle   Medium  \n",
            "748       90003      USA       NaN           Young            Julie   Medium  \n",
            "\n",
            "[5 rows x 25 columns]\n"
          ]
        }
      ]
    },
    {
      "cell_type": "code",
      "source": [
        "print(df.describe())"
      ],
      "metadata": {
        "colab": {
          "base_uri": "https://localhost:8080/"
        },
        "id": "HoHhAANMqbD0",
        "outputId": "338a8ba5-88e1-4386-b30c-b0671c90dcf5"
      },
      "execution_count": null,
      "outputs": [
        {
          "output_type": "stream",
          "name": "stdout",
          "text": [
            "        ORDERNUMBER  QUANTITYORDERED    PRICEEACH  ORDERLINENUMBER  \\\n",
            "count   2823.000000      2823.000000  2823.000000      2823.000000   \n",
            "mean   10258.725115        35.092809    83.658544         6.466171   \n",
            "std       92.085478         9.741443    20.174277         4.225841   \n",
            "min    10100.000000         6.000000    26.880000         1.000000   \n",
            "25%    10180.000000        27.000000    68.860000         3.000000   \n",
            "50%    10262.000000        35.000000    95.700000         6.000000   \n",
            "75%    10333.500000        43.000000   100.000000         9.000000   \n",
            "max    10425.000000        97.000000   100.000000        18.000000   \n",
            "\n",
            "              SALES       QTR_ID     MONTH_ID     YEAR_ID         MSRP  \n",
            "count   2823.000000  2823.000000  2823.000000  2823.00000  2823.000000  \n",
            "mean    3553.889072     2.717676     7.092455  2003.81509   100.715551  \n",
            "std     1841.865106     1.203878     3.656633     0.69967    40.187912  \n",
            "min      482.130000     1.000000     1.000000  2003.00000    33.000000  \n",
            "25%     2203.430000     2.000000     4.000000  2003.00000    68.000000  \n",
            "50%     3184.800000     3.000000     8.000000  2004.00000    99.000000  \n",
            "75%     4508.000000     4.000000    11.000000  2004.00000   124.000000  \n",
            "max    14082.800000     4.000000    12.000000  2005.00000   214.000000  \n"
          ]
        }
      ]
    },
    {
      "cell_type": "markdown",
      "source": [
        "**Missing Values:**\n",
        "\n",
        "df.isnull() - > Returns True where value is NaN\n",
        "\n",
        "df.isnull().sum() ->Total missing values per column\n",
        "\n",
        "df.dropna() -> Drops rows with missing values\n",
        "\n",
        "df.fillna(value) -> Fills NaN with a value\n",
        "\n",
        "df.fillna(method='ffill') -> Forward fill\n",
        "\n",
        "df.fillna(method='bfill') -> Backward fill"
      ],
      "metadata": {
        "id": "o0KA64Xdq5DV"
      }
    },
    {
      "cell_type": "code",
      "source": [
        "print(df.isnull())"
      ],
      "metadata": {
        "colab": {
          "base_uri": "https://localhost:8080/"
        },
        "id": "6h2WyuF9raUM",
        "outputId": "19af9154-084a-4123-afa7-531a43f10aea"
      },
      "execution_count": null,
      "outputs": [
        {
          "output_type": "stream",
          "name": "stdout",
          "text": [
            "      ORDERNUMBER  QUANTITYORDERED  PRICEEACH  ORDERLINENUMBER  SALES  \\\n",
            "0           False            False      False            False  False   \n",
            "1           False            False      False            False  False   \n",
            "2           False            False      False            False  False   \n",
            "3           False            False      False            False  False   \n",
            "4           False            False      False            False  False   \n",
            "...           ...              ...        ...              ...    ...   \n",
            "2818        False            False      False            False  False   \n",
            "2819        False            False      False            False  False   \n",
            "2820        False            False      False            False  False   \n",
            "2821        False            False      False            False  False   \n",
            "2822        False            False      False            False  False   \n",
            "\n",
            "      ORDERDATE  STATUS  QTR_ID  MONTH_ID  YEAR_ID  ...  ADDRESSLINE1  \\\n",
            "0         False   False   False     False    False  ...         False   \n",
            "1         False   False   False     False    False  ...         False   \n",
            "2         False   False   False     False    False  ...         False   \n",
            "3         False   False   False     False    False  ...         False   \n",
            "4         False   False   False     False    False  ...         False   \n",
            "...         ...     ...     ...       ...      ...  ...           ...   \n",
            "2818      False   False   False     False    False  ...         False   \n",
            "2819      False   False   False     False    False  ...         False   \n",
            "2820      False   False   False     False    False  ...         False   \n",
            "2821      False   False   False     False    False  ...         False   \n",
            "2822      False   False   False     False    False  ...         False   \n",
            "\n",
            "      ADDRESSLINE2   CITY  STATE  POSTALCODE  COUNTRY  TERRITORY  \\\n",
            "0             True  False  False       False    False       True   \n",
            "1             True  False   True       False    False      False   \n",
            "2             True  False   True       False    False      False   \n",
            "3             True  False  False       False    False       True   \n",
            "4             True  False  False        True    False       True   \n",
            "...            ...    ...    ...         ...      ...        ...   \n",
            "2818          True  False   True       False    False      False   \n",
            "2819          True  False   True       False    False      False   \n",
            "2820          True  False   True       False    False      False   \n",
            "2821          True  False   True       False    False      False   \n",
            "2822          True  False  False       False    False       True   \n",
            "\n",
            "      CONTACTLASTNAME  CONTACTFIRSTNAME  DEALSIZE  \n",
            "0               False             False     False  \n",
            "1               False             False     False  \n",
            "2               False             False     False  \n",
            "3               False             False     False  \n",
            "4               False             False     False  \n",
            "...               ...               ...       ...  \n",
            "2818            False             False     False  \n",
            "2819            False             False     False  \n",
            "2820            False             False     False  \n",
            "2821            False             False     False  \n",
            "2822            False             False     False  \n",
            "\n",
            "[2823 rows x 25 columns]\n"
          ]
        }
      ]
    },
    {
      "cell_type": "code",
      "source": [
        "print(df.isnull().sum())"
      ],
      "metadata": {
        "colab": {
          "base_uri": "https://localhost:8080/"
        },
        "id": "iBMDIDt6rpQW",
        "outputId": "cf0f4ec6-3600-480e-a513-c66ecbdd6409"
      },
      "execution_count": null,
      "outputs": [
        {
          "output_type": "stream",
          "name": "stdout",
          "text": [
            "ORDERNUMBER            0\n",
            "QUANTITYORDERED        0\n",
            "PRICEEACH              0\n",
            "ORDERLINENUMBER        0\n",
            "SALES                  0\n",
            "ORDERDATE              0\n",
            "STATUS                 0\n",
            "QTR_ID                 0\n",
            "MONTH_ID               0\n",
            "YEAR_ID                0\n",
            "PRODUCTLINE            0\n",
            "MSRP                   0\n",
            "PRODUCTCODE            0\n",
            "CUSTOMERNAME           0\n",
            "PHONE                  0\n",
            "ADDRESSLINE1           0\n",
            "ADDRESSLINE2        2521\n",
            "CITY                   0\n",
            "STATE               1486\n",
            "POSTALCODE            76\n",
            "COUNTRY                0\n",
            "TERRITORY           1074\n",
            "CONTACTLASTNAME        0\n",
            "CONTACTFIRSTNAME       0\n",
            "DEALSIZE               0\n",
            "dtype: int64\n"
          ]
        }
      ]
    },
    {
      "cell_type": "code",
      "source": [
        "df.fillna(value = 0)"
      ],
      "metadata": {
        "colab": {
          "base_uri": "https://localhost:8080/",
          "height": 211
        },
        "id": "4rfEgObcXiGo",
        "outputId": "0c6d34a1-7739-4171-cf3e-2d29e1849f45"
      },
      "execution_count": null,
      "outputs": [
        {
          "output_type": "error",
          "ename": "NameError",
          "evalue": "name 'df' is not defined",
          "traceback": [
            "\u001b[0;31m---------------------------------------------------------------------------\u001b[0m",
            "\u001b[0;31mNameError\u001b[0m                                 Traceback (most recent call last)",
            "\u001b[0;32m/tmp/ipython-input-1-1959724686.py\u001b[0m in \u001b[0;36m<cell line: 0>\u001b[0;34m()\u001b[0m\n\u001b[0;32m----> 1\u001b[0;31m \u001b[0mdf\u001b[0m\u001b[0;34m.\u001b[0m\u001b[0mfillna\u001b[0m\u001b[0;34m(\u001b[0m\u001b[0mvalue\u001b[0m \u001b[0;34m=\u001b[0m \u001b[0;36m0\u001b[0m\u001b[0;34m)\u001b[0m\u001b[0;34m\u001b[0m\u001b[0;34m\u001b[0m\u001b[0m\n\u001b[0m",
            "\u001b[0;31mNameError\u001b[0m: name 'df' is not defined"
          ]
        }
      ]
    },
    {
      "cell_type": "markdown",
      "source": [
        "**🔃 Sorting Data in Pandas**\n",
        "\n",
        "Function\tDescription\n",
        "\n",
        "df.sort_values(by='column_name'): Sorts the DataFrame by a specific column in ascending order.\n",
        "\n",
        "df.sort_values(by='column_name', ascending=False): Sorts the DataFrame in descending order.\n",
        "\n",
        "df.sort_values(by=['col1', 'col2']): Sorts by multiple columns (e.g., first by col1, then by col2).\n",
        "\n",
        "df.sort_index(): Sorts the DataFrame by the index.\n",
        "\n",
        "df.sort_index(ascending=False): Sorts the index in descending order."
      ],
      "metadata": {
        "id": "9GO7DJ94bb_Q"
      }
    },
    {
      "cell_type": "markdown",
      "source": [
        "df.sort_values(by='column_name', ascending=True, inplace=True)\n"
      ],
      "metadata": {
        "id": "yur8Qopzbs3u"
      }
    },
    {
      "cell_type": "code",
      "source": [
        "print(df.columns)\n",
        "df.sort_values(by='DEALSIZE', ascending=True, inplace=False)"
      ],
      "metadata": {
        "colab": {
          "base_uri": "https://localhost:8080/",
          "height": 756
        },
        "id": "S7PjlBBjbpEy",
        "outputId": "06e7f23c-4785-41e0-b9de-89569b44c51f"
      },
      "execution_count": null,
      "outputs": [
        {
          "output_type": "stream",
          "name": "stdout",
          "text": [
            "Index(['ORDERNUMBER', 'QUANTITYORDERED', 'PRICEEACH', 'ORDERLINENUMBER',\n",
            "       'SALES', 'ORDERDATE', 'STATUS', 'QTR_ID', 'MONTH_ID', 'YEAR_ID',\n",
            "       'PRODUCTLINE', 'MSRP', 'PRODUCTCODE', 'CUSTOMERNAME', 'PHONE',\n",
            "       'ADDRESSLINE1', 'ADDRESSLINE2', 'CITY', 'STATE', 'POSTALCODE',\n",
            "       'COUNTRY', 'TERRITORY', 'CONTACTLASTNAME', 'CONTACTFIRSTNAME',\n",
            "       'DEALSIZE'],\n",
            "      dtype='object')\n"
          ]
        },
        {
          "output_type": "execute_result",
          "data": {
            "text/plain": [
              "      ORDERNUMBER  QUANTITYORDERED  PRICEEACH  ORDERLINENUMBER    SALES  \\\n",
              "319         10142               46      100.0               11  9470.94   \n",
              "252         10251               46      100.0                1  7552.28   \n",
              "1384        10299               49      100.0                2  7947.31   \n",
              "131         10400               64      100.0                9  9661.44   \n",
              "447         10424               54      100.0                5  7182.00   \n",
              "...           ...              ...        ...              ...      ...   \n",
              "538         10241               21      100.0               11  2508.66   \n",
              "1709        10321               30       72.7                1  2181.00   \n",
              "1708        10311               28       93.6                4  2620.80   \n",
              "1527        10284               22      100.0                3  2310.88   \n",
              "0           10107               30       95.7                2  2871.00   \n",
              "\n",
              "            ORDERDATE      STATUS  QTR_ID  MONTH_ID  YEAR_ID  ...  \\\n",
              "319     8/8/2003 0:00     Shipped       3         8     2003  ...   \n",
              "252    5/18/2004 0:00     Shipped       2         5     2004  ...   \n",
              "1384   9/30/2004 0:00     Shipped       3         9     2004  ...   \n",
              "131     4/1/2005 0:00     Shipped       2         4     2005  ...   \n",
              "447    5/31/2005 0:00  In Process       2         5     2005  ...   \n",
              "...               ...         ...     ...       ...      ...  ...   \n",
              "538    4/13/2004 0:00     Shipped       2         4     2004  ...   \n",
              "1709   11/4/2004 0:00     Shipped       4        11     2004  ...   \n",
              "1708  10/16/2004 0:00     Shipped       4        10     2004  ...   \n",
              "1527   8/21/2004 0:00     Shipped       3         8     2004  ...   \n",
              "0      2/24/2003 0:00     Shipped       1         2     2003  ...   \n",
              "\n",
              "                             ADDRESSLINE1  ADDRESSLINE2         CITY STATE  \\\n",
              "319                       5677 Strong St.           NaN   San Rafael    CA   \n",
              "252                         7476 Moss Rd.           NaN       Newark    NJ   \n",
              "1384                        Keskuskatu 45           NaN     Helsinki   NaN   \n",
              "131                        3086 Ingle Ln.           NaN     San Jose    CA   \n",
              "447                    C/ Moralzarzal, 86           NaN       Madrid   NaN   \n",
              "...                                   ...           ...          ...   ...   \n",
              "538                      24, place Kluber           NaN   Strasbourg   NaN   \n",
              "1709                    1785 First Street           NaN  New Bedford    MA   \n",
              "1708                   C/ Moralzarzal, 86           NaN       Madrid   NaN   \n",
              "1527  Drammensveien 126 A, PB 744 Sentrum           NaN         Oslo   NaN   \n",
              "0                 897 Long Airport Avenue           NaN          NYC    NY   \n",
              "\n",
              "     POSTALCODE  COUNTRY TERRITORY CONTACTLASTNAME CONTACTFIRSTNAME DEALSIZE  \n",
              "319       97562      USA       NaN          Nelson          Valarie    Large  \n",
              "252       94019      USA       NaN           Brown          William    Large  \n",
              "1384      21240  Finland      EMEA       Karttunen            Matti    Large  \n",
              "131       94217      USA       NaN           Frick              Sue    Large  \n",
              "447       28034    Spain      EMEA          Freyre            Diego    Large  \n",
              "...         ...      ...       ...             ...              ...      ...  \n",
              "538       67000   France      EMEA         Citeaux       Frederique    Small  \n",
              "1709      50553      USA       NaN         Benitez          Violeta    Small  \n",
              "1708      28034    Spain      EMEA          Freyre            Diego    Small  \n",
              "1527     N 0106   Norway      EMEA         Klaeboe              Jan    Small  \n",
              "0         10022      USA       NaN              Yu             Kwai    Small  \n",
              "\n",
              "[2823 rows x 25 columns]"
            ],
            "text/html": [
              "\n",
              "  <div id=\"df-cf7375b1-b283-4a4e-9674-60a242a7d76b\" class=\"colab-df-container\">\n",
              "    <div>\n",
              "<style scoped>\n",
              "    .dataframe tbody tr th:only-of-type {\n",
              "        vertical-align: middle;\n",
              "    }\n",
              "\n",
              "    .dataframe tbody tr th {\n",
              "        vertical-align: top;\n",
              "    }\n",
              "\n",
              "    .dataframe thead th {\n",
              "        text-align: right;\n",
              "    }\n",
              "</style>\n",
              "<table border=\"1\" class=\"dataframe\">\n",
              "  <thead>\n",
              "    <tr style=\"text-align: right;\">\n",
              "      <th></th>\n",
              "      <th>ORDERNUMBER</th>\n",
              "      <th>QUANTITYORDERED</th>\n",
              "      <th>PRICEEACH</th>\n",
              "      <th>ORDERLINENUMBER</th>\n",
              "      <th>SALES</th>\n",
              "      <th>ORDERDATE</th>\n",
              "      <th>STATUS</th>\n",
              "      <th>QTR_ID</th>\n",
              "      <th>MONTH_ID</th>\n",
              "      <th>YEAR_ID</th>\n",
              "      <th>...</th>\n",
              "      <th>ADDRESSLINE1</th>\n",
              "      <th>ADDRESSLINE2</th>\n",
              "      <th>CITY</th>\n",
              "      <th>STATE</th>\n",
              "      <th>POSTALCODE</th>\n",
              "      <th>COUNTRY</th>\n",
              "      <th>TERRITORY</th>\n",
              "      <th>CONTACTLASTNAME</th>\n",
              "      <th>CONTACTFIRSTNAME</th>\n",
              "      <th>DEALSIZE</th>\n",
              "    </tr>\n",
              "  </thead>\n",
              "  <tbody>\n",
              "    <tr>\n",
              "      <th>319</th>\n",
              "      <td>10142</td>\n",
              "      <td>46</td>\n",
              "      <td>100.0</td>\n",
              "      <td>11</td>\n",
              "      <td>9470.94</td>\n",
              "      <td>8/8/2003 0:00</td>\n",
              "      <td>Shipped</td>\n",
              "      <td>3</td>\n",
              "      <td>8</td>\n",
              "      <td>2003</td>\n",
              "      <td>...</td>\n",
              "      <td>5677 Strong St.</td>\n",
              "      <td>NaN</td>\n",
              "      <td>San Rafael</td>\n",
              "      <td>CA</td>\n",
              "      <td>97562</td>\n",
              "      <td>USA</td>\n",
              "      <td>NaN</td>\n",
              "      <td>Nelson</td>\n",
              "      <td>Valarie</td>\n",
              "      <td>Large</td>\n",
              "    </tr>\n",
              "    <tr>\n",
              "      <th>252</th>\n",
              "      <td>10251</td>\n",
              "      <td>46</td>\n",
              "      <td>100.0</td>\n",
              "      <td>1</td>\n",
              "      <td>7552.28</td>\n",
              "      <td>5/18/2004 0:00</td>\n",
              "      <td>Shipped</td>\n",
              "      <td>2</td>\n",
              "      <td>5</td>\n",
              "      <td>2004</td>\n",
              "      <td>...</td>\n",
              "      <td>7476 Moss Rd.</td>\n",
              "      <td>NaN</td>\n",
              "      <td>Newark</td>\n",
              "      <td>NJ</td>\n",
              "      <td>94019</td>\n",
              "      <td>USA</td>\n",
              "      <td>NaN</td>\n",
              "      <td>Brown</td>\n",
              "      <td>William</td>\n",
              "      <td>Large</td>\n",
              "    </tr>\n",
              "    <tr>\n",
              "      <th>1384</th>\n",
              "      <td>10299</td>\n",
              "      <td>49</td>\n",
              "      <td>100.0</td>\n",
              "      <td>2</td>\n",
              "      <td>7947.31</td>\n",
              "      <td>9/30/2004 0:00</td>\n",
              "      <td>Shipped</td>\n",
              "      <td>3</td>\n",
              "      <td>9</td>\n",
              "      <td>2004</td>\n",
              "      <td>...</td>\n",
              "      <td>Keskuskatu 45</td>\n",
              "      <td>NaN</td>\n",
              "      <td>Helsinki</td>\n",
              "      <td>NaN</td>\n",
              "      <td>21240</td>\n",
              "      <td>Finland</td>\n",
              "      <td>EMEA</td>\n",
              "      <td>Karttunen</td>\n",
              "      <td>Matti</td>\n",
              "      <td>Large</td>\n",
              "    </tr>\n",
              "    <tr>\n",
              "      <th>131</th>\n",
              "      <td>10400</td>\n",
              "      <td>64</td>\n",
              "      <td>100.0</td>\n",
              "      <td>9</td>\n",
              "      <td>9661.44</td>\n",
              "      <td>4/1/2005 0:00</td>\n",
              "      <td>Shipped</td>\n",
              "      <td>2</td>\n",
              "      <td>4</td>\n",
              "      <td>2005</td>\n",
              "      <td>...</td>\n",
              "      <td>3086 Ingle Ln.</td>\n",
              "      <td>NaN</td>\n",
              "      <td>San Jose</td>\n",
              "      <td>CA</td>\n",
              "      <td>94217</td>\n",
              "      <td>USA</td>\n",
              "      <td>NaN</td>\n",
              "      <td>Frick</td>\n",
              "      <td>Sue</td>\n",
              "      <td>Large</td>\n",
              "    </tr>\n",
              "    <tr>\n",
              "      <th>447</th>\n",
              "      <td>10424</td>\n",
              "      <td>54</td>\n",
              "      <td>100.0</td>\n",
              "      <td>5</td>\n",
              "      <td>7182.00</td>\n",
              "      <td>5/31/2005 0:00</td>\n",
              "      <td>In Process</td>\n",
              "      <td>2</td>\n",
              "      <td>5</td>\n",
              "      <td>2005</td>\n",
              "      <td>...</td>\n",
              "      <td>C/ Moralzarzal, 86</td>\n",
              "      <td>NaN</td>\n",
              "      <td>Madrid</td>\n",
              "      <td>NaN</td>\n",
              "      <td>28034</td>\n",
              "      <td>Spain</td>\n",
              "      <td>EMEA</td>\n",
              "      <td>Freyre</td>\n",
              "      <td>Diego</td>\n",
              "      <td>Large</td>\n",
              "    </tr>\n",
              "    <tr>\n",
              "      <th>...</th>\n",
              "      <td>...</td>\n",
              "      <td>...</td>\n",
              "      <td>...</td>\n",
              "      <td>...</td>\n",
              "      <td>...</td>\n",
              "      <td>...</td>\n",
              "      <td>...</td>\n",
              "      <td>...</td>\n",
              "      <td>...</td>\n",
              "      <td>...</td>\n",
              "      <td>...</td>\n",
              "      <td>...</td>\n",
              "      <td>...</td>\n",
              "      <td>...</td>\n",
              "      <td>...</td>\n",
              "      <td>...</td>\n",
              "      <td>...</td>\n",
              "      <td>...</td>\n",
              "      <td>...</td>\n",
              "      <td>...</td>\n",
              "      <td>...</td>\n",
              "    </tr>\n",
              "    <tr>\n",
              "      <th>538</th>\n",
              "      <td>10241</td>\n",
              "      <td>21</td>\n",
              "      <td>100.0</td>\n",
              "      <td>11</td>\n",
              "      <td>2508.66</td>\n",
              "      <td>4/13/2004 0:00</td>\n",
              "      <td>Shipped</td>\n",
              "      <td>2</td>\n",
              "      <td>4</td>\n",
              "      <td>2004</td>\n",
              "      <td>...</td>\n",
              "      <td>24, place Kluber</td>\n",
              "      <td>NaN</td>\n",
              "      <td>Strasbourg</td>\n",
              "      <td>NaN</td>\n",
              "      <td>67000</td>\n",
              "      <td>France</td>\n",
              "      <td>EMEA</td>\n",
              "      <td>Citeaux</td>\n",
              "      <td>Frederique</td>\n",
              "      <td>Small</td>\n",
              "    </tr>\n",
              "    <tr>\n",
              "      <th>1709</th>\n",
              "      <td>10321</td>\n",
              "      <td>30</td>\n",
              "      <td>72.7</td>\n",
              "      <td>1</td>\n",
              "      <td>2181.00</td>\n",
              "      <td>11/4/2004 0:00</td>\n",
              "      <td>Shipped</td>\n",
              "      <td>4</td>\n",
              "      <td>11</td>\n",
              "      <td>2004</td>\n",
              "      <td>...</td>\n",
              "      <td>1785 First Street</td>\n",
              "      <td>NaN</td>\n",
              "      <td>New Bedford</td>\n",
              "      <td>MA</td>\n",
              "      <td>50553</td>\n",
              "      <td>USA</td>\n",
              "      <td>NaN</td>\n",
              "      <td>Benitez</td>\n",
              "      <td>Violeta</td>\n",
              "      <td>Small</td>\n",
              "    </tr>\n",
              "    <tr>\n",
              "      <th>1708</th>\n",
              "      <td>10311</td>\n",
              "      <td>28</td>\n",
              "      <td>93.6</td>\n",
              "      <td>4</td>\n",
              "      <td>2620.80</td>\n",
              "      <td>10/16/2004 0:00</td>\n",
              "      <td>Shipped</td>\n",
              "      <td>4</td>\n",
              "      <td>10</td>\n",
              "      <td>2004</td>\n",
              "      <td>...</td>\n",
              "      <td>C/ Moralzarzal, 86</td>\n",
              "      <td>NaN</td>\n",
              "      <td>Madrid</td>\n",
              "      <td>NaN</td>\n",
              "      <td>28034</td>\n",
              "      <td>Spain</td>\n",
              "      <td>EMEA</td>\n",
              "      <td>Freyre</td>\n",
              "      <td>Diego</td>\n",
              "      <td>Small</td>\n",
              "    </tr>\n",
              "    <tr>\n",
              "      <th>1527</th>\n",
              "      <td>10284</td>\n",
              "      <td>22</td>\n",
              "      <td>100.0</td>\n",
              "      <td>3</td>\n",
              "      <td>2310.88</td>\n",
              "      <td>8/21/2004 0:00</td>\n",
              "      <td>Shipped</td>\n",
              "      <td>3</td>\n",
              "      <td>8</td>\n",
              "      <td>2004</td>\n",
              "      <td>...</td>\n",
              "      <td>Drammensveien 126 A, PB 744 Sentrum</td>\n",
              "      <td>NaN</td>\n",
              "      <td>Oslo</td>\n",
              "      <td>NaN</td>\n",
              "      <td>N 0106</td>\n",
              "      <td>Norway</td>\n",
              "      <td>EMEA</td>\n",
              "      <td>Klaeboe</td>\n",
              "      <td>Jan</td>\n",
              "      <td>Small</td>\n",
              "    </tr>\n",
              "    <tr>\n",
              "      <th>0</th>\n",
              "      <td>10107</td>\n",
              "      <td>30</td>\n",
              "      <td>95.7</td>\n",
              "      <td>2</td>\n",
              "      <td>2871.00</td>\n",
              "      <td>2/24/2003 0:00</td>\n",
              "      <td>Shipped</td>\n",
              "      <td>1</td>\n",
              "      <td>2</td>\n",
              "      <td>2003</td>\n",
              "      <td>...</td>\n",
              "      <td>897 Long Airport Avenue</td>\n",
              "      <td>NaN</td>\n",
              "      <td>NYC</td>\n",
              "      <td>NY</td>\n",
              "      <td>10022</td>\n",
              "      <td>USA</td>\n",
              "      <td>NaN</td>\n",
              "      <td>Yu</td>\n",
              "      <td>Kwai</td>\n",
              "      <td>Small</td>\n",
              "    </tr>\n",
              "  </tbody>\n",
              "</table>\n",
              "<p>2823 rows × 25 columns</p>\n",
              "</div>\n",
              "    <div class=\"colab-df-buttons\">\n",
              "\n",
              "  <div class=\"colab-df-container\">\n",
              "    <button class=\"colab-df-convert\" onclick=\"convertToInteractive('df-cf7375b1-b283-4a4e-9674-60a242a7d76b')\"\n",
              "            title=\"Convert this dataframe to an interactive table.\"\n",
              "            style=\"display:none;\">\n",
              "\n",
              "  <svg xmlns=\"http://www.w3.org/2000/svg\" height=\"24px\" viewBox=\"0 -960 960 960\">\n",
              "    <path d=\"M120-120v-720h720v720H120Zm60-500h600v-160H180v160Zm220 220h160v-160H400v160Zm0 220h160v-160H400v160ZM180-400h160v-160H180v160Zm440 0h160v-160H620v160ZM180-180h160v-160H180v160Zm440 0h160v-160H620v160Z\"/>\n",
              "  </svg>\n",
              "    </button>\n",
              "\n",
              "  <style>\n",
              "    .colab-df-container {\n",
              "      display:flex;\n",
              "      gap: 12px;\n",
              "    }\n",
              "\n",
              "    .colab-df-convert {\n",
              "      background-color: #E8F0FE;\n",
              "      border: none;\n",
              "      border-radius: 50%;\n",
              "      cursor: pointer;\n",
              "      display: none;\n",
              "      fill: #1967D2;\n",
              "      height: 32px;\n",
              "      padding: 0 0 0 0;\n",
              "      width: 32px;\n",
              "    }\n",
              "\n",
              "    .colab-df-convert:hover {\n",
              "      background-color: #E2EBFA;\n",
              "      box-shadow: 0px 1px 2px rgba(60, 64, 67, 0.3), 0px 1px 3px 1px rgba(60, 64, 67, 0.15);\n",
              "      fill: #174EA6;\n",
              "    }\n",
              "\n",
              "    .colab-df-buttons div {\n",
              "      margin-bottom: 4px;\n",
              "    }\n",
              "\n",
              "    [theme=dark] .colab-df-convert {\n",
              "      background-color: #3B4455;\n",
              "      fill: #D2E3FC;\n",
              "    }\n",
              "\n",
              "    [theme=dark] .colab-df-convert:hover {\n",
              "      background-color: #434B5C;\n",
              "      box-shadow: 0px 1px 3px 1px rgba(0, 0, 0, 0.15);\n",
              "      filter: drop-shadow(0px 1px 2px rgba(0, 0, 0, 0.3));\n",
              "      fill: #FFFFFF;\n",
              "    }\n",
              "  </style>\n",
              "\n",
              "    <script>\n",
              "      const buttonEl =\n",
              "        document.querySelector('#df-cf7375b1-b283-4a4e-9674-60a242a7d76b button.colab-df-convert');\n",
              "      buttonEl.style.display =\n",
              "        google.colab.kernel.accessAllowed ? 'block' : 'none';\n",
              "\n",
              "      async function convertToInteractive(key) {\n",
              "        const element = document.querySelector('#df-cf7375b1-b283-4a4e-9674-60a242a7d76b');\n",
              "        const dataTable =\n",
              "          await google.colab.kernel.invokeFunction('convertToInteractive',\n",
              "                                                    [key], {});\n",
              "        if (!dataTable) return;\n",
              "\n",
              "        const docLinkHtml = 'Like what you see? Visit the ' +\n",
              "          '<a target=\"_blank\" href=https://colab.research.google.com/notebooks/data_table.ipynb>data table notebook</a>'\n",
              "          + ' to learn more about interactive tables.';\n",
              "        element.innerHTML = '';\n",
              "        dataTable['output_type'] = 'display_data';\n",
              "        await google.colab.output.renderOutput(dataTable, element);\n",
              "        const docLink = document.createElement('div');\n",
              "        docLink.innerHTML = docLinkHtml;\n",
              "        element.appendChild(docLink);\n",
              "      }\n",
              "    </script>\n",
              "  </div>\n",
              "\n",
              "\n",
              "    <div id=\"df-036d8035-ad12-4600-97f9-d80d51197c74\">\n",
              "      <button class=\"colab-df-quickchart\" onclick=\"quickchart('df-036d8035-ad12-4600-97f9-d80d51197c74')\"\n",
              "                title=\"Suggest charts\"\n",
              "                style=\"display:none;\">\n",
              "\n",
              "<svg xmlns=\"http://www.w3.org/2000/svg\" height=\"24px\"viewBox=\"0 0 24 24\"\n",
              "     width=\"24px\">\n",
              "    <g>\n",
              "        <path d=\"M19 3H5c-1.1 0-2 .9-2 2v14c0 1.1.9 2 2 2h14c1.1 0 2-.9 2-2V5c0-1.1-.9-2-2-2zM9 17H7v-7h2v7zm4 0h-2V7h2v10zm4 0h-2v-4h2v4z\"/>\n",
              "    </g>\n",
              "</svg>\n",
              "      </button>\n",
              "\n",
              "<style>\n",
              "  .colab-df-quickchart {\n",
              "      --bg-color: #E8F0FE;\n",
              "      --fill-color: #1967D2;\n",
              "      --hover-bg-color: #E2EBFA;\n",
              "      --hover-fill-color: #174EA6;\n",
              "      --disabled-fill-color: #AAA;\n",
              "      --disabled-bg-color: #DDD;\n",
              "  }\n",
              "\n",
              "  [theme=dark] .colab-df-quickchart {\n",
              "      --bg-color: #3B4455;\n",
              "      --fill-color: #D2E3FC;\n",
              "      --hover-bg-color: #434B5C;\n",
              "      --hover-fill-color: #FFFFFF;\n",
              "      --disabled-bg-color: #3B4455;\n",
              "      --disabled-fill-color: #666;\n",
              "  }\n",
              "\n",
              "  .colab-df-quickchart {\n",
              "    background-color: var(--bg-color);\n",
              "    border: none;\n",
              "    border-radius: 50%;\n",
              "    cursor: pointer;\n",
              "    display: none;\n",
              "    fill: var(--fill-color);\n",
              "    height: 32px;\n",
              "    padding: 0;\n",
              "    width: 32px;\n",
              "  }\n",
              "\n",
              "  .colab-df-quickchart:hover {\n",
              "    background-color: var(--hover-bg-color);\n",
              "    box-shadow: 0 1px 2px rgba(60, 64, 67, 0.3), 0 1px 3px 1px rgba(60, 64, 67, 0.15);\n",
              "    fill: var(--button-hover-fill-color);\n",
              "  }\n",
              "\n",
              "  .colab-df-quickchart-complete:disabled,\n",
              "  .colab-df-quickchart-complete:disabled:hover {\n",
              "    background-color: var(--disabled-bg-color);\n",
              "    fill: var(--disabled-fill-color);\n",
              "    box-shadow: none;\n",
              "  }\n",
              "\n",
              "  .colab-df-spinner {\n",
              "    border: 2px solid var(--fill-color);\n",
              "    border-color: transparent;\n",
              "    border-bottom-color: var(--fill-color);\n",
              "    animation:\n",
              "      spin 1s steps(1) infinite;\n",
              "  }\n",
              "\n",
              "  @keyframes spin {\n",
              "    0% {\n",
              "      border-color: transparent;\n",
              "      border-bottom-color: var(--fill-color);\n",
              "      border-left-color: var(--fill-color);\n",
              "    }\n",
              "    20% {\n",
              "      border-color: transparent;\n",
              "      border-left-color: var(--fill-color);\n",
              "      border-top-color: var(--fill-color);\n",
              "    }\n",
              "    30% {\n",
              "      border-color: transparent;\n",
              "      border-left-color: var(--fill-color);\n",
              "      border-top-color: var(--fill-color);\n",
              "      border-right-color: var(--fill-color);\n",
              "    }\n",
              "    40% {\n",
              "      border-color: transparent;\n",
              "      border-right-color: var(--fill-color);\n",
              "      border-top-color: var(--fill-color);\n",
              "    }\n",
              "    60% {\n",
              "      border-color: transparent;\n",
              "      border-right-color: var(--fill-color);\n",
              "    }\n",
              "    80% {\n",
              "      border-color: transparent;\n",
              "      border-right-color: var(--fill-color);\n",
              "      border-bottom-color: var(--fill-color);\n",
              "    }\n",
              "    90% {\n",
              "      border-color: transparent;\n",
              "      border-bottom-color: var(--fill-color);\n",
              "    }\n",
              "  }\n",
              "</style>\n",
              "\n",
              "      <script>\n",
              "        async function quickchart(key) {\n",
              "          const quickchartButtonEl =\n",
              "            document.querySelector('#' + key + ' button');\n",
              "          quickchartButtonEl.disabled = true;  // To prevent multiple clicks.\n",
              "          quickchartButtonEl.classList.add('colab-df-spinner');\n",
              "          try {\n",
              "            const charts = await google.colab.kernel.invokeFunction(\n",
              "                'suggestCharts', [key], {});\n",
              "          } catch (error) {\n",
              "            console.error('Error during call to suggestCharts:', error);\n",
              "          }\n",
              "          quickchartButtonEl.classList.remove('colab-df-spinner');\n",
              "          quickchartButtonEl.classList.add('colab-df-quickchart-complete');\n",
              "        }\n",
              "        (() => {\n",
              "          let quickchartButtonEl =\n",
              "            document.querySelector('#df-036d8035-ad12-4600-97f9-d80d51197c74 button');\n",
              "          quickchartButtonEl.style.display =\n",
              "            google.colab.kernel.accessAllowed ? 'block' : 'none';\n",
              "        })();\n",
              "      </script>\n",
              "    </div>\n",
              "\n",
              "    </div>\n",
              "  </div>\n"
            ],
            "application/vnd.google.colaboratory.intrinsic+json": {
              "type": "dataframe"
            }
          },
          "metadata": {},
          "execution_count": 31
        }
      ]
    },
    {
      "cell_type": "markdown",
      "source": [
        "**🔎 Selecting Rows by Filtering & Multiple Conditions**\n",
        "\n",
        "**✅ Basic Filtering**\n",
        "\n",
        "df[df['column'] > 50]\n",
        "\n",
        "➡️ Returns rows where 'column' is greater than 50.\n",
        "\n",
        "**✅ Using Multiple Conditions**\n",
        "\n",
        "df[(df['age'] > 25) & (df['gender'] == 'Male')]\n",
        "\n",
        "➡️ Rows where age > 25 AND gender is 'Male'.\n",
        "\n",
        "df[(df['age'] < 18) | (df['city'] == 'Lahore')]\n",
        "\n",
        "➡️ Rows where age < 18 OR city is 'Lahore'.\n",
        "\n",
        "🧠 Use & for AND, | for OR, and wrap each condition in parentheses ().\n",
        "\n",
        "**✅ Negation**\n",
        "\n",
        "df[~(df['status'] == 'Inactive')]"
      ],
      "metadata": {
        "id": "9QZYT32dcCaX"
      }
    },
    {
      "cell_type": "markdown",
      "source": [
        "syntax\n",
        "\n",
        "column = df[\"column name\"]\n",
        "\n",
        "subset = df[[\"Column1\",\"Column2\",\"....\"]]\n",
        "\n",
        "filtered_rows = df[df[\"column_name\"] > value ]\n",
        "\n",
        "filtered_row = df[(df[\"column1\"] > value1 ) & (df[\"column2\"]==\"value2\")]"
      ],
      "metadata": {
        "id": "FHgGpu8Gwy9d"
      }
    },
    {
      "cell_type": "code",
      "source": [
        "# syntax\n",
        "# column = df[\"column name\"]\n",
        "# subset = df[[\"Column1\",\"Column2\",\"....\"]]\n",
        "# filtered_rows = df[df[\"column_name\"] > 50 ]\n",
        "# filtered_row = df[(df[\"salary\"] > 50000 ) & (df[\"city\"]==\"lahore\")]"
      ],
      "metadata": {
        "id": "JHCmNCC9v47h"
      },
      "execution_count": null,
      "outputs": []
    },
    {
      "cell_type": "code",
      "source": [
        "import pandas as pd\n",
        "data = {\n",
        "    \"Name\":['Kinza','Sara','Jim'],\n",
        "    \"Age\":[24,22,26],\n",
        "    \"City\":['Lahore','Karachi','Islamabad'],\n",
        "    \"Salary\":[50000,60000,70000]\n",
        "}\n",
        "df = pd.DataFrame(data)\n",
        "print(df)\n",
        "print(df[\"Name\"])\n",
        "# or name = df[\"Name\"]\n",
        "# print(name)\n",
        "print(df[\"Salary\"])\n",
        "\n",
        "# selecting multiple columns\n",
        "subset = df[[\"Name\",\"City\"]]\n",
        "print(subset)"
      ],
      "metadata": {
        "colab": {
          "base_uri": "https://localhost:8080/"
        },
        "id": "lGBrHkbPxDq5",
        "outputId": "14067bb6-55d8-432e-97f0-b6c42d0651cf"
      },
      "execution_count": null,
      "outputs": [
        {
          "output_type": "stream",
          "name": "stdout",
          "text": [
            "    Name  Age       City  Salary\n",
            "0  Kinza   24     Lahore   50000\n",
            "1   Sara   22    Karachi   60000\n",
            "2    Jim   26  Islamabad   70000\n",
            "0    Kinza\n",
            "1     Sara\n",
            "2      Jim\n",
            "Name: Name, dtype: object\n",
            "0    50000\n",
            "1    60000\n",
            "2    70000\n",
            "Name: Salary, dtype: int64\n",
            "    Name       City\n",
            "0  Kinza     Lahore\n",
            "1   Sara    Karachi\n",
            "2    Jim  Islamabad\n"
          ]
        }
      ]
    },
    {
      "cell_type": "code",
      "source": [
        "high_salary = df[df[\"Salary\"] > 50000]\n",
        "print(\"People with salary greater than 50k:\\n\",high_salary)\n",
        "\n",
        "mul_cond = df[(df[\"Salary\"] > 50000) & (df[\"Age\"] > 24)]\n",
        "print(\"People with salary greater than 50k and age greater than 24:\\n\",mul_cond)\n",
        "\n",
        "\n",
        "mul_cond = df[(df[\"Salary\"] > 50000) | (df[\"Age\"] > 24)]\n",
        "print(\"People with salary greater than 50k or age greater than 24:\\n\",mul_cond)"
      ],
      "metadata": {
        "id": "DvVnoFDyxE2r",
        "colab": {
          "base_uri": "https://localhost:8080/"
        },
        "outputId": "ba201187-a37f-4e13-fbb9-a4eb53742731"
      },
      "execution_count": null,
      "outputs": [
        {
          "output_type": "stream",
          "name": "stdout",
          "text": [
            "People with salary greater than 50k:\n",
            "    Name  Age       City  Salary\n",
            "1  Sara   22    Karachi   60000\n",
            "2   Jim   26  Islamabad   70000\n",
            "People with salary greater than 50k and age greater than 24:\n",
            "   Name  Age       City  Salary\n",
            "2  Jim   26  Islamabad   70000\n",
            "People with salary greater than 50k or age greater than 24:\n",
            "    Name  Age       City  Salary\n",
            "1  Sara   22    Karachi   60000\n",
            "2   Jim   26  Islamabad   70000\n"
          ]
        }
      ]
    },
    {
      "cell_type": "markdown",
      "source": [
        "**Inserting new Column:**\n",
        "\n",
        "df[\"Column_Name\"] = Some_data   \n",
        "\n",
        "or\n",
        "\n",
        "df.insert(loc, \"Column_Name\", some_data)"
      ],
      "metadata": {
        "id": "FL1YWyyPHue8"
      }
    },
    {
      "cell_type": "code",
      "source": [
        "df[\"Bonus\"] = df[\"Salary\"] * 0.1\n",
        "print(df[\"Bonus\"])\n",
        "print(df)"
      ],
      "metadata": {
        "colab": {
          "base_uri": "https://localhost:8080/"
        },
        "id": "g3djd0b_Hyx4",
        "outputId": "630dd35a-0fcc-4b2d-8f6a-fc015a7ae274"
      },
      "execution_count": null,
      "outputs": [
        {
          "output_type": "stream",
          "name": "stdout",
          "text": [
            "0    5000.0\n",
            "1    6000.0\n",
            "2    7000.0\n",
            "Name: Bonus, dtype: float64\n",
            "    Name  Age       City  Salary   Bonus\n",
            "0  Kinza   24     Lahore   50000  5000.0\n",
            "1   Sara   22    Karachi   60000  6000.0\n",
            "2    Jim   26  Islamabad   70000  7000.0\n"
          ]
        }
      ]
    },
    {
      "cell_type": "code",
      "source": [
        "df.insert(0,\"Employee_ID\",[1,2,3])\n",
        "print(df)"
      ],
      "metadata": {
        "colab": {
          "base_uri": "https://localhost:8080/"
        },
        "id": "-u9eXobKJIoW",
        "outputId": "41aa5e8d-97f2-4833-feca-a42147b69bbd"
      },
      "execution_count": null,
      "outputs": [
        {
          "output_type": "stream",
          "name": "stdout",
          "text": [
            "   Employee_ID  Employee ID   Name  Age       City  Salary   Bonus\n",
            "0            1            1  Kinza   24     Lahore   50000  5000.0\n",
            "1            2            2   Sara   22    Karachi   60000  6000.0\n",
            "2            3            3    Jim   26  Islamabad   70000  7000.0\n"
          ]
        }
      ]
    },
    {
      "cell_type": "markdown",
      "source": [
        "**df.loc[row_index]:** Used to access an index.   \n",
        "**df.loc[row_index,\"Column_Name\"] = new_value**\n",
        "\n",
        "df.loc[2]\n",
        "→ Returns the row with index 2.\n",
        "\n",
        "df.loc[2, \"Age\"] = 30\n",
        "→ Sets the value 30 in the \"Age\" column of the row with index 2.\n",
        "\n",
        "**df.iloc[row_index,column_index]**\n",
        "\n",
        "df.iloc[2,1]\n",
        "→ Returns the value in 3rd row and 2nd column.\n",
        "\n",
        "df.iloc[2,1] = 50\n",
        "→ Updates the value in 3rd row and 2nd column to 50."
      ],
      "metadata": {
        "id": "XVd2S4QcULaj"
      }
    },
    {
      "cell_type": "code",
      "source": [
        "print(df.loc[0])\n",
        "print(df.loc[1])\n",
        "# prints only name of index 2\n",
        "print(df.loc[2,\"Name\"])\n",
        "df.loc[2,\"Name\"] = \"Tom\"\n",
        "print(df.loc[2,\"Name\"])"
      ],
      "metadata": {
        "colab": {
          "base_uri": "https://localhost:8080/"
        },
        "id": "38ytWfBHUDcI",
        "outputId": "74cdc4d9-9bf8-4ff3-e705-464e8e444160"
      },
      "execution_count": null,
      "outputs": [
        {
          "output_type": "stream",
          "name": "stdout",
          "text": [
            "Employee_ID         1\n",
            "Employee ID         1\n",
            "Name            Kinza\n",
            "Age                24\n",
            "City           Lahore\n",
            "Salary          50000\n",
            "Bonus          5000.0\n",
            "Name: 0, dtype: object\n",
            "Employee_ID          2\n",
            "Employee ID          2\n",
            "Name              Sara\n",
            "Age                 22\n",
            "City           Karachi\n",
            "Salary           60000\n",
            "Bonus           6000.0\n",
            "Name: 1, dtype: object\n",
            "Jim\n",
            "Tom\n"
          ]
        }
      ]
    },
    {
      "cell_type": "code",
      "source": [
        "print(df.iloc[2,1])\n",
        "print(df.iloc[0,4])"
      ],
      "metadata": {
        "colab": {
          "base_uri": "https://localhost:8080/"
        },
        "id": "HFvxKh7Zb7SU",
        "outputId": "537d9ccf-e727-4ae9-de90-e8eb011439e7"
      },
      "execution_count": null,
      "outputs": [
        {
          "output_type": "stream",
          "name": "stdout",
          "text": [
            "3\n",
            "Lahore\n"
          ]
        }
      ]
    },
    {
      "cell_type": "markdown",
      "source": [
        "**Updating value of a column:**\n",
        "\n",
        "df[\"Salary] = df[\"Salary\"] *1.05 --> Increasing salary by 5%."
      ],
      "metadata": {
        "id": "WRxkwp4JZzkF"
      }
    },
    {
      "cell_type": "code",
      "source": [
        "df[\"Salary\"] = df[\"Salary\"] * 1.05\n",
        "print(df)"
      ],
      "metadata": {
        "colab": {
          "base_uri": "https://localhost:8080/"
        },
        "id": "p-rZUQwdaFfi",
        "outputId": "00fc3359-1540-4d1c-d2eb-30772a727024"
      },
      "execution_count": null,
      "outputs": [
        {
          "output_type": "stream",
          "name": "stdout",
          "text": [
            "   Employee_ID  Employee ID   Name  Age       City   Salary   Bonus\n",
            "0            1            1  Kinza   24     Lahore  52500.0  5000.0\n",
            "1            2            2   Sara   22    Karachi  63000.0  6000.0\n",
            "2            3            3    Tom   26  Islamabad  73500.0  7000.0\n"
          ]
        }
      ]
    },
    {
      "cell_type": "markdown",
      "source": [
        "df = pd.DataFrame(data, index=['a', 'b', 'c'])\n",
        "\n",
        "➤ Correct way to assign custom row labels.\n",
        "\n",
        "df.loc['a']\n",
        "\n",
        "➤ Accesses the row where the index is 'a'."
      ],
      "metadata": {
        "id": "2kd4oIkpdRLv"
      }
    },
    {
      "cell_type": "code",
      "source": [
        "data = {\n",
        "    \"Name\":['Kinza','Sara','Jim'],\n",
        "    \"Age\":[24,22,26],\n",
        "    \"City\":['Lahore','Karachi','Islamabad'],\n",
        "    \"Salary\":[50000,60000,70000]\n",
        "}\n",
        "df = pd.DataFrame(data,index = ['a','b','c'])\n",
        "print(df)\n",
        "\n",
        "print(df.loc['a'])"
      ],
      "metadata": {
        "colab": {
          "base_uri": "https://localhost:8080/"
        },
        "id": "JyPtpuQXczkq",
        "outputId": "c22b6674-4aa6-444e-f51d-7224a58cd7fb"
      },
      "execution_count": null,
      "outputs": [
        {
          "output_type": "stream",
          "name": "stdout",
          "text": [
            "    Name  Age       City  Salary\n",
            "a  Kinza   24     Lahore   50000\n",
            "b   Sara   22    Karachi   60000\n",
            "c    Jim   26  Islamabad   70000\n",
            "Name       Kinza\n",
            "Age           24\n",
            "City      Lahore\n",
            "Salary     50000\n",
            "Name: a, dtype: object\n"
          ]
        }
      ]
    },
    {
      "cell_type": "markdown",
      "source": [
        "**Deleting column:**\n",
        "\n",
        "df = df.drop('Column_Name', axis=1)"
      ],
      "metadata": {
        "id": "FcIp7gt2d34D"
      }
    },
    {
      "cell_type": "code",
      "source": [
        "data = {\n",
        "    \"Name\":['Kinza','Sara','Jim'],\n",
        "    \"Age\":[24,22,26],\n",
        "    \"City\":['Lahore','Karachi','Islamabad'],\n",
        "    \"Salary\":[50000,60000,70000]\n",
        "}\n",
        "df = pd.DataFrame(data)\n",
        "print(df)\n",
        "df = df.drop(\"Age\",axis=1)\n",
        "print(df)"
      ],
      "metadata": {
        "colab": {
          "base_uri": "https://localhost:8080/"
        },
        "id": "g8SDZa9kd75I",
        "outputId": "5ef7da9a-3a80-4626-cb6a-c21d0d6dce30"
      },
      "execution_count": null,
      "outputs": [
        {
          "output_type": "stream",
          "name": "stdout",
          "text": [
            "    Name  Age       City  Salary\n",
            "0  Kinza   24     Lahore   50000\n",
            "1   Sara   22    Karachi   60000\n",
            "2    Jim   26  Islamabad   70000\n",
            "    Name       City  Salary\n",
            "0  Kinza     Lahore   50000\n",
            "1   Sara    Karachi   60000\n",
            "2    Jim  Islamabad   70000\n"
          ]
        }
      ]
    },
    {
      "cell_type": "markdown",
      "source": [
        "**Missing Values:**\n",
        "\n",
        "NaN stands for Not a Number.\n",
        "\n",
        "It is used in Pandas and NumPy to represent missing or undefined values in a dataset.\n",
        "\n",
        "\n",
        "**🔹 What does df.isnull() return?**\n",
        "\n",
        "It returns a DataFrame of booleans:\n",
        "\n",
        "True where the value is NaN (missing),\n",
        "\n",
        "False where the value is present.\n",
        "\n",
        "\n",
        "**🔹 What does df.isnull().sum() do?**\n",
        "\n",
        "It gives the count of missing values per column.\n",
        "\n",
        "Useful for checking how many values are missing.\n",
        "\n",
        "**🔹 What is Forward Fill (ffill)?**\n",
        "\n",
        "Fills NaN values with the previous (above) non-null value.\n",
        "\n",
        "**🔹 What is Backward Fill (bfill)?**\n",
        "\n",
        "Fills NaN values with the next (below) non-null value.\n",
        "\n",
        "df.isnull() - > Returns True where value is NaN\n",
        "\n",
        "df.isnull().sum() ->Total missing values per column\n",
        "\n",
        "df.dropna() -> Drops rows with missing values\n",
        "\n",
        "df.fillna(value) -> Fills NaN with a value\n",
        "\n",
        "df.fillna(method='ffill') -> Forward fill\n",
        "\n",
        "df.fillna(method='bfill') -> Backward fill"
      ],
      "metadata": {
        "id": "J0Cwixv3fI5t"
      }
    },
    {
      "cell_type": "code",
      "source": [
        "import numpy as np\n",
        "import pandas as pd\n",
        "data = {\n",
        "    \"Age\": [25,np.nan,30]\n",
        "}\n",
        "df = pd.DataFrame(data)\n",
        "print(df)\n",
        "\n",
        "print(df.fillna(method = \"ffill\"))\n",
        "print(df.fillna(method = \"bfill\"))\n",
        "\n",
        "print(df.dropna())\n",
        "\n",
        "data = {\n",
        "    \"Age\": [25,np.nan,30]\n",
        "}\n",
        "df = pd.DataFrame(data)\n",
        "print(df)\n",
        "print(df.fillna(value=np.mean(df[\"Age\"])))\n",
        "# or\n",
        "print(df.fillna(df['Age'].mean()))"
      ],
      "metadata": {
        "colab": {
          "base_uri": "https://localhost:8080/"
        },
        "id": "VkvITNP9fNUV",
        "outputId": "79d25d31-b849-450e-b719-2a0d95b8f229"
      },
      "execution_count": null,
      "outputs": [
        {
          "output_type": "stream",
          "name": "stdout",
          "text": [
            "    Age\n",
            "0  25.0\n",
            "1   NaN\n",
            "2  30.0\n",
            "    Age\n",
            "0  25.0\n",
            "1  25.0\n",
            "2  30.0\n",
            "    Age\n",
            "0  25.0\n",
            "1  30.0\n",
            "2  30.0\n",
            "    Age\n",
            "0  25.0\n",
            "2  30.0\n",
            "    Age\n",
            "0  25.0\n",
            "1   NaN\n",
            "2  30.0\n",
            "    Age\n",
            "0  25.0\n",
            "1  27.5\n",
            "2  30.0\n",
            "    Age\n",
            "0  25.0\n",
            "1  27.5\n",
            "2  30.0\n"
          ]
        },
        {
          "output_type": "stream",
          "name": "stderr",
          "text": [
            "/tmp/ipython-input-47-624726775.py:9: FutureWarning: DataFrame.fillna with 'method' is deprecated and will raise in a future version. Use obj.ffill() or obj.bfill() instead.\n",
            "  print(df.fillna(method = \"ffill\"))\n",
            "/tmp/ipython-input-47-624726775.py:10: FutureWarning: DataFrame.fillna with 'method' is deprecated and will raise in a future version. Use obj.ffill() or obj.bfill() instead.\n",
            "  print(df.fillna(method = \"bfill\"))\n"
          ]
        }
      ]
    },
    {
      "cell_type": "markdown",
      "source": [
        "**🔹 What is Interpolation?**\n",
        "\n",
        "Interpolation is a technique used to fill missing values (NaN) by estimating them based on other values in the data. Instead of using fixed values like forward fill or mean, interpolation uses trends or patterns in the data to estimate the missing ones.\n",
        "\n",
        "**df.interpolate(method='linear')**\n",
        "\n",
        "Default method is 'linear', which means the missing value is calculated assuming a straight line between the known values.\n",
        "\n",
        "Only works on numerical columns.\n",
        "\n",
        "**🔹 Linear Interpolation – How it works:**\n",
        "\n",
        "If a value is missing between two known points, it estimates the value by drawing a straight line between those two points and picking the value at the missing point.\n",
        "\n"
      ],
      "metadata": {
        "id": "A9FJffcHi-zT"
      }
    },
    {
      "cell_type": "code",
      "source": [
        "import numpy as np\n",
        "import pandas as pd\n",
        "\n",
        "data = {\n",
        "    \"Age\": [25, np.nan, np.nan, 40]\n",
        "}\n",
        "df = pd.DataFrame(data)\n",
        "print(\"Original DataFrame:\")\n",
        "print(df)\n",
        "\n",
        "# Interpolate missing values\n",
        "print(\"\\nAfter Linear Interpolation:\")\n",
        "print(df.interpolate(method='linear'))"
      ],
      "metadata": {
        "colab": {
          "base_uri": "https://localhost:8080/"
        },
        "id": "dUpFVjkIhK5r",
        "outputId": "22d0707a-de2d-4c53-f99f-48a0a604652c"
      },
      "execution_count": null,
      "outputs": [
        {
          "output_type": "stream",
          "name": "stdout",
          "text": [
            "Original DataFrame:\n",
            "    Age\n",
            "0  25.0\n",
            "1   NaN\n",
            "2   NaN\n",
            "3  40.0\n",
            "\n",
            "After Linear Interpolation:\n",
            "    Age\n",
            "0  25.0\n",
            "1  30.0\n",
            "2  35.0\n",
            "3  40.0\n"
          ]
        }
      ]
    },
    {
      "cell_type": "markdown",
      "source": [
        "**⚖️ Comparison Summary:**\n",
        "\n",
        "Method  Best for & Shape of Fit\n",
        "\n",
        "**linear:** Simple trends, steady change\n",
        "\n",
        "Straight lines\n",
        "\n",
        "**polynomial:** Curved trends, accelerating changes\n",
        "\n",
        "Curved (degree N)\n",
        "\n",
        "**time:** Date-time indexed irregular data  \n",
        "\n",
        "Linear, time-aware\n",
        "\n",
        "**Syntax:**\n",
        "\n",
        "**df['Value'] = df['Value'].interpolate(method='linear')**\n",
        "\n",
        "**df['Value'] = df['Value'].interpolate(method='polynomial', order=2)**\n",
        "\n",
        "df['Time'] = pd.date_range(\"2023-01-01\", periods=5, freq='D')\n",
        "\n",
        "df.set_index('Time', inplace=True)\n",
        "\n",
        "Introduce NaN manually (for clarity)\n",
        "\n",
        "df.loc[df.index[3], 'Value'] = np.nan\n",
        "\n",
        "Apply time-based interpolation\n",
        "\n",
        "**df['Value'] = df['Value'].interpolate(method='time')**"
      ],
      "metadata": {
        "id": "EYZ65ogZiaWI"
      }
    },
    {
      "cell_type": "code",
      "source": [
        "import pandas as pd\n",
        "import numpy as np\n",
        "data = {\n",
        "    \"Time\": [1,2,3,4,5],\n",
        "     \"Value\": [1.8,2.2,3,np.nan,5]\n",
        "}\n",
        "df = pd.DataFrame(data)\n",
        "print(df)\n",
        "df['Value'] = df['Value'].interpolate(method= \"linear\")\n",
        "print(df)"
      ],
      "metadata": {
        "colab": {
          "base_uri": "https://localhost:8080/"
        },
        "id": "7LM4VMzLg71e",
        "outputId": "98beb680-5d24-4192-fea6-182dc65acf0d"
      },
      "execution_count": null,
      "outputs": [
        {
          "output_type": "stream",
          "name": "stdout",
          "text": [
            "   Time  Value\n",
            "0     1    1.8\n",
            "1     2    2.2\n",
            "2     3    3.0\n",
            "3     4    NaN\n",
            "4     5    5.0\n",
            "   Time  Value\n",
            "0     1    1.8\n",
            "1     2    2.2\n",
            "2     3    3.0\n",
            "3     4    4.0\n",
            "4     5    5.0\n"
          ]
        }
      ]
    },
    {
      "cell_type": "markdown",
      "source": [
        "**Sorting and Aggregation:**\n",
        "\n",
        "df.sort_values(by='column_name',ascending= True/False, in place= True)\n",
        "\n",
        "df.sort_values(by= ['Column1','Column2'],ascending=[True/False,True/False],inplace= True)"
      ],
      "metadata": {
        "id": "QGBNpIOLjiLJ"
      }
    },
    {
      "cell_type": "code",
      "source": [
        "data = {\n",
        "    \"Name\": [\"Ali\", \"Sara\", \"John\", \"Fatima\", \"David\", \"Ayesha\"],\n",
        "    \"Age\": [25, 22, 28, 21, 30, 24],\n",
        "    \"City\": [\"Lahore\", \"Karachi\", \"Islamabad\", \"Lahore\", \"Karachi\", \"Multan\"],\n",
        "    \"Gender\": [\"Male\", \"Female\", \"Male\", \"Female\", \"Male\", \"Female\"],\n",
        "    \"Marks\": [12,14,15,10,9,20]\n",
        "}\n",
        "df= pd.DataFrame(data)\n",
        "print(df)\n",
        "#in ascending order\n",
        "print(df.sort_values(by=\"Age\",ascending=True,inplace=False))\n",
        "# in descending order\n",
        "print(df.sort_values(by=\"Age\",ascending=False,inplace=False))\n",
        "\n",
        "df.sort_values(by= ['Age','Marks'],ascending=[True,True],inplace=True)\n",
        "print(df)"
      ],
      "metadata": {
        "id": "bX41uHqazyz_",
        "colab": {
          "base_uri": "https://localhost:8080/"
        },
        "outputId": "cb1423cf-f12c-451c-b04c-564e3bcbc411"
      },
      "execution_count": null,
      "outputs": [
        {
          "output_type": "stream",
          "name": "stdout",
          "text": [
            "     Name  Age       City  Gender  Marks\n",
            "0     Ali   25     Lahore    Male     12\n",
            "1    Sara   22    Karachi  Female     14\n",
            "2    John   28  Islamabad    Male     15\n",
            "3  Fatima   21     Lahore  Female     10\n",
            "4   David   30    Karachi    Male      9\n",
            "5  Ayesha   24     Multan  Female     20\n",
            "     Name  Age       City  Gender  Marks\n",
            "3  Fatima   21     Lahore  Female     10\n",
            "1    Sara   22    Karachi  Female     14\n",
            "5  Ayesha   24     Multan  Female     20\n",
            "0     Ali   25     Lahore    Male     12\n",
            "2    John   28  Islamabad    Male     15\n",
            "4   David   30    Karachi    Male      9\n",
            "     Name  Age       City  Gender  Marks\n",
            "4   David   30    Karachi    Male      9\n",
            "2    John   28  Islamabad    Male     15\n",
            "0     Ali   25     Lahore    Male     12\n",
            "5  Ayesha   24     Multan  Female     20\n",
            "1    Sara   22    Karachi  Female     14\n",
            "3  Fatima   21     Lahore  Female     10\n",
            "     Name  Age       City  Gender  Marks\n",
            "3  Fatima   21     Lahore  Female     10\n",
            "1    Sara   22    Karachi  Female     14\n",
            "5  Ayesha   24     Multan  Female     20\n",
            "0     Ali   25     Lahore    Male     12\n",
            "2    John   28  Islamabad    Male     15\n",
            "4   David   30    Karachi    Male      9\n"
          ]
        }
      ]
    },
    {
      "cell_type": "markdown",
      "source": [
        "**Summary Statistics of a column:**\n",
        "\n",
        "df[\"Column_Name\"].mean()\n",
        "\n",
        "df[\"Column_Name\"].sum()\n",
        "\n",
        "df[\"Column_Name\"].min()\n",
        "\n",
        "df[\"Column_Name\"].max()"
      ],
      "metadata": {
        "id": "gK3TJyJnngmC"
      }
    },
    {
      "cell_type": "code",
      "source": [
        "data = {\n",
        "    \"Name\": [\"Ali\", \"Sara\", \"John\", \"Fatima\", \"David\", \"Ayesha\"],\n",
        "    \"Age\": [25, 22, 28, 21, 30, 24],\n",
        "    \"City\": [\"Lahore\", \"Karachi\", \"Islamabad\", \"Lahore\", \"Karachi\", \"Multan\"],\n",
        "    \"Gender\": [\"Male\", \"Female\", \"Male\", \"Female\", \"Male\", \"Female\"],\n",
        "    \"Marks\": [12,14,15,10,9,20]\n",
        "}\n",
        "df= pd.DataFrame(data)\n",
        "print(df)\n",
        "\n",
        "avg_marks = df[\"Marks\"].mean()\n",
        "print(avg_marks)\n",
        "\n",
        "Sum = df[\"Marks\"].sum()\n",
        "print(Sum)\n",
        "\n",
        "Min = df[\"Marks\"].min()\n",
        "print(Min)\n",
        "\n",
        "Max = df[\"Marks\"].max()\n",
        "print(Max)"
      ],
      "metadata": {
        "colab": {
          "base_uri": "https://localhost:8080/"
        },
        "id": "SI83jXgAnB1o",
        "outputId": "df1163b9-0f71-407a-f11d-e2fc42eac143"
      },
      "execution_count": null,
      "outputs": [
        {
          "output_type": "stream",
          "name": "stdout",
          "text": [
            "     Name  Age       City  Gender  Marks\n",
            "0     Ali   25     Lahore    Male     12\n",
            "1    Sara   22    Karachi  Female     14\n",
            "2    John   28  Islamabad    Male     15\n",
            "3  Fatima   21     Lahore  Female     10\n",
            "4   David   30    Karachi    Male      9\n",
            "5  Ayesha   24     Multan  Female     20\n",
            "13.333333333333334\n",
            "80\n",
            "9\n",
            "20\n"
          ]
        }
      ]
    },
    {
      "cell_type": "markdown",
      "source": [
        "**Group-by:**\n",
        "\n",
        "df.groupby('column_to_group_by')['column_to_aggregate'].aggregation_function()\n",
        "\n",
        "**Some common Aggregation Functions:**\n",
        "\n",
        "sum()\n",
        "\n",
        "mean()\n",
        "\n",
        "count()\n",
        "\n",
        "min()\n",
        "\n",
        "max()\n",
        "\n",
        "std()"
      ],
      "metadata": {
        "id": "m8UCCZZ9n1EU"
      }
    },
    {
      "cell_type": "code",
      "source": [
        "import pandas as pd\n",
        "\n",
        "data = {\n",
        "    \"Name\": [\"Ali\", \"Sara\", \"John\", \"Fatima\", \"David\", \"Ayesha\"],\n",
        "    \"Age\": [25, 22, 28, 21, 22, 24],\n",
        "    \"City\": [\"Lahore\", \"Karachi\", \"Islamabad\", \"Lahore\", \"Karachi\", \"Multan\"],\n",
        "    \"Gender\": [\"Male\", \"Female\", \"Male\", \"Female\", \"Male\", \"Female\"],\n",
        "    \"Salary\": [50000,60000,70000,40000,35000,60000]\n",
        "}\n",
        "\n",
        "df = pd.DataFrame(data)\n",
        "\n",
        "grouped_bygender= df.groupby(\"Gender\")[\"Salary\"].sum()\n",
        "print(grouped_bygender)\n",
        "\n",
        "grouped_byage= df.groupby(\"Age\")[\"Salary\"].sum()\n",
        "print(grouped_byage)\n",
        "\n",
        "grouped_byagename= df.groupby([\"Age\",\"Name\"])[\"Salary\"].sum()\n",
        "print(grouped_byagename)\n",
        "\n",
        "grouped_byagg = df.groupby(\"Age\").agg(\n",
        "    {\n",
        "        \"Salary\": [\"sum\",\"mean\"],\n",
        "        \"Name\": \"count\"\n",
        "    })\n",
        "print(grouped_byagg)"
      ],
      "metadata": {
        "colab": {
          "base_uri": "https://localhost:8080/"
        },
        "id": "jxvn6N9XpvWC",
        "outputId": "7fd69aba-5dbe-4191-f7b7-6a4d86994a99"
      },
      "execution_count": null,
      "outputs": [
        {
          "output_type": "stream",
          "name": "stdout",
          "text": [
            "Gender\n",
            "Female    160000\n",
            "Male      155000\n",
            "Name: Salary, dtype: int64\n",
            "Age\n",
            "21    40000\n",
            "22    95000\n",
            "24    60000\n",
            "25    50000\n",
            "28    70000\n",
            "Name: Salary, dtype: int64\n",
            "Age  Name  \n",
            "21   Fatima    40000\n",
            "22   David     35000\n",
            "     Sara      60000\n",
            "24   Ayesha    60000\n",
            "25   Ali       50000\n",
            "28   John      70000\n",
            "Name: Salary, dtype: int64\n",
            "    Salary           Name\n",
            "       sum     mean count\n",
            "Age                      \n",
            "21   40000  40000.0     1\n",
            "22   95000  47500.0     2\n",
            "24   60000  60000.0     1\n",
            "25   50000  50000.0     1\n",
            "28   70000  70000.0     1\n"
          ]
        }
      ]
    },
    {
      "cell_type": "markdown",
      "source": [
        "**Merging and Joining:**\n",
        "\n",
        "pd.merge(df1, df2, on='id', how='inner')  # only matched rows\n",
        "\n",
        "pd.merge(df1, df2, on='id', how='left')   # all df1 + matched df2\n",
        "\n",
        "pd.merge(df1, df2, on='id', how='right')  # all df2 + matched df1\n",
        "\n",
        "pd.merge(df1, df2, on='id', how='outer')  # all rows, fill unmatched with NaN"
      ],
      "metadata": {
        "id": "LnlH7-0grldj"
      }
    },
    {
      "cell_type": "markdown",
      "source": [
        "| Join Type | Keeps All From     | Matches From       | Fills Missing With |\n",
        "| --------- | ------------------ | ------------------ | ------------------ |\n",
        "| `inner`   | Only matches       | Both               | —                  |\n",
        "| `outer`   | Both               | Both               | `NaN`              |\n",
        "| `left`    | Left (`customers`) | Right (`orders`)   | `NaN`              |\n",
        "| `right`   | Right (`orders`)   | Left (`customers`) | `NaN`              |"
      ],
      "metadata": {
        "id": "VRi5fTIX00Fq"
      }
    },
    {
      "cell_type": "markdown",
      "source": [
        "\n",
        "**🔷 What is a Cross Join?**\n",
        "\n",
        "A cross join (also known as a Cartesian product) is a type of join that returns all possible combinations of rows from two tables (or DataFrames).\n",
        "\n",
        "If one table has M rows and the other has N rows, the result will have M × N rows.\n",
        "\n",
        "It does not require any common column or matching condition between the tables."
      ],
      "metadata": {
        "id": "ycIHhg7k2LEm"
      }
    },
    {
      "cell_type": "code",
      "source": [
        "import pandas as pd\n",
        "df_customers = pd.DataFrame({\n",
        "           \"Customer_ID\": [1,2,3],\n",
        "           \"Name\": [\"Kinza\",\"Joe\",\"Jim\"]\n",
        "      })\n",
        "print(df_customers)\n",
        "\n",
        "df_orders = pd.DataFrame({\n",
        "           \"Customer_ID\": [1,2,4],\n",
        "           \"Order Amount\": [150,280,350]\n",
        "      })\n",
        "print(df_orders)\n",
        "\n",
        "df_merged = pd.merge(df_customers,df_orders, on = \"Customer_ID\",how = \"inner\")\n",
        "print(\"Inner join:\")\n",
        "print(df_merged)\n",
        "\n",
        "df_merged = pd.merge(df_customers,df_orders, on = \"Customer_ID\",how = \"outer\")\n",
        "print(\"Outer join:\")\n",
        "print(df_merged)\n",
        "\n",
        "df_merged = pd.merge(df_customers,df_orders, on = \"Customer_ID\",how = \"left\")\n",
        "print(\"Left join:\")\n",
        "print(df_merged)\n",
        "\n",
        "df_merged = pd.merge(df_customers,df_orders, on = \"Customer_ID\",how = \"right\")\n",
        "print(\"Right join:\")\n",
        "print(df_merged)\n",
        "\n",
        "df_merged = df_customers.merge(df_orders,how = \"cross\")\n",
        "print(\"Cross join:\")\n",
        "print(df_merged)"
      ],
      "metadata": {
        "colab": {
          "base_uri": "https://localhost:8080/"
        },
        "id": "fTKUQET_w6TZ",
        "outputId": "475f028c-a231-43f0-d5cf-1e74050c1d6d"
      },
      "execution_count": null,
      "outputs": [
        {
          "output_type": "stream",
          "name": "stdout",
          "text": [
            "   Customer_ID   Name\n",
            "0            1  Kinza\n",
            "1            2    Joe\n",
            "2            3    Jim\n",
            "   Customer_ID  Order Amount\n",
            "0            1           150\n",
            "1            2           280\n",
            "2            4           350\n",
            "Inner join:\n",
            "   Customer_ID   Name  Order Amount\n",
            "0            1  Kinza           150\n",
            "1            2    Joe           280\n",
            "Outer join:\n",
            "   Customer_ID   Name  Order Amount\n",
            "0            1  Kinza         150.0\n",
            "1            2    Joe         280.0\n",
            "2            3    Jim           NaN\n",
            "3            4    NaN         350.0\n",
            "Left join:\n",
            "   Customer_ID   Name  Order Amount\n",
            "0            1  Kinza         150.0\n",
            "1            2    Joe         280.0\n",
            "2            3    Jim           NaN\n",
            "Right join:\n",
            "   Customer_ID   Name  Order Amount\n",
            "0            1  Kinza           150\n",
            "1            2    Joe           280\n",
            "2            4    NaN           350\n",
            "Cross join:\n",
            "   Customer_ID_x   Name  Customer_ID_y  Order Amount\n",
            "0              1  Kinza              1           150\n",
            "1              1  Kinza              2           280\n",
            "2              1  Kinza              4           350\n",
            "3              2    Joe              1           150\n",
            "4              2    Joe              2           280\n",
            "5              2    Joe              4           350\n",
            "6              3    Jim              1           150\n",
            "7              3    Jim              2           280\n",
            "8              3    Jim              4           350\n"
          ]
        }
      ]
    },
    {
      "cell_type": "markdown",
      "source": [
        "**Concatenate:**\n",
        "\n",
        "**🔷 What is pd.concat()?**\n",
        "\n",
        "The pd.concat() function in pandas is used to combine multiple DataFrames either:\n",
        "\n",
        "Vertically (one on top of the other): axis=0\n",
        "\n",
        "Horizontally (side by side): axis=1\n",
        "\n",
        "**pd.concat([df1, df2], axis=0 or 1)**"
      ],
      "metadata": {
        "id": "TkDp1AJpAOMQ"
      }
    },
    {
      "cell_type": "code",
      "source": [
        "import pandas as pd\n",
        "\n",
        "df1 = pd.DataFrame({\n",
        "'A': [1, 2]\n",
        "})\n",
        "\n",
        "df2 = pd.DataFrame({\n",
        "'A': [3, 4]\n",
        "})\n",
        "\n",
        "# vertically\n",
        "result = pd.concat([df1, df2], axis=0)\n",
        "print(result)\n",
        "\n",
        "# horizontally\n",
        "result = pd.concat([df1, df2], axis=1)\n",
        "print(result)"
      ],
      "metadata": {
        "colab": {
          "base_uri": "https://localhost:8080/"
        },
        "id": "QiWKxkiqAtwi",
        "outputId": "ba2e56e9-6d3b-4358-aacf-0ff5b3d8d7ce"
      },
      "execution_count": null,
      "outputs": [
        {
          "output_type": "stream",
          "name": "stdout",
          "text": [
            "   A\n",
            "0  1\n",
            "1  2\n",
            "0  3\n",
            "1  4\n",
            "   A  A\n",
            "0  1  3\n",
            "1  2  4\n"
          ]
        }
      ]
    },
    {
      "cell_type": "markdown",
      "source": [
        "**🔷 df.drop_duplicates()**\n",
        "\n",
        "This function removes duplicate rows from a DataFrame."
      ],
      "metadata": {
        "id": "iNtjiVulCHrY"
      }
    },
    {
      "cell_type": "markdown",
      "source": [
        "| Parameter      | Description                             |\n",
        "| -------------- | --------------------------------------- |\n",
        "| `subset`       | Specify columns to check for duplicates |\n",
        "| `keep='first'` | Keep the **first** occurrence (default) |\n",
        "| `keep='last'`  | Keep the **last** occurrence            |\n",
        "| `keep=False`   | Drop **all** duplicates                 |\n",
        "| `inplace=True` | Modify the original DataFrame           |"
      ],
      "metadata": {
        "id": "uBDVS-V-CS1s"
      }
    },
    {
      "cell_type": "code",
      "source": [
        "import pandas as pd\n",
        "\n",
        "df = pd.DataFrame({\n",
        "    'Name': ['Ali', 'Kinza', 'Ali', 'Sara'],\n",
        "    'Age': [25, 22, 25, 30]\n",
        "})\n",
        "\n",
        "print(\"Original:\")\n",
        "print(df)\n",
        "\n",
        "# Remove duplicates\n",
        "df_unique = df.drop_duplicates()\n",
        "print(\"\\nAfter Removing Duplicates:\")\n",
        "print(df_unique)"
      ],
      "metadata": {
        "colab": {
          "base_uri": "https://localhost:8080/"
        },
        "id": "4pbdlo-8CLD7",
        "outputId": "71b816ea-732f-4729-bdb2-ba223682fbde"
      },
      "execution_count": null,
      "outputs": [
        {
          "output_type": "stream",
          "name": "stdout",
          "text": [
            "Original:\n",
            "    Name  Age\n",
            "0    Ali   25\n",
            "1  Kinza   22\n",
            "2    Ali   25\n",
            "3   Sara   30\n",
            "\n",
            "After Removing Duplicates:\n",
            "    Name  Age\n",
            "0    Ali   25\n",
            "1  Kinza   22\n",
            "3   Sara   30\n"
          ]
        }
      ]
    },
    {
      "cell_type": "code",
      "source": [
        "import pandas as pd\n",
        "\n",
        "df = pd.DataFrame({\n",
        "    'Name': ['Ali', 'Kinza', 'Ali', 'Sara'],\n",
        "    'Age': [25, 22, 27, 30]\n",
        "})\n",
        "\n",
        "print(\"Original:\")\n",
        "print(df)\n",
        "\n",
        "df_unique= df.drop_duplicates(subset=['Name'], keep='first')\n",
        "print(df_unique)"
      ],
      "metadata": {
        "colab": {
          "base_uri": "https://localhost:8080/"
        },
        "id": "MzMETG16CmbG",
        "outputId": "984f7dbf-601c-426a-c977-415ca7719939"
      },
      "execution_count": null,
      "outputs": [
        {
          "output_type": "stream",
          "name": "stdout",
          "text": [
            "Original:\n",
            "    Name  Age\n",
            "0    Ali   25\n",
            "1  Kinza   22\n",
            "2    Ali   27\n",
            "3   Sara   30\n",
            "    Name  Age\n",
            "0    Ali   25\n",
            "1  Kinza   22\n",
            "3   Sara   30\n"
          ]
        }
      ]
    },
    {
      "cell_type": "code",
      "source": [
        "import pandas as pd\n",
        "\n",
        "df = pd.DataFrame({\n",
        "    'Name': ['Ali', 'Kinza', 'Ali', 'Sara'],\n",
        "    'Age': [25, 22, 27, 30]\n",
        "})\n",
        "\n",
        "print(\"Original:\")\n",
        "print(df)\n",
        "\n",
        "df_unique= df.drop_duplicates(subset=['Name'], keep='last')\n",
        "print(df_unique)"
      ],
      "metadata": {
        "colab": {
          "base_uri": "https://localhost:8080/"
        },
        "id": "SQ7kqTP-CvII",
        "outputId": "e82b8087-6920-450a-cee2-31ea3bda723b"
      },
      "execution_count": null,
      "outputs": [
        {
          "output_type": "stream",
          "name": "stdout",
          "text": [
            "Original:\n",
            "    Name  Age\n",
            "0    Ali   25\n",
            "1  Kinza   22\n",
            "2    Ali   27\n",
            "3   Sara   30\n",
            "    Name  Age\n",
            "1  Kinza   22\n",
            "2    Ali   27\n",
            "3   Sara   30\n"
          ]
        }
      ]
    },
    {
      "cell_type": "markdown",
      "source": [
        "**apply & lambda function:**\n",
        "\n",
        "✅ Using .apply() with a Series (Single Column)\n"
      ],
      "metadata": {
        "id": "KYehVplxRh_a"
      }
    },
    {
      "cell_type": "code",
      "source": [
        "import pandas as pd\n",
        "\n",
        "df = pd.DataFrame({\n",
        "    'Marks': [80, 60, 90]\n",
        "})\n",
        "\n",
        "# Apply a lambda to multiply each mark by 2\n",
        "df['Double'] = df['Marks'].apply(lambda x: x * 2)\n",
        "print(df)\n",
        "df['Grade'] = df['Marks'].apply(lambda x: 'A' if x >= 70 else 'B')\n",
        "print(df)\n"
      ],
      "metadata": {
        "colab": {
          "base_uri": "https://localhost:8080/"
        },
        "id": "yxBo52dfSRoZ",
        "outputId": "7fe9b8a8-78f2-4490-c520-f26e5fa07b54"
      },
      "execution_count": null,
      "outputs": [
        {
          "output_type": "stream",
          "name": "stdout",
          "text": [
            "   Marks  Double\n",
            "0     80     160\n",
            "1     60     120\n",
            "2     90     180\n",
            "   Marks  Double Grade\n",
            "0     80     160     A\n",
            "1     60     120     B\n",
            "2     90     180     A\n"
          ]
        }
      ]
    },
    {
      "cell_type": "markdown",
      "source": [
        "✅ Using .apply() on Rows or Columns of a DataFrame:\n",
        "\n",
        "You can use .apply() on the full DataFrame, and set the axis:\n",
        "\n",
        "axis=0 → apply to columns\n",
        "\n",
        "axis=1 → apply to rows"
      ],
      "metadata": {
        "id": "DH7UvEtqSo1i"
      }
    },
    {
      "cell_type": "code",
      "source": [
        "df = pd.DataFrame({\n",
        "    'Math': [80, 60, 90],\n",
        "    'Science': [85, 75, 95]\n",
        "})\n",
        "\n",
        "# Row-wise total using lambda (sum of marks)\n",
        "df['Total'] = df.apply(lambda row: row['Math'] + row['Science'], axis=1)\n",
        "print(df)"
      ],
      "metadata": {
        "colab": {
          "base_uri": "https://localhost:8080/"
        },
        "id": "Tc5_jWEQSmi7",
        "outputId": "4620649e-45dd-49c2-8a6d-c7ef95e99fbd"
      },
      "execution_count": null,
      "outputs": [
        {
          "output_type": "stream",
          "name": "stdout",
          "text": [
            "   Math  Science  Total\n",
            "0    80       85    165\n",
            "1    60       75    135\n",
            "2    90       95    185\n"
          ]
        }
      ]
    },
    {
      "cell_type": "code",
      "source": [
        "import pandas as pd\n",
        "data = {\n",
        "    \"Name\": [\"Ali\", \"Sara\", \"John\", \"Fatima\", \"David\", \"Ayesha\"],\n",
        "    \"Age\": [25, 22, 28, 21, 30, 24],\n",
        "    \"City\": [\"Lahore\", \"Karachi\", \"Islamabad\", \"Lahore\", \"Karachi\", \"Multan\"],\n",
        "    \"Gender\": [\"Male\", \"Female\", \"Male\", \"Female\", \"Male\", \"Female\"],\n",
        "    \"Salary\": [50000,60000,70000,40000,35000,60000],\n",
        "    \"Department\": [\"CS\",\"MT\",\"CS\",\"EE\",\"CS\",\"HR\"]\n",
        "}\n",
        "\n",
        "df= pd.DataFrame(data)\n",
        "print(df)\n",
        "\n",
        "df[\"Age Group\"] = pd.cut(df[\"Age\"], bins = [0,25,29,100],labels = [\"Young\",\"Middle-Aged\",\"Old\"])\n",
        "print(df)"
      ],
      "metadata": {
        "colab": {
          "base_uri": "https://localhost:8080/"
        },
        "id": "p2NbFZRGQ8eL",
        "outputId": "f129737f-7c9a-4eb3-bdcf-86e27242e30c"
      },
      "execution_count": null,
      "outputs": [
        {
          "output_type": "stream",
          "name": "stdout",
          "text": [
            "     Name  Age       City  Gender  Salary Department\n",
            "0     Ali   25     Lahore    Male   50000         CS\n",
            "1    Sara   22    Karachi  Female   60000         MT\n",
            "2    John   28  Islamabad    Male   70000         CS\n",
            "3  Fatima   21     Lahore  Female   40000         EE\n",
            "4   David   30    Karachi    Male   35000         CS\n",
            "5  Ayesha   24     Multan  Female   60000         HR\n",
            "     Name  Age       City  Gender  Salary Department    Age Group\n",
            "0     Ali   25     Lahore    Male   50000         CS        Young\n",
            "1    Sara   22    Karachi  Female   60000         MT        Young\n",
            "2    John   28  Islamabad    Male   70000         CS  Middle-Aged\n",
            "3  Fatima   21     Lahore  Female   40000         EE        Young\n",
            "4   David   30    Karachi    Male   35000         CS          Old\n",
            "5  Ayesha   24     Multan  Female   60000         HR        Young\n"
          ]
        }
      ]
    },
    {
      "cell_type": "markdown",
      "source": [
        "**Join with suffixes:**"
      ],
      "metadata": {
        "id": "72ndMX8-UzO3"
      }
    },
    {
      "cell_type": "code",
      "source": [
        "import pandas as pd\n",
        "# First DataFrame\n",
        "df1 = pd.DataFrame({\n",
        "    'ID': [1, 2],\n",
        "    'Name': ['Ali', 'Zara'],\n",
        "    'City': ['Lahore', 'Karachi']\n",
        "})\n",
        "# Second DataFrame\n",
        "df2 = pd.DataFrame({\n",
        "    'ID': [1, 2],\n",
        "    'Name': ['Ahmed', 'Sara'],\n",
        "    'City': ['Multan', 'Islamabad']\n",
        "})\n",
        "# Merge with suffixes\n",
        "merged_df = pd.merge(df1, df2, on='ID', suffixes=('_left', '_right'))\n",
        "print(merged_df)"
      ],
      "metadata": {
        "colab": {
          "base_uri": "https://localhost:8080/"
        },
        "id": "BWPfLNx5U8Ja",
        "outputId": "0665d6bc-978b-4f87-fdb9-2952c92cf305"
      },
      "execution_count": null,
      "outputs": [
        {
          "output_type": "stream",
          "name": "stdout",
          "text": [
            "   ID Name_left City_left Name_right City_right\n",
            "0   1       Ali    Lahore      Ahmed     Multan\n",
            "1   2      Zara   Karachi       Sara  Islamabad\n"
          ]
        }
      ]
    },
    {
      "cell_type": "markdown",
      "source": [
        "**Mini Project:**\n",
        "\n",
        "Create a Pandas Series from seeing the Python_Score column.\n",
        "\n",
        "Display the mean Python score using the Series.\n",
        "\n",
        "Load the project_scores.csv file into a DataFrame.\n",
        "\n",
        "Show only the first 3 rows of the DataFrame.\n",
        "\n",
        "Show only the Name and ML_Score columns.\n",
        "\n",
        "Add a new column called Total_Score which is the sum of Python, ML, and AI scores for each student.\n",
        "\n",
        "Replace all missing (NaN) scores with 0.\n",
        "\n",
        "Add a column Result with value:\n",
        "\n",
        "'Pass' if Total_Score ≥ 240\n",
        "\n",
        "'Fail' otherwise\n",
        "\n",
        "Display only students from the CS department who passed.\n",
        "\n",
        "Sort the DataFrame by Total_Score in descending order.\n",
        "\n",
        "Save the final cleaned DataFrame to a new file called final_results.csv."
      ],
      "metadata": {
        "id": "EHb5qKsiMQ5z"
      }
    },
    {
      "cell_type": "code",
      "source": [
        "import pandas as pd\n",
        "\n",
        "df= pd.read_excel(\"/content/project_scores.xlsx\")\n",
        "print(df)\n",
        "\n",
        "python_series = df[\"Python_Score\"]\n",
        "pythonscore_mean = df[\"Python_Score\"].mean()\n",
        "print(\"The mean is:\")\n",
        "print(pythonscore_mean)\n",
        "\n",
        "print(\"The first 3 rows of the Data frame:\")\n",
        "print(df.head(3))\n",
        "\n",
        "print(df[[\"Name\",\"ML_Score\"]])\n",
        "\n",
        "df[\"Total_Score\"] = df[\"Python_Score\"]+ df[\"ML_Score\"] + df[\"AI_Score\"]\n",
        "print(\"Added new column Total_Score\")\n",
        "print(df)\n",
        "\n",
        "print(df.isnull().sum())\n",
        "print(\"Filled NaN with value= 0\")\n",
        "df.fillna(value=0,inplace=True)\n",
        "print(df)\n",
        "\n",
        "print(\"Added the Result column:\")\n",
        "df[\"Result\"] = df[\"Total_Score\"].apply(lambda x: \"Pass\" if x>=240 else \"Fail\")\n",
        "print(df)\n",
        "\n",
        "cs_students= df[(df[\"Department\"] == \"CS\") & (df[\"Result\"] == \"Pass\")]\n",
        "print(cs_students)\n",
        "\n",
        "df.sort_values(by=\"Total_Score\",ascending=False,inplace=True)\n",
        "print(\"Sorted in descending order by Total_Score column:\")\n",
        "print(df)\n",
        "\n",
        "df.to_csv(\"final_results.csv\")\n",
        "print(\"Saved the cleaned Data Frame into final_results.csv file\")"
      ],
      "metadata": {
        "colab": {
          "base_uri": "https://localhost:8080/"
        },
        "id": "DKR58E3xMl85",
        "outputId": "502e1fe7-63ad-4443-fd8d-6fa6e7ca501b"
      },
      "execution_count": null,
      "outputs": [
        {
          "output_type": "stream",
          "name": "stdout",
          "text": [
            "    ID    Name Department  Age  Python_Score  ML_Score  AI_Score\n",
            "0  101  Ayesha         CS   21          85.0      90.0       NaN\n",
            "1  102     Ali         IT   22          78.0       NaN      88.0\n",
            "2  103    Sara         CS   20          92.0      95.0      94.0\n",
            "3  104    John         SE   23           NaN      88.0      84.0\n",
            "4  105    Omer         CS   24          69.0      75.0      72.0\n",
            "The mean is:\n",
            "81.0\n",
            "The first 3 rows of the Data frame:\n",
            "    ID    Name Department  Age  Python_Score  ML_Score  AI_Score\n",
            "0  101  Ayesha         CS   21          85.0      90.0       NaN\n",
            "1  102     Ali         IT   22          78.0       NaN      88.0\n",
            "2  103    Sara         CS   20          92.0      95.0      94.0\n",
            "     Name  ML_Score\n",
            "0  Ayesha      90.0\n",
            "1     Ali       NaN\n",
            "2    Sara      95.0\n",
            "3    John      88.0\n",
            "4    Omer      75.0\n",
            "Added new column Total_Score\n",
            "    ID    Name Department  Age  Python_Score  ML_Score  AI_Score  Total_Score\n",
            "0  101  Ayesha         CS   21          85.0      90.0       NaN          NaN\n",
            "1  102     Ali         IT   22          78.0       NaN      88.0          NaN\n",
            "2  103    Sara         CS   20          92.0      95.0      94.0        281.0\n",
            "3  104    John         SE   23           NaN      88.0      84.0          NaN\n",
            "4  105    Omer         CS   24          69.0      75.0      72.0        216.0\n",
            "ID              0\n",
            "Name            0\n",
            "Department      0\n",
            "Age             0\n",
            "Python_Score    1\n",
            "ML_Score        1\n",
            "AI_Score        1\n",
            "Total_Score     3\n",
            "dtype: int64\n",
            "Filled NaN with value= 0\n",
            "    ID    Name Department  Age  Python_Score  ML_Score  AI_Score  Total_Score\n",
            "0  101  Ayesha         CS   21          85.0      90.0       0.0          0.0\n",
            "1  102     Ali         IT   22          78.0       0.0      88.0          0.0\n",
            "2  103    Sara         CS   20          92.0      95.0      94.0        281.0\n",
            "3  104    John         SE   23           0.0      88.0      84.0          0.0\n",
            "4  105    Omer         CS   24          69.0      75.0      72.0        216.0\n",
            "Added the Result column:\n",
            "    ID    Name Department  Age  Python_Score  ML_Score  AI_Score  Total_Score  \\\n",
            "0  101  Ayesha         CS   21          85.0      90.0       0.0          0.0   \n",
            "1  102     Ali         IT   22          78.0       0.0      88.0          0.0   \n",
            "2  103    Sara         CS   20          92.0      95.0      94.0        281.0   \n",
            "3  104    John         SE   23           0.0      88.0      84.0          0.0   \n",
            "4  105    Omer         CS   24          69.0      75.0      72.0        216.0   \n",
            "\n",
            "  Result  \n",
            "0   Fail  \n",
            "1   Fail  \n",
            "2   Pass  \n",
            "3   Fail  \n",
            "4   Fail  \n",
            "    ID  Name Department  Age  Python_Score  ML_Score  AI_Score  Total_Score  \\\n",
            "2  103  Sara         CS   20          92.0      95.0      94.0        281.0   \n",
            "\n",
            "  Result  \n",
            "2   Pass  \n",
            "Sorted in descending order by Total_Score column:\n",
            "    ID    Name Department  Age  Python_Score  ML_Score  AI_Score  Total_Score  \\\n",
            "2  103    Sara         CS   20          92.0      95.0      94.0        281.0   \n",
            "4  105    Omer         CS   24          69.0      75.0      72.0        216.0   \n",
            "0  101  Ayesha         CS   21          85.0      90.0       0.0          0.0   \n",
            "1  102     Ali         IT   22          78.0       0.0      88.0          0.0   \n",
            "3  104    John         SE   23           0.0      88.0      84.0          0.0   \n",
            "\n",
            "  Result  \n",
            "2   Pass  \n",
            "4   Fail  \n",
            "0   Fail  \n",
            "1   Fail  \n",
            "3   Fail  \n",
            "Saved the cleaned Data Frame into final_results.csv file\n"
          ]
        }
      ]
    },
    {
      "cell_type": "markdown",
      "source": [
        "# ML WEEK-02 DAY-04 + DAY -05"
      ],
      "metadata": {
        "id": "KNFI_b4rDQIh"
      }
    },
    {
      "cell_type": "markdown",
      "source": [
        "**✅ pivot()**\n",
        "\n",
        "Used when your data is already clean and there's no duplication in the index/column combinations.\n",
        "\n",
        "It does not allow aggregation, and will throw an error if duplicate entries are found."
      ],
      "metadata": {
        "id": "WO3r8Fjh-dup"
      }
    },
    {
      "cell_type": "markdown",
      "source": [
        "For this example:\n",
        "\n",
        "**🔹 index**\n",
        "Think of this as the rows in your new table.\n",
        "\n",
        "Each unique value in the index column(s) becomes a row label.\n",
        "\n",
        "✅ Example:\n",
        "If you use index=\"Department\" → each department gets its own row.\n",
        "\n",
        "**🔹 columns**\n",
        "These are the column headers in your pivoted table.\n",
        "\n",
        "Each unique value in the columns field becomes a new column.\n",
        "\n",
        "✅ Example:\n",
        "If you use columns=\"Gender\" → you'll get separate columns for \"Male\" and \"Female\".\n",
        "\n",
        "**🔹 values**\n",
        "These fill the cells of the pivoted table.\n",
        "\n",
        "It’s the data you want to summarize or display.\n",
        "\n",
        "✅ Example:\n",
        "If you use values=\"Salary\" → the actual salary numbers are placed in the table.\n",
        "\n",
        "| Feature        | Value                         |\n",
        "| -------------- | ----------------------------- |\n",
        "| Function       | `pd.pivot()`                  |\n",
        "| Purpose        | Reshape data (no aggregation) |\n",
        "| Rows (`index`) | Department                    |\n",
        "| Columns        | Gender                        |\n",
        "| Values         | Salary                        |\n",
        "| Output         | Salary values in table format |\n",
        "| Limitation     | Fails if duplicates exist     |"
      ],
      "metadata": {
        "id": "oBUOxb_8_jCW"
      }
    },
    {
      "cell_type": "code",
      "source": [
        "import pandas as pd\n",
        "data = {\n",
        "    \"Name\": [\"Ali\", \"Sara\", \"John\", \"Fatima\", \"David\", \"Ayesha\"],\n",
        "    \"Age\": [25, 22, 28, 21, 30, 24],\n",
        "    \"City\": [\"Lahore\", \"Karachi\", \"Islamabad\", \"Paris\", \"New York\", \"Multan\"],\n",
        "    \"Gender\": [\"Male\", \"Female\", \"Male\", \"Female\", \"Male\", \"Female\"],\n",
        "    \"Salary\": [50000,60000,70000,40000,35000,60000],\n",
        "    \"Department\": [\"CS\",\"MT\",\"AI\",\"EE\",\"DS\",\"HR\"]\n",
        "}\n",
        "df = pd.DataFrame(data)\n",
        "print(df)\n",
        "\n",
        "basic_pivot1 = pd.pivot(df,index=\"Department\",columns=\"Gender\",values=\"Salary\")\n",
        "print(basic_pivot1)\n",
        "\n",
        "basic_pivot2 = pd.pivot(df,index=\"City\",columns=\"Department\",values=\"Salary\")\n",
        "print(basic_pivot2)"
      ],
      "metadata": {
        "colab": {
          "base_uri": "https://localhost:8080/"
        },
        "id": "uywd5ygR-gv4",
        "outputId": "7d3ca57e-d3f6-4bb9-e33b-946d3409dd89"
      },
      "execution_count": null,
      "outputs": [
        {
          "output_type": "stream",
          "name": "stdout",
          "text": [
            "     Name  Age       City  Gender  Salary Department\n",
            "0     Ali   25     Lahore    Male   50000         CS\n",
            "1    Sara   22    Karachi  Female   60000         MT\n",
            "2    John   28  Islamabad    Male   70000         AI\n",
            "3  Fatima   21      Paris  Female   40000         EE\n",
            "4   David   30   New York    Male   35000         DS\n",
            "5  Ayesha   24     Multan  Female   60000         HR\n",
            "Gender       Female     Male\n",
            "Department                  \n",
            "AI              NaN  70000.0\n",
            "CS              NaN  50000.0\n",
            "DS              NaN  35000.0\n",
            "EE          40000.0      NaN\n",
            "HR          60000.0      NaN\n",
            "MT          60000.0      NaN\n",
            "Department       AI       CS       DS       EE       HR       MT\n",
            "City                                                            \n",
            "Islamabad   70000.0      NaN      NaN      NaN      NaN      NaN\n",
            "Karachi         NaN      NaN      NaN      NaN      NaN  60000.0\n",
            "Lahore          NaN  50000.0      NaN      NaN      NaN      NaN\n",
            "Multan          NaN      NaN      NaN      NaN  60000.0      NaN\n",
            "New York        NaN      NaN  35000.0      NaN      NaN      NaN\n",
            "Paris           NaN      NaN      NaN  40000.0      NaN      NaN\n"
          ]
        }
      ]
    },
    {
      "cell_type": "markdown",
      "source": [
        "**🔷 What is a Pivot Table?**\n",
        "\n",
        "A pivot table in pandas helps you summarize and analyze your data, especially when it's long format (rows contain repeated values).\n",
        "\n",
        "Unlike pivot(), pivot_table():\n",
        "\n",
        "✅ Handles duplicates\n",
        "\n",
        "✅ Supports aggregation (like sum, mean, count, etc.)\n",
        "\n",
        "✅ Much more flexible and safe for real-world messy data\n",
        "\n",
        "**🔧 Syntax of pivot_table():**\n",
        "\n",
        "pd.pivot_table(data, index=None, columns=None, values=None, aggfunc='mean')\n",
        "\n",
        "**Parameters:**\n",
        "\n",
        "| Parameter | Description                                              |\n",
        "| --------- | -------------------------------------------------------- |\n",
        "| `data`    | The DataFrame                                            |\n",
        "| `index`   | What becomes the row (like \"Department\")                 |\n",
        "| `columns` | What becomes the column (like \"Gender\")                  |\n",
        "| `values`  | What fills the cells (like \"Salary\")                     |\n",
        "| `aggfunc` | Aggregation function: `'mean'`, `'sum'`, `'count'`, etc. |"
      ],
      "metadata": {
        "id": "cB69TEPsz1Y3"
      }
    },
    {
      "cell_type": "code",
      "source": [
        "import pandas as pd\n",
        "data = {\n",
        "    \"Name\": [\"Ali\", \"Sara\", \"John\", \"Fatima\", \"David\", \"Ayesha\"],\n",
        "    \"Age\": [25, 22, 28, 21, 30, 24],\n",
        "    \"City\": [\"Lahore\", \"Karachi\", \"Islamabad\", \"Paris\", \"New York\", \"Multan\"],\n",
        "    \"Gender\": [\"Male\", \"Female\", \"Male\", \"Female\", \"Male\", \"Female\"],\n",
        "    \"Salary\": [50000,60000,70000,40000,35000,60000],\n",
        "    \"Department\": [\"CS\",\"MT\",\"CS\",\"EE\",\"CS\",\"HR\"]\n",
        "}\n",
        "df = pd.DataFrame(data)\n",
        "print(df)\n",
        "\n",
        "pivtable = pd.pivot_table(df,index = \"Department\",columns=\"City\",values=\"Salary\",aggfunc=\"sum\")\n",
        "print(pivtable)\n",
        "\n",
        "pivtable = pd.pivot_table(df,index = \"Department\",columns=\"Gender\",values=\"Salary\",aggfunc=\"mean\")\n",
        "print(pivtable)\n",
        "\n",
        "\n",
        "pivtable = pd.pivot_table(df,index = \"Department\",columns=[\"Gender\",\"City\"],values=\"Salary\",aggfunc=\"mean\",margins=True)\n",
        "print(pivtable)\n",
        "\n",
        "pivtable = pd.pivot_table(df,index = \"Department\",columns=\"Gender\",values=\"Salary\",aggfunc=\"mean\",margins=True)\n",
        "print(pivtable)\n",
        "\n",
        "\n",
        "pivtable = pd.pivot_table(df,index = \"Department\",columns=\"Gender\",values=\"Salary\",aggfunc=[\"mean\",\"count\",\"sum\"],margins=True)\n",
        "print(pivtable)"
      ],
      "metadata": {
        "colab": {
          "base_uri": "https://localhost:8080/"
        },
        "id": "9gVUIqFCA0uR",
        "outputId": "c6fe1782-6c83-4f5f-d125-95baa357d2f2"
      },
      "execution_count": null,
      "outputs": [
        {
          "output_type": "stream",
          "name": "stdout",
          "text": [
            "     Name  Age       City  Gender  Salary Department\n",
            "0     Ali   25     Lahore    Male   50000         CS\n",
            "1    Sara   22    Karachi  Female   60000         MT\n",
            "2    John   28  Islamabad    Male   70000         CS\n",
            "3  Fatima   21      Paris  Female   40000         EE\n",
            "4   David   30   New York    Male   35000         CS\n",
            "5  Ayesha   24     Multan  Female   60000         HR\n",
            "City        Islamabad  Karachi   Lahore   Multan  New York    Paris\n",
            "Department                                                         \n",
            "CS            70000.0      NaN  50000.0      NaN   35000.0      NaN\n",
            "EE                NaN      NaN      NaN      NaN       NaN  40000.0\n",
            "HR                NaN      NaN      NaN  60000.0       NaN      NaN\n",
            "MT                NaN  60000.0      NaN      NaN       NaN      NaN\n",
            "Gender       Female          Male\n",
            "Department                       \n",
            "CS              NaN  51666.666667\n",
            "EE          40000.0           NaN\n",
            "HR          60000.0           NaN\n",
            "MT          60000.0           NaN\n",
            "Gender       Female                        Male                    \\\n",
            "City        Karachi   Multan    Paris Islamabad   Lahore New York   \n",
            "Department                                                          \n",
            "CS              NaN      NaN      NaN   70000.0  50000.0  35000.0   \n",
            "EE              NaN      NaN  40000.0       NaN      NaN      NaN   \n",
            "HR              NaN  60000.0      NaN       NaN      NaN      NaN   \n",
            "MT          60000.0      NaN      NaN       NaN      NaN      NaN   \n",
            "All         60000.0  60000.0  40000.0   70000.0  50000.0  35000.0   \n",
            "\n",
            "Gender               All  \n",
            "City                      \n",
            "Department                \n",
            "CS          51666.666667  \n",
            "EE          40000.000000  \n",
            "HR          60000.000000  \n",
            "MT          60000.000000  \n",
            "All         52500.000000  \n",
            "Gender            Female          Male           All\n",
            "Department                                          \n",
            "CS                   NaN  51666.666667  51666.666667\n",
            "EE          40000.000000           NaN  40000.000000\n",
            "HR          60000.000000           NaN  60000.000000\n",
            "MT          60000.000000           NaN  60000.000000\n",
            "All         53333.333333  51666.666667  52500.000000\n",
            "                    mean                              count           \\\n",
            "Gender            Female          Male           All Female Male All   \n",
            "Department                                                             \n",
            "CS                   NaN  51666.666667  51666.666667    NaN  3.0   3   \n",
            "EE          40000.000000           NaN  40000.000000    1.0  NaN   1   \n",
            "HR          60000.000000           NaN  60000.000000    1.0  NaN   1   \n",
            "MT          60000.000000           NaN  60000.000000    1.0  NaN   1   \n",
            "All         53333.333333  51666.666667  52500.000000    3.0  3.0   6   \n",
            "\n",
            "                 sum                    \n",
            "Gender        Female      Male     All  \n",
            "Department                              \n",
            "CS               NaN  155000.0  155000  \n",
            "EE           40000.0       NaN   40000  \n",
            "HR           60000.0       NaN   60000  \n",
            "MT           60000.0       NaN   60000  \n",
            "All         160000.0  155000.0  315000  \n"
          ]
        }
      ]
    },
    {
      "cell_type": "markdown",
      "source": [
        "**Data Reshaping using pd.melt():**\n",
        "\n",
        "pd.melt(frame, id_vars=None, value_vars=None, var_name=None, value_name='value')\n",
        "\n",
        "\n",
        "| Parameter    | Description                                                              |\n",
        "| ------------ | ------------------------------------------------------------------------ |\n",
        "| `frame`      | The DataFrame to melt.                                                   |\n",
        "| `id_vars`    | Columns to keep **as-is** (these will remain as identifier columns).     |\n",
        "| `value_vars` | Columns to **unpivot** (converted into two columns: variable and value). |\n",
        "| `var_name`   | Name of the new column holding the names of the melted columns.          |\n",
        "| `value_name` | Name of the new column holding the values of the melted columns.         |"
      ],
      "metadata": {
        "id": "Hw5O5W_4irZx"
      }
    },
    {
      "cell_type": "code",
      "source": [
        "import pandas as pd\n",
        "wide_data = {\n",
        "    \"Name\" : [\"Ali\",\"Sara\"],\n",
        "    \"Maths\": [80,90],\n",
        "    \"Science\": [60,65],\n",
        "    \"English\": [70,75]\n",
        "}\n",
        "df = pd.DataFrame(wide_data)\n",
        "print(df)\n",
        "\n",
        "# Convert it to long format\n",
        "long_data = pd.melt(df,id_vars=\"Name\",var_name=\"Subject\",value_name=\"Marks\")\n",
        "print(long_data)"
      ],
      "metadata": {
        "colab": {
          "base_uri": "https://localhost:8080/"
        },
        "id": "ADGWVAGNiqv2",
        "outputId": "cdc550c8-5aaf-4c03-95c3-6f81ef533195"
      },
      "execution_count": null,
      "outputs": [
        {
          "output_type": "stream",
          "name": "stdout",
          "text": [
            "   Name  Maths  Science  English\n",
            "0   Ali     80       60       70\n",
            "1  Sara     90       65       75\n",
            "   Name  Subject  Marks\n",
            "0   Ali    Maths     80\n",
            "1  Sara    Maths     90\n",
            "2   Ali  Science     60\n",
            "3  Sara  Science     65\n",
            "4   Ali  English     70\n",
            "5  Sara  English     75\n"
          ]
        }
      ]
    },
    {
      "cell_type": "markdown",
      "source": [
        "**DateTime:**\n",
        "\n"
      ],
      "metadata": {
        "id": "FiPekyOekfwu"
      }
    },
    {
      "cell_type": "code",
      "source": [
        "import pandas as pd\n",
        "data = {\n",
        "    'order_id': [101, 102, 103],\n",
        "    'order_date': ['2024-12-01', '2025-01-15', '2025-03-30'],\n",
        "    'delivery_date': ['2024-12-05', '2025-01-20', '2025-04-02']\n",
        "}\n",
        "df = pd.DataFrame(data)\n",
        "print(df)\n",
        "\n",
        "# 1. Convert to datetime\n",
        "df['order_date'] = pd.to_datetime(df['order_date'])\n",
        "df['delivery_date'] = pd.to_datetime(df['delivery_date'])\n",
        "\n",
        "# 2. Extract components\n",
        "df['year'] = df['order_date'].dt.year\n",
        "df['month'] = df['order_date'].dt.month\n",
        "df['day_name'] = df['order_date'].dt.day_name()\n",
        "print(df)\n",
        "\n",
        "# 3. Date arithmetic\n",
        "df['delivery_days'] = (df['delivery_date'] - df['order_date']).dt.days\n",
        "df['order_plus_7'] = df['order_date'] + pd.Timedelta(days=7)\n",
        "print(df)"
      ],
      "metadata": {
        "colab": {
          "base_uri": "https://localhost:8080/"
        },
        "id": "mhi8ILaFjHvR",
        "outputId": "93f25f2c-ccba-4c1b-fe43-b32940078732"
      },
      "execution_count": null,
      "outputs": [
        {
          "output_type": "stream",
          "name": "stdout",
          "text": [
            "   order_id  order_date delivery_date\n",
            "0       101  2024-12-01    2024-12-05\n",
            "1       102  2025-01-15    2025-01-20\n",
            "2       103  2025-03-30    2025-04-02\n",
            "   order_id order_date delivery_date  year  month   day_name\n",
            "0       101 2024-12-01    2024-12-05  2024     12     Sunday\n",
            "1       102 2025-01-15    2025-01-20  2025      1  Wednesday\n",
            "2       103 2025-03-30    2025-04-02  2025      3     Sunday\n",
            "   order_id order_date delivery_date  year  month   day_name  delivery_days  \\\n",
            "0       101 2024-12-01    2024-12-05  2024     12     Sunday              4   \n",
            "1       102 2025-01-15    2025-01-20  2025      1  Wednesday              5   \n",
            "2       103 2025-03-30    2025-04-02  2025      3     Sunday              3   \n",
            "\n",
            "  order_plus_7  \n",
            "0   2024-12-08  \n",
            "1   2025-01-22  \n",
            "2   2025-04-06  \n"
          ]
        }
      ]
    },
    {
      "cell_type": "markdown",
      "source": [
        "**Data Cleaning essentials:**"
      ],
      "metadata": {
        "id": "Cabjr33ElYrc"
      }
    },
    {
      "cell_type": "markdown",
      "source": [
        "| Topic               | Method Used                                 |\n",
        "| ------------------- | ------------------------------------------- |\n",
        "| Missing Values      | `dropna()`, `fillna()`                      |\n",
        "| Datatype Conversion | `astype()`, `to_datetime()`                 |\n",
        "| String Cleaning     | `str.strip()`, `str.lower()`, `str.title()` |\n",
        "| Duplicate Handling  | `drop_duplicates()`                         |\n",
        "| Index Resetting     | `reset_index()`                             |\n",
        "| Column Renaming     | `rename()`                                  |\n"
      ],
      "metadata": {
        "id": "5eRKyJe_owOF"
      }
    },
    {
      "cell_type": "code",
      "source": [
        "import pandas as pd\n",
        "import numpy as np\n",
        "data = {\n",
        "    'Name': ['  Ali', 'Sara ', 'JOHN', 'NaN', None],\n",
        "    'Age': [25, np.nan, 30, 28, None],\n",
        "    'City': ['Lahore', 'Karachi', np.nan, 'Islamabad', 'Lahore'],\n",
        "    'Gender': ['Male', 'Female', 'MALE', 'Female', 'male'],\n",
        "    'Joined': ['2024-01-01', 'not_a_date', '2024-03-15', '2024-03-20', '2024-04-01']\n",
        "}\n",
        "df = pd.DataFrame(data)\n",
        "print(df)\n",
        "\n",
        "df = df.dropna(subset=[\"Name\"])\n",
        "print(df)\n",
        "df[\"Age\"] = df[\"Age\"].fillna(df[\"Age\"].mean())\n",
        "print(df)\n",
        "df[\"Gender\"] = df[\"Gender\"].fillna(df[\"Gender\"].mode())\n",
        "print(df)\n",
        "df[\"City\"] = df[\"City\"].fillna(\"Unknown\")\n",
        "print(df)\n",
        "\n",
        "# Fix datatypes\n",
        "df[\"Age\"] = df[\"Age\"].astype(int)\n",
        "print(df)\n",
        "df[\"Joined\"] = pd.to_datetime(df[\"Joined\"],errors=\"coerce\")\n",
        "print(df)\n",
        "\n",
        "# Clean Strings\n",
        "df[\"Gender\"] = df[\"Gender\"].str.capitalize()\n",
        "print(df)\n",
        "df[\"Name\"] = df[\"Name\"].str.title()\n",
        "print(df)\n",
        "\n",
        "df = df.drop_duplicates()\n",
        "print(df)\n",
        "\n",
        "df.reset_index(drop=True,inplace=True)\n",
        "print(df)\n",
        "\n",
        "df.rename(columns={\"Joined\":\"Join Date\"},inplace = True)\n",
        "print(df)\n",
        "print(\"Cleaned Data\")"
      ],
      "metadata": {
        "colab": {
          "base_uri": "https://localhost:8080/"
        },
        "id": "CsJ5M_FXlehd",
        "outputId": "b9147e36-32f4-47e2-a920-51fcb0ac64c2"
      },
      "execution_count": null,
      "outputs": [
        {
          "output_type": "stream",
          "name": "stdout",
          "text": [
            "    Name   Age       City  Gender      Joined\n",
            "0    Ali  25.0     Lahore    Male  2024-01-01\n",
            "1  Sara    NaN    Karachi  Female  not_a_date\n",
            "2   JOHN  30.0        NaN    MALE  2024-03-15\n",
            "3    NaN  28.0  Islamabad  Female  2024-03-20\n",
            "4   None   NaN     Lahore    male  2024-04-01\n",
            "    Name   Age       City  Gender      Joined\n",
            "0    Ali  25.0     Lahore    Male  2024-01-01\n",
            "1  Sara    NaN    Karachi  Female  not_a_date\n",
            "2   JOHN  30.0        NaN    MALE  2024-03-15\n",
            "3    NaN  28.0  Islamabad  Female  2024-03-20\n",
            "    Name        Age       City  Gender      Joined\n",
            "0    Ali  25.000000     Lahore    Male  2024-01-01\n",
            "1  Sara   27.666667    Karachi  Female  not_a_date\n",
            "2   JOHN  30.000000        NaN    MALE  2024-03-15\n",
            "3    NaN  28.000000  Islamabad  Female  2024-03-20\n",
            "    Name        Age       City  Gender      Joined\n",
            "0    Ali  25.000000     Lahore    Male  2024-01-01\n",
            "1  Sara   27.666667    Karachi  Female  not_a_date\n",
            "2   JOHN  30.000000        NaN    MALE  2024-03-15\n",
            "3    NaN  28.000000  Islamabad  Female  2024-03-20\n",
            "    Name        Age       City  Gender      Joined\n",
            "0    Ali  25.000000     Lahore    Male  2024-01-01\n",
            "1  Sara   27.666667    Karachi  Female  not_a_date\n",
            "2   JOHN  30.000000    Unknown    MALE  2024-03-15\n",
            "3    NaN  28.000000  Islamabad  Female  2024-03-20\n",
            "    Name  Age       City  Gender      Joined\n",
            "0    Ali   25     Lahore    Male  2024-01-01\n",
            "1  Sara    27    Karachi  Female  not_a_date\n",
            "2   JOHN   30    Unknown    MALE  2024-03-15\n",
            "3    NaN   28  Islamabad  Female  2024-03-20\n",
            "    Name  Age       City  Gender     Joined\n",
            "0    Ali   25     Lahore    Male 2024-01-01\n",
            "1  Sara    27    Karachi  Female        NaT\n",
            "2   JOHN   30    Unknown    MALE 2024-03-15\n",
            "3    NaN   28  Islamabad  Female 2024-03-20\n",
            "    Name  Age       City  Gender     Joined\n",
            "0    Ali   25     Lahore    Male 2024-01-01\n",
            "1  Sara    27    Karachi  Female        NaT\n",
            "2   JOHN   30    Unknown    Male 2024-03-15\n",
            "3    NaN   28  Islamabad  Female 2024-03-20\n",
            "    Name  Age       City  Gender     Joined\n",
            "0    Ali   25     Lahore    Male 2024-01-01\n",
            "1  Sara    27    Karachi  Female        NaT\n",
            "2   John   30    Unknown    Male 2024-03-15\n",
            "3    Nan   28  Islamabad  Female 2024-03-20\n",
            "    Name  Age       City  Gender     Joined\n",
            "0    Ali   25     Lahore    Male 2024-01-01\n",
            "1  Sara    27    Karachi  Female        NaT\n",
            "2   John   30    Unknown    Male 2024-03-15\n",
            "3    Nan   28  Islamabad  Female 2024-03-20\n",
            "    Name  Age       City  Gender     Joined\n",
            "0    Ali   25     Lahore    Male 2024-01-01\n",
            "1  Sara    27    Karachi  Female        NaT\n",
            "2   John   30    Unknown    Male 2024-03-15\n",
            "3    Nan   28  Islamabad  Female 2024-03-20\n",
            "    Name  Age       City  Gender  Join Date\n",
            "0    Ali   25     Lahore    Male 2024-01-01\n",
            "1  Sara    27    Karachi  Female        NaT\n",
            "2   John   30    Unknown    Male 2024-03-15\n",
            "3    Nan   28  Islamabad  Female 2024-03-20\n",
            "Cleaned Data\n"
          ]
        }
      ]
    },
    {
      "cell_type": "code",
      "source": [
        "import pandas as pd\n",
        "\n",
        "messy_data = pd.DataFrame({\n",
        "    'ID': [1.521,1, 2, 3, 4, 5, 5, 6, 7, 1],  # Duplicate ID\n",
        "    'Name': ['Alice Johnson','Alice Johnson', 'bob smith', 'CHARLIE BROWN', 'diana prince', None, 'eve adams', 'Frank Miller', 'grace hopper', 'henry ford'],\n",
        "    'Age': [25,25, 30, 35, None, 28, 28, 31, None, 45],\n",
        "    'Email': ['alice@email.com','alice@email.com', 'bob@email.com', 'charlie@EMAIL.COM', 'diana@email.com', 'eve@email.com', 'eve@email.com', None, 'grace@email.com', 'henry@email'],\n",
        "    'Salary': [50000,50000, 55000, None, 48000, 52000, 52000, 60000, '65000', 70000],\n",
        "    'Join_Date': ['2020-01-15','2020-01-15', '2019-05-20', '2018-13-10', '2021-07-01', None, '2020-11-30', '2022-03-15', '2021-09-10', '2023-01-20']\n",
        "})\n",
        "print(\"Uncleaned Data:\")\n",
        "print(messy_data)\n",
        "\n",
        "df = messy_data.copy()\n",
        "\n",
        "df[\"ID\"] = df[\"ID\"].round().astype(int)\n",
        "df[\"Age\"] = df[\"Age\"].fillna(df[\"Age\"].mean())\n",
        "df[\"Age\"] = df[\"Age\"].astype(int)\n",
        "df[\"Join_Date\"] = pd.to_datetime(df[\"Join_Date\"], errors= \"coerce\")\n",
        "df[\"Salary\"] = pd.to_numeric(df[\"Salary\"],errors=\"coerce\")\n",
        "df[\"Salary\"] = df[\"Salary\"].fillna(df[\"Salary\"].mean())\n",
        "df[\"Email\"] = df[\"Email\"].fillna(\"Unknown\")\n",
        "df[\"Email\"] = df[\"Email\"].str.lower()\n",
        "df[\"Name\"] = df[\"Name\"].fillna(\"Unknown Unknown\")\n",
        "df[\"Name\"] = df[\"Name\"].str.title()\n",
        "df[[\"First Name\",\"Last Name\"]] = df[\"Name\"].str.split(\" \",n=1,expand = True)\n",
        "df[\"Name\"] = df[\"Name\"].str.title()\n",
        "df = df.drop_duplicates(subset= [\"Name\",\"Email\"])\n",
        "print(\"Cleaned Data:\")\n",
        "print(df)"
      ],
      "metadata": {
        "colab": {
          "base_uri": "https://localhost:8080/"
        },
        "id": "oriizKMQR7VL",
        "outputId": "70a76df6-2ee8-40c1-8a43-4f9e08e65ca9"
      },
      "execution_count": null,
      "outputs": [
        {
          "output_type": "stream",
          "name": "stdout",
          "text": [
            "Uncleaned Data:\n",
            "      ID           Name   Age              Email Salary   Join_Date\n",
            "0  1.521  Alice Johnson  25.0    alice@email.com  50000  2020-01-15\n",
            "1  1.000  Alice Johnson  25.0    alice@email.com  50000  2020-01-15\n",
            "2  2.000      bob smith  30.0      bob@email.com  55000  2019-05-20\n",
            "3  3.000  CHARLIE BROWN  35.0  charlie@EMAIL.COM   None  2018-13-10\n",
            "4  4.000   diana prince   NaN    diana@email.com  48000  2021-07-01\n",
            "5  5.000           None  28.0      eve@email.com  52000        None\n",
            "6  5.000      eve adams  28.0      eve@email.com  52000  2020-11-30\n",
            "7  6.000   Frank Miller  31.0               None  60000  2022-03-15\n",
            "8  7.000   grace hopper   NaN    grace@email.com  65000  2021-09-10\n",
            "9  1.000     henry ford  45.0        henry@email  70000  2023-01-20\n",
            "Cleaned Data:\n",
            "   ID             Name  Age              Email        Salary  Join_Date  \\\n",
            "0   2    Alice Johnson   25    alice@email.com  50000.000000 2020-01-15   \n",
            "2   2        Bob Smith   30      bob@email.com  55000.000000 2019-05-20   \n",
            "3   3    Charlie Brown   35  charlie@email.com  55777.777778        NaT   \n",
            "4   4     Diana Prince   30    diana@email.com  48000.000000 2021-07-01   \n",
            "5   5  Unknown Unknown   28      eve@email.com  52000.000000        NaT   \n",
            "6   5        Eve Adams   28      eve@email.com  52000.000000 2020-11-30   \n",
            "7   6     Frank Miller   31            unknown  60000.000000 2022-03-15   \n",
            "8   7     Grace Hopper   30    grace@email.com  65000.000000 2021-09-10   \n",
            "9   1       Henry Ford   45        henry@email  70000.000000 2023-01-20   \n",
            "\n",
            "  First Name Last Name  \n",
            "0      Alice   Johnson  \n",
            "2        Bob     Smith  \n",
            "3    Charlie     Brown  \n",
            "4      Diana    Prince  \n",
            "5    Unknown   Unknown  \n",
            "6        Eve     Adams  \n",
            "7      Frank    Miller  \n",
            "8      Grace    Hopper  \n",
            "9      Henry      Ford  \n"
          ]
        }
      ]
    },
    {
      "cell_type": "markdown",
      "source": [
        "| Function           | Description                             |\n",
        "| ------------------ | --------------------------------------- |\n",
        "| `str.lower()`      | All lowercase                           |\n",
        "| `str.upper()`      | All uppercase                           |\n",
        "| `str.title()`      | First letter capitalized in each word   |\n",
        "| `str.capitalize()` | Capitalize first letter of whole string |"
      ],
      "metadata": {
        "id": "PLR5SS4fWwAt"
      }
    },
    {
      "cell_type": "markdown",
      "source": [
        "**.str.strip()**\n",
        "\n",
        "Purpose: Removes leading and trailing whitespace (or characters).\n",
        "Series.str.strip(to_strip=None)\n",
        "\n",
        "| Argument   | Description                                                     |\n",
        "| ---------- | --------------------------------------------------------------- |\n",
        "| `to_strip` | Characters to remove (default: whitespace). E.g., `\"!\"`, `\"*@\"` |\n",
        "\n",
        "s = pd.Series([\"  hello  \", \"**wow**\"])\n",
        "\n",
        "s.str.strip()         # removes spaces\n",
        "\n",
        "s.str.strip(\"*\")      # removes '*' from both ends\n",
        "\n",
        "**.str.lstrip() / .str.rstrip()**\n",
        "\n",
        "Purpose: Remove characters only from the left or right.\n",
        "\n",
        "Series.str.lstrip(to_strip=None)\n",
        "Series.str.rstrip(to_strip=None)\n",
        "\n",
        "**.str.replace()**\n",
        "\n",
        "Purpose: Replace parts of strings using a substring or regex pattern\n",
        "\n",
        "Series.str.replace(pat, repl, n=-1, case=None, regex=True)\n",
        "\n",
        "| Argument | Description                              |\n",
        "| -------- | ---------------------------------------- |\n",
        "| `pat`    | Pattern to match (string or regex)       |\n",
        "| `repl`   | Replacement string                       |\n",
        "| `n`      | Max replacements per string (-1 = all)   |\n",
        "| `case`   | Match case-sensitively (if `regex=True`) |\n",
        "| `regex`  | If `True`, treats `pat` as regex         |\n",
        "\n",
        "s = pd.Series([\"hello123\"])\n",
        "\n",
        "s.str.replace(r\"\\d+\", \"\", regex=True)  # → \"hello\"\n",
        "\n",
        "**.str.split()**\n",
        "Purpose: Split strings into lists or separate columns\n",
        "\n",
        "Series.str.split(pat=None, n=-1, expand=False)\n",
        "\n",
        "| Argument | Description                          |\n",
        "| -------- | ------------------------------------ |\n",
        "| `pat`    | Delimiter (default: any whitespace)  |\n",
        "| `n`      | Max splits (-1 means all)            |\n",
        "| `expand` | If `True`, returns DataFrame columns |\n",
        "\n",
        "s = pd.Series([\"John Smith\"])\n",
        "\n",
        "s.str.split(\" \", n=1, expand=True)"
      ],
      "metadata": {
        "id": "aD5tuAx6XUcE"
      }
    }
  ]
}